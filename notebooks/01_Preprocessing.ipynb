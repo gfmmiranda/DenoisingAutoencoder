{
 "cells": [
  {
   "cell_type": "markdown",
   "metadata": {},
   "source": [
    "## Computing and Saving Spectrograms - VOiCES Dataset"
   ]
  },
  {
   "cell_type": "code",
   "execution_count": 2,
   "metadata": {},
   "outputs": [],
   "source": [
    "# === CONFIGURATION ===\n",
    "DATASET_ROOT = \"/media/gabriel/'500 BKP'/datasets/VOICES-DataSet/VOiCES_devkit\"\n",
    "OUT_DIR = \"/media/gabriel/'500 BKP'/datasets/VOICES-DataSet/preprocessed_complex\"\n",
    "\n",
    "N_FFT = 512\n",
    "HOP_LENGTH = 128\n",
    "WIN_LENGTH = 512\n",
    "SAMPLE_RATE = 16000"
   ]
  },
  {
   "cell_type": "code",
   "execution_count": 3,
   "metadata": {},
   "outputs": [
    {
     "name": "stdout",
     "output_type": "stream",
     "text": [
      "[train] Processing speakers: 100%|████████████| 200/200 [00:38<00:00,  5.18it/s]\n",
      "[test] Processing speakers: 100%|█████████████| 100/100 [00:21<00:00,  4.62it/s]\n"
     ]
    }
   ],
   "source": [
    "!python ../src/dataprocess/preprocess_VOiCES.py {DATASET_ROOT} {OUT_DIR} {N_FFT} {HOP_LENGTH} {WIN_LENGTH}"
   ]
  },
  {
   "cell_type": "markdown",
   "metadata": {},
   "source": [
    "## Computing and Saving Spectrograms - SNSD Dataset"
   ]
  },
  {
   "cell_type": "code",
   "execution_count": 5,
   "metadata": {},
   "outputs": [],
   "source": [
    "# === CONFIGURATION ===\n",
    "DATASET_ROOT = \"/media/gabriel/'500 BKP'/datasets/SNSD-DataSet/raw\"\n",
    "OUT_DIR = \"/media/gabriel/'500 BKP'/datasets/SNSD-DataSet/preprocessed\"\n",
    "\n",
    "N_FFT = 512\n",
    "HOP_LENGTH = 128\n",
    "WIN_LENGTH = 512\n",
    "SAMPLE_RATE = 16000"
   ]
  },
  {
   "cell_type": "code",
   "execution_count": 6,
   "metadata": {},
   "outputs": [
    {
     "name": "stdout",
     "output_type": "stream",
     "text": [
      "[validation] Processing clean files: 100%|████| 240/240 [00:05<00:00, 44.32it/s]\n",
      "[validation] Processing noisy files: 100%|██| 1200/1200 [00:21<00:00, 56.53it/s]\n",
      "[test] Processing clean files: 100%|██████████| 241/241 [00:04<00:00, 56.65it/s]\n",
      "[test] Processing noisy files: 100%|████████| 1205/1205 [00:21<00:00, 55.88it/s]\n"
     ]
    }
   ],
   "source": [
    "!python ../src/dataprocess/preprocess_SNSD.py {DATASET_ROOT} {OUT_DIR} {N_FFT} {HOP_LENGTH} {WIN_LENGTH}"
   ]
  }
 ],
 "metadata": {
  "kernelspec": {
   "display_name": "venv_audio",
   "language": "python",
   "name": "python3"
  },
  "language_info": {
   "codemirror_mode": {
    "name": "ipython",
    "version": 3
   },
   "file_extension": ".py",
   "mimetype": "text/x-python",
   "name": "python",
   "nbconvert_exporter": "python",
   "pygments_lexer": "ipython3",
   "version": "3.7.16"
  },
  "orig_nbformat": 4
 },
 "nbformat": 4,
 "nbformat_minor": 2
}
