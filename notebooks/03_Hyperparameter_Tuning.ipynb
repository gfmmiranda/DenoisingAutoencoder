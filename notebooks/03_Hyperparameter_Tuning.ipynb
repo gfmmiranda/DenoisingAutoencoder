{
 "cells": [
  {
   "cell_type": "code",
   "execution_count": 1,
   "metadata": {},
   "outputs": [],
   "source": [
    "%load_ext autoreload\n",
    "%autoreload 2"
   ]
  },
  {
   "cell_type": "code",
   "execution_count": 2,
   "metadata": {},
   "outputs": [
    {
     "name": "stderr",
     "output_type": "stream",
     "text": [
      "/home/gabriel/miniconda3/envs/venv_audio/lib/python3.7/site-packages/tqdm/auto.py:22: TqdmWarning: IProgress not found. Please update jupyter and ipywidgets. See https://ipywidgets.readthedocs.io/en/stable/user_install.html\n",
      "  from .autonotebook import tqdm as notebook_tqdm\n"
     ]
    }
   ],
   "source": [
    "import sys\n",
    "\n",
    "sys.path.append(\"..\")\n",
    "\n",
    "import os\n",
    "import optuna\n",
    "import torch\n",
    "import wandb\n",
    "import gc\n",
    "\n",
    "from src.training import train_model\n",
    "from src.models.model_unet import UNet\n",
    "from src.dataprocess.torch_dataset_SNSD import DenoisingSpectrogramDataset\n",
    "from torch.utils.data import DataLoader\n",
    "\n",
    "# Path to Dataset\n",
    "DATA_DIR = \"/media/gabriel/500 BKP/datasets/SNSD-DataSet/preprocessed\"\n",
    "CHECKPOINTS_DIR = os.path.dirname(os.getcwd()) + \"/checkpoints\"\n"
   ]
  },
  {
   "cell_type": "code",
   "execution_count": 3,
   "metadata": {},
   "outputs": [
    {
     "name": "stderr",
     "output_type": "stream",
     "text": [
      "\u001b[34m\u001b[1mwandb\u001b[0m: Using wandb-core as the SDK backend.  Please refer to https://wandb.me/wandb-core for more information.\n",
      "\u001b[34m\u001b[1mwandb\u001b[0m: Currently logged in as: \u001b[33mgfiuzaa\u001b[0m (\u001b[33mgfiuzaa-universidade-federal-do-rio-de-janeiro\u001b[0m). Use \u001b[1m`wandb login --relogin`\u001b[0m to force relogin\n"
     ]
    },
    {
     "data": {
      "text/plain": [
       "True"
      ]
     },
     "execution_count": 3,
     "metadata": {},
     "output_type": "execute_result"
    }
   ],
   "source": [
    "wandb.login()"
   ]
  },
  {
   "cell_type": "code",
   "execution_count": 4,
   "metadata": {},
   "outputs": [],
   "source": [
    "# Dataset\n",
    "TARGET_FRAMES = 1024\n",
    "train_dataset = DenoisingSpectrogramDataset(DATA_DIR, 'train', TARGET_FRAMES)\n",
    "val_dataset = DenoisingSpectrogramDataset(DATA_DIR, 'validation', TARGET_FRAMES)\n",
    "\n",
    "# Optuna\n",
    "def objective(trial):\n",
    "    # Search Space\n",
    "    base_filters = trial.suggest_categorical('base_filters', [16, 32])\n",
    "    depth = trial.suggest_int('depth', 3, 5)\n",
    "    dropout_rate = trial.suggest_float('dropout_rate', 0.0, 0.3)\n",
    "    lr = trial.suggest_float('lr', 1e-5, 1e-3, log=True)\n",
    "    batch_size = trial.suggest_categorical('batch_size', [8, 16])\n",
    "\n",
    "    # wandb logging\n",
    "    wandb.init(project='audio-denoising', config={\n",
    "        'base_filters': base_filters,\n",
    "        'depth': depth,\n",
    "        'dropout_rate': dropout_rate,\n",
    "        'lr': lr,\n",
    "        'batch_size': batch_size\n",
    "    }, reinit=True)\n",
    "\n",
    "    # Dataloader\n",
    "    train_loader = DataLoader(train_dataset, batch_size=batch_size, shuffle=True, persistent_workers=False)\n",
    "    val_loader = DataLoader(val_dataset, batch_size=batch_size, shuffle=False, persistent_workers=False)\n",
    "\n",
    "    # Model\n",
    "    device = torch.device(\"cuda\" if torch.cuda.is_available() else \"cpu\")\n",
    "    model = UNet(\n",
    "        in_channels=1,\n",
    "        out_channels=1,\n",
    "        base_filters=base_filters,\n",
    "        depth=depth,\n",
    "        dropout_rate=dropout_rate\n",
    "    ).to(device)\n",
    "\n",
    "    # Optimizer and loss\n",
    "    optimizer = torch.optim.Adam(model.parameters(), lr=lr)\n",
    "    scheduler = torch.optim.lr_scheduler.ReduceLROnPlateau(optimizer, factor=0.1, patience=2)\n",
    "    criterion = torch.nn.MSELoss()\n",
    "\n",
    "    # Train\n",
    "    model, train_losses, val_losses, best_val_loss = train_model(\n",
    "        model=model,\n",
    "        optimizer=optimizer,\n",
    "        criterion=criterion,\n",
    "        scheduler=scheduler,\n",
    "        device=device,\n",
    "        train_loader=train_loader,\n",
    "        train_dataset=train_dataset,\n",
    "        val_loader=val_loader,\n",
    "        val_dataset=val_dataset,\n",
    "        num_epochs=100,\n",
    "        early_stopping_patience=5,\n",
    "        audio_preview=False,\n",
    "        trial=trial,\n",
    "        save_dir=CHECKPOINTS_DIR\n",
    "    )\n",
    "\n",
    "    # Always clean up\n",
    "    if 'model' in locals():\n",
    "        model.cpu()\n",
    "        del model\n",
    "    if 'optimizer' in locals():\n",
    "        del optimizer\n",
    "    if 'scheduler' in locals():\n",
    "        del scheduler\n",
    "    if 'train_loader' in locals():\n",
    "        del train_loader\n",
    "    if 'val_loader' in locals():\n",
    "        del val_loader\n",
    "\n",
    "    torch.cuda.empty_cache()\n",
    "    torch.cuda.ipc_collect()\n",
    "    gc.collect()\n",
    "\n",
    "    wandb.finish()\n",
    "\n",
    "    return best_val_loss"
   ]
  },
  {
   "cell_type": "code",
   "execution_count": 5,
   "metadata": {},
   "outputs": [
    {
     "name": "stderr",
     "output_type": "stream",
     "text": [
      "[I 2025-04-27 13:52:09,955] A new study created in RDB with name: audio-denoising\n"
     ]
    },
    {
     "data": {
      "text/html": [
       "Tracking run with wandb version 0.18.7"
      ],
      "text/plain": [
       "<IPython.core.display.HTML object>"
      ]
     },
     "metadata": {},
     "output_type": "display_data"
    },
    {
     "data": {
      "text/html": [
       "Run data is saved locally in <code>/home/gabriel/VSProjects/audio_analysis/DenoisingAutoencoder/notebooks/wandb/run-20250427_135210-j9oljxp2</code>"
      ],
      "text/plain": [
       "<IPython.core.display.HTML object>"
      ]
     },
     "metadata": {},
     "output_type": "display_data"
    },
    {
     "data": {
      "text/html": [
       "Syncing run <strong><a href='https://wandb.ai/gfiuzaa-universidade-federal-do-rio-de-janeiro/audio-denoising/runs/j9oljxp2' target=\"_blank\">fragrant-spaceship-19</a></strong> to <a href='https://wandb.ai/gfiuzaa-universidade-federal-do-rio-de-janeiro/audio-denoising' target=\"_blank\">Weights & Biases</a> (<a href='https://wandb.me/developer-guide' target=\"_blank\">docs</a>)<br/>"
      ],
      "text/plain": [
       "<IPython.core.display.HTML object>"
      ]
     },
     "metadata": {},
     "output_type": "display_data"
    },
    {
     "data": {
      "text/html": [
       " View project at <a href='https://wandb.ai/gfiuzaa-universidade-federal-do-rio-de-janeiro/audio-denoising' target=\"_blank\">https://wandb.ai/gfiuzaa-universidade-federal-do-rio-de-janeiro/audio-denoising</a>"
      ],
      "text/plain": [
       "<IPython.core.display.HTML object>"
      ]
     },
     "metadata": {},
     "output_type": "display_data"
    },
    {
     "data": {
      "text/html": [
       " View run at <a href='https://wandb.ai/gfiuzaa-universidade-federal-do-rio-de-janeiro/audio-denoising/runs/j9oljxp2' target=\"_blank\">https://wandb.ai/gfiuzaa-universidade-federal-do-rio-de-janeiro/audio-denoising/runs/j9oljxp2</a>"
      ],
      "text/plain": [
       "<IPython.core.display.HTML object>"
      ]
     },
     "metadata": {},
     "output_type": "display_data"
    },
    {
     "name": "stdout",
     "output_type": "stream",
     "text": [
      "\n",
      "🔁 Epoch 1/100\n"
     ]
    },
    {
     "name": "stderr",
     "output_type": "stream",
     "text": [
      "                                                              \r"
     ]
    },
    {
     "name": "stdout",
     "output_type": "stream",
     "text": [
      "✅ Best model saved: /home/gabriel/VSProjects/audio_analysis/DenoisingAutoencoder/checkpoints/model_trial_0.pth (val loss: 0.0321)\n",
      "📉 Train Loss: 0.0836 | Val Loss: 0.0321\n",
      "🔧 Learning Rate: 0.000040\n",
      "\n",
      "🔁 Epoch 2/100\n"
     ]
    },
    {
     "name": "stderr",
     "output_type": "stream",
     "text": [
      "                                                              \r"
     ]
    },
    {
     "name": "stdout",
     "output_type": "stream",
     "text": [
      "✅ Best model saved: /home/gabriel/VSProjects/audio_analysis/DenoisingAutoencoder/checkpoints/model_trial_0.pth (val loss: 0.0290)\n",
      "📉 Train Loss: 0.0421 | Val Loss: 0.0290\n",
      "🔧 Learning Rate: 0.000040\n",
      "\n",
      "🔁 Epoch 3/100\n"
     ]
    },
    {
     "name": "stderr",
     "output_type": "stream",
     "text": [
      "                                                              \r"
     ]
    },
    {
     "name": "stdout",
     "output_type": "stream",
     "text": [
      "✅ Best model saved: /home/gabriel/VSProjects/audio_analysis/DenoisingAutoencoder/checkpoints/model_trial_0.pth (val loss: 0.0247)\n",
      "📉 Train Loss: 0.0347 | Val Loss: 0.0247\n",
      "🔧 Learning Rate: 0.000040\n",
      "\n",
      "🔁 Epoch 4/100\n"
     ]
    },
    {
     "name": "stderr",
     "output_type": "stream",
     "text": [
      "                                                              \r"
     ]
    },
    {
     "name": "stdout",
     "output_type": "stream",
     "text": [
      "✅ Best model saved: /home/gabriel/VSProjects/audio_analysis/DenoisingAutoencoder/checkpoints/model_trial_0.pth (val loss: 0.0239)\n",
      "📉 Train Loss: 0.0312 | Val Loss: 0.0239\n",
      "🔧 Learning Rate: 0.000040\n",
      "\n",
      "🔁 Epoch 5/100\n"
     ]
    },
    {
     "name": "stderr",
     "output_type": "stream",
     "text": [
      "                                                              \r"
     ]
    },
    {
     "name": "stdout",
     "output_type": "stream",
     "text": [
      "⚠️  No improvement for 1 epoch(s)\n",
      "📉 Train Loss: 0.0285 | Val Loss: 0.0247\n",
      "🔧 Learning Rate: 0.000040\n",
      "\n",
      "🔁 Epoch 6/100\n"
     ]
    },
    {
     "name": "stderr",
     "output_type": "stream",
     "text": [
      "                                                              \r"
     ]
    },
    {
     "name": "stdout",
     "output_type": "stream",
     "text": [
      "✅ Best model saved: /home/gabriel/VSProjects/audio_analysis/DenoisingAutoencoder/checkpoints/model_trial_0.pth (val loss: 0.0217)\n",
      "📉 Train Loss: 0.0267 | Val Loss: 0.0217\n",
      "🔧 Learning Rate: 0.000040\n",
      "\n",
      "🔁 Epoch 7/100\n"
     ]
    },
    {
     "name": "stderr",
     "output_type": "stream",
     "text": [
      "                                                              \r"
     ]
    },
    {
     "name": "stdout",
     "output_type": "stream",
     "text": [
      "⚠️  No improvement for 1 epoch(s)\n",
      "📉 Train Loss: 0.0252 | Val Loss: 0.0236\n",
      "🔧 Learning Rate: 0.000040\n",
      "\n",
      "🔁 Epoch 8/100\n"
     ]
    },
    {
     "name": "stderr",
     "output_type": "stream",
     "text": [
      "                                                              \r"
     ]
    },
    {
     "name": "stdout",
     "output_type": "stream",
     "text": [
      "✅ Best model saved: /home/gabriel/VSProjects/audio_analysis/DenoisingAutoencoder/checkpoints/model_trial_0.pth (val loss: 0.0210)\n",
      "📉 Train Loss: 0.0237 | Val Loss: 0.0210\n",
      "🔧 Learning Rate: 0.000040\n",
      "\n",
      "🔁 Epoch 9/100\n"
     ]
    },
    {
     "name": "stderr",
     "output_type": "stream",
     "text": [
      "                                                              \r"
     ]
    },
    {
     "name": "stdout",
     "output_type": "stream",
     "text": [
      "✅ Best model saved: /home/gabriel/VSProjects/audio_analysis/DenoisingAutoencoder/checkpoints/model_trial_0.pth (val loss: 0.0198)\n",
      "📉 Train Loss: 0.0227 | Val Loss: 0.0198\n",
      "🔧 Learning Rate: 0.000040\n",
      "\n",
      "🔁 Epoch 10/100\n"
     ]
    },
    {
     "name": "stderr",
     "output_type": "stream",
     "text": [
      "                                                              \r"
     ]
    },
    {
     "name": "stdout",
     "output_type": "stream",
     "text": [
      "✅ Best model saved: /home/gabriel/VSProjects/audio_analysis/DenoisingAutoencoder/checkpoints/model_trial_0.pth (val loss: 0.0194)\n",
      "📉 Train Loss: 0.0217 | Val Loss: 0.0194\n",
      "🔧 Learning Rate: 0.000040\n",
      "\n",
      "🔁 Epoch 11/100\n"
     ]
    },
    {
     "name": "stderr",
     "output_type": "stream",
     "text": [
      "                                                              \r"
     ]
    },
    {
     "name": "stdout",
     "output_type": "stream",
     "text": [
      "⚠️  No improvement for 1 epoch(s)\n",
      "📉 Train Loss: 0.0210 | Val Loss: 0.0230\n",
      "🔧 Learning Rate: 0.000040\n",
      "\n",
      "🔁 Epoch 12/100\n"
     ]
    },
    {
     "name": "stderr",
     "output_type": "stream",
     "text": [
      "                                                              \r"
     ]
    },
    {
     "name": "stdout",
     "output_type": "stream",
     "text": [
      "⚠️  No improvement for 2 epoch(s)\n",
      "📉 Train Loss: 0.0201 | Val Loss: 0.0210\n",
      "🔧 Learning Rate: 0.000040\n",
      "\n",
      "🔁 Epoch 13/100\n"
     ]
    },
    {
     "name": "stderr",
     "output_type": "stream",
     "text": [
      "                                                              \r"
     ]
    },
    {
     "name": "stdout",
     "output_type": "stream",
     "text": [
      "⚠️  No improvement for 3 epoch(s)\n",
      "📉 Train Loss: 0.0195 | Val Loss: 0.0197\n",
      "🔧 Learning Rate: 0.000004\n",
      "\n",
      "🔁 Epoch 14/100\n"
     ]
    },
    {
     "name": "stderr",
     "output_type": "stream",
     "text": [
      "                                                              \r"
     ]
    },
    {
     "name": "stdout",
     "output_type": "stream",
     "text": [
      "✅ Best model saved: /home/gabriel/VSProjects/audio_analysis/DenoisingAutoencoder/checkpoints/model_trial_0.pth (val loss: 0.0193)\n",
      "📉 Train Loss: 0.0188 | Val Loss: 0.0193\n",
      "🔧 Learning Rate: 0.000004\n",
      "\n",
      "🔁 Epoch 15/100\n"
     ]
    },
    {
     "name": "stderr",
     "output_type": "stream",
     "text": [
      "                                                              \r"
     ]
    },
    {
     "name": "stdout",
     "output_type": "stream",
     "text": [
      "✅ Best model saved: /home/gabriel/VSProjects/audio_analysis/DenoisingAutoencoder/checkpoints/model_trial_0.pth (val loss: 0.0187)\n",
      "📉 Train Loss: 0.0186 | Val Loss: 0.0187\n",
      "🔧 Learning Rate: 0.000004\n",
      "\n",
      "🔁 Epoch 16/100\n"
     ]
    },
    {
     "name": "stderr",
     "output_type": "stream",
     "text": [
      "                                                              \r"
     ]
    },
    {
     "name": "stdout",
     "output_type": "stream",
     "text": [
      "✅ Best model saved: /home/gabriel/VSProjects/audio_analysis/DenoisingAutoencoder/checkpoints/model_trial_0.pth (val loss: 0.0186)\n",
      "📉 Train Loss: 0.0186 | Val Loss: 0.0186\n",
      "🔧 Learning Rate: 0.000004\n",
      "\n",
      "🔁 Epoch 17/100\n"
     ]
    },
    {
     "name": "stderr",
     "output_type": "stream",
     "text": [
      "                                                              \r"
     ]
    },
    {
     "name": "stdout",
     "output_type": "stream",
     "text": [
      "⚠️  No improvement for 1 epoch(s)\n",
      "📉 Train Loss: 0.0185 | Val Loss: 0.0192\n",
      "🔧 Learning Rate: 0.000004\n",
      "\n",
      "🔁 Epoch 18/100\n"
     ]
    },
    {
     "name": "stderr",
     "output_type": "stream",
     "text": [
      "                                                              \r"
     ]
    },
    {
     "name": "stdout",
     "output_type": "stream",
     "text": [
      "✅ Best model saved: /home/gabriel/VSProjects/audio_analysis/DenoisingAutoencoder/checkpoints/model_trial_0.pth (val loss: 0.0182)\n",
      "📉 Train Loss: 0.0185 | Val Loss: 0.0182\n",
      "🔧 Learning Rate: 0.000004\n",
      "\n",
      "🔁 Epoch 19/100\n"
     ]
    },
    {
     "name": "stderr",
     "output_type": "stream",
     "text": [
      "                                                              \r"
     ]
    },
    {
     "name": "stdout",
     "output_type": "stream",
     "text": [
      "⚠️  No improvement for 1 epoch(s)\n",
      "📉 Train Loss: 0.0184 | Val Loss: 0.0191\n",
      "🔧 Learning Rate: 0.000004\n",
      "\n",
      "🔁 Epoch 20/100\n"
     ]
    },
    {
     "name": "stderr",
     "output_type": "stream",
     "text": [
      "                                                              \r"
     ]
    },
    {
     "name": "stdout",
     "output_type": "stream",
     "text": [
      "✅ Best model saved: /home/gabriel/VSProjects/audio_analysis/DenoisingAutoencoder/checkpoints/model_trial_0.pth (val loss: 0.0181)\n",
      "📉 Train Loss: 0.0183 | Val Loss: 0.0181\n",
      "🔧 Learning Rate: 0.000004\n",
      "\n",
      "🔁 Epoch 21/100\n"
     ]
    },
    {
     "name": "stderr",
     "output_type": "stream",
     "text": [
      "                                                              \r"
     ]
    },
    {
     "name": "stdout",
     "output_type": "stream",
     "text": [
      "⚠️  No improvement for 1 epoch(s)\n",
      "📉 Train Loss: 0.0182 | Val Loss: 0.0186\n",
      "🔧 Learning Rate: 0.000004\n",
      "\n",
      "🔁 Epoch 22/100\n"
     ]
    },
    {
     "name": "stderr",
     "output_type": "stream",
     "text": [
      "                                                              \r"
     ]
    },
    {
     "name": "stdout",
     "output_type": "stream",
     "text": [
      "⚠️  No improvement for 2 epoch(s)\n",
      "📉 Train Loss: 0.0181 | Val Loss: 0.0191\n",
      "🔧 Learning Rate: 0.000004\n",
      "\n",
      "🔁 Epoch 23/100\n"
     ]
    },
    {
     "name": "stderr",
     "output_type": "stream",
     "text": [
      "                                                              \r"
     ]
    },
    {
     "name": "stdout",
     "output_type": "stream",
     "text": [
      "⚠️  No improvement for 3 epoch(s)\n",
      "📉 Train Loss: 0.0181 | Val Loss: 0.0190\n",
      "🔧 Learning Rate: 0.000000\n",
      "\n",
      "🔁 Epoch 24/100\n"
     ]
    },
    {
     "name": "stderr",
     "output_type": "stream",
     "text": [
      "                                                              \r"
     ]
    },
    {
     "name": "stdout",
     "output_type": "stream",
     "text": [
      "⚠️  No improvement for 4 epoch(s)\n",
      "📉 Train Loss: 0.0180 | Val Loss: 0.0186\n",
      "🔧 Learning Rate: 0.000000\n",
      "\n",
      "🔁 Epoch 25/100\n"
     ]
    },
    {
     "name": "stderr",
     "output_type": "stream",
     "text": [
      "                                                              \r"
     ]
    },
    {
     "name": "stdout",
     "output_type": "stream",
     "text": [
      "⚠️  No improvement for 5 epoch(s)\n",
      "⛔️ Early stopping triggered.\n"
     ]
    },
    {
     "data": {
      "text/html": [
       "\n",
       "    <style>\n",
       "        .wandb-row {\n",
       "            display: flex;\n",
       "            flex-direction: row;\n",
       "            flex-wrap: wrap;\n",
       "            justify-content: flex-start;\n",
       "            width: 100%;\n",
       "        }\n",
       "        .wandb-col {\n",
       "            display: flex;\n",
       "            flex-direction: column;\n",
       "            flex-basis: 100%;\n",
       "            flex: 1;\n",
       "            padding: 10px;\n",
       "        }\n",
       "    </style>\n",
       "<div class=\"wandb-row\"><div class=\"wandb-col\"><h3>Run history:</h3><br/><table class=\"wandb\"><tr><td>train_loss</td><td>█▄▃▂▂▂▂▂▂▁▁▁▁▁▁▁▁▁▁▁▁▁▁▁</td></tr><tr><td>val_loss</td><td>█▆▄▄▄▃▄▂▂▂▃▂▂▂▁▁▂▁▁▁▁▁▁▁</td></tr></table><br/></div><div class=\"wandb-col\"><h3>Run summary:</h3><br/><table class=\"wandb\"><tr><td>train_loss</td><td>0.018</td></tr><tr><td>val_loss</td><td>0.01858</td></tr></table><br/></div></div>"
      ],
      "text/plain": [
       "<IPython.core.display.HTML object>"
      ]
     },
     "metadata": {},
     "output_type": "display_data"
    },
    {
     "data": {
      "text/html": [
       " View run <strong style=\"color:#cdcd00\">fragrant-spaceship-19</strong> at: <a href='https://wandb.ai/gfiuzaa-universidade-federal-do-rio-de-janeiro/audio-denoising/runs/j9oljxp2' target=\"_blank\">https://wandb.ai/gfiuzaa-universidade-federal-do-rio-de-janeiro/audio-denoising/runs/j9oljxp2</a><br/> View project at: <a href='https://wandb.ai/gfiuzaa-universidade-federal-do-rio-de-janeiro/audio-denoising' target=\"_blank\">https://wandb.ai/gfiuzaa-universidade-federal-do-rio-de-janeiro/audio-denoising</a><br/>Synced 5 W&B file(s), 0 media file(s), 0 artifact file(s) and 0 other file(s)"
      ],
      "text/plain": [
       "<IPython.core.display.HTML object>"
      ]
     },
     "metadata": {},
     "output_type": "display_data"
    },
    {
     "data": {
      "text/html": [
       "Find logs at: <code>./wandb/run-20250427_135210-j9oljxp2/logs</code>"
      ],
      "text/plain": [
       "<IPython.core.display.HTML object>"
      ]
     },
     "metadata": {},
     "output_type": "display_data"
    },
    {
     "name": "stderr",
     "output_type": "stream",
     "text": [
      "[I 2025-04-27 14:38:09,321] Trial 0 finished with value: 0.01814770502348741 and parameters: {'base_filters': 32, 'depth': 3, 'dropout_rate': 0.10899035794816855, 'lr': 4.0421205624297427e-05, 'batch_size': 8}. Best is trial 0 with value: 0.01814770502348741.\n"
     ]
    },
    {
     "data": {
      "text/html": [
       "Tracking run with wandb version 0.18.7"
      ],
      "text/plain": [
       "<IPython.core.display.HTML object>"
      ]
     },
     "metadata": {},
     "output_type": "display_data"
    },
    {
     "data": {
      "text/html": [
       "Run data is saved locally in <code>/home/gabriel/VSProjects/audio_analysis/DenoisingAutoencoder/notebooks/wandb/run-20250427_143809-vzqiy15q</code>"
      ],
      "text/plain": [
       "<IPython.core.display.HTML object>"
      ]
     },
     "metadata": {},
     "output_type": "display_data"
    },
    {
     "data": {
      "text/html": [
       "Syncing run <strong><a href='https://wandb.ai/gfiuzaa-universidade-federal-do-rio-de-janeiro/audio-denoising/runs/vzqiy15q' target=\"_blank\">vibrant-forest-20</a></strong> to <a href='https://wandb.ai/gfiuzaa-universidade-federal-do-rio-de-janeiro/audio-denoising' target=\"_blank\">Weights & Biases</a> (<a href='https://wandb.me/developer-guide' target=\"_blank\">docs</a>)<br/>"
      ],
      "text/plain": [
       "<IPython.core.display.HTML object>"
      ]
     },
     "metadata": {},
     "output_type": "display_data"
    },
    {
     "data": {
      "text/html": [
       " View project at <a href='https://wandb.ai/gfiuzaa-universidade-federal-do-rio-de-janeiro/audio-denoising' target=\"_blank\">https://wandb.ai/gfiuzaa-universidade-federal-do-rio-de-janeiro/audio-denoising</a>"
      ],
      "text/plain": [
       "<IPython.core.display.HTML object>"
      ]
     },
     "metadata": {},
     "output_type": "display_data"
    },
    {
     "data": {
      "text/html": [
       " View run at <a href='https://wandb.ai/gfiuzaa-universidade-federal-do-rio-de-janeiro/audio-denoising/runs/vzqiy15q' target=\"_blank\">https://wandb.ai/gfiuzaa-universidade-federal-do-rio-de-janeiro/audio-denoising/runs/vzqiy15q</a>"
      ],
      "text/plain": [
       "<IPython.core.display.HTML object>"
      ]
     },
     "metadata": {},
     "output_type": "display_data"
    },
    {
     "name": "stdout",
     "output_type": "stream",
     "text": [
      "\n",
      "🔁 Epoch 1/100\n"
     ]
    },
    {
     "name": "stderr",
     "output_type": "stream",
     "text": [
      "                                                              \r"
     ]
    },
    {
     "name": "stdout",
     "output_type": "stream",
     "text": [
      "✅ Best model saved: /home/gabriel/VSProjects/audio_analysis/DenoisingAutoencoder/checkpoints/model_trial_1.pth (val loss: 0.6919)\n",
      "📉 Train Loss: 1.0016 | Val Loss: 0.6919\n",
      "🔧 Learning Rate: 0.000011\n",
      "\n",
      "🔁 Epoch 2/100\n"
     ]
    },
    {
     "name": "stderr",
     "output_type": "stream",
     "text": [
      "                                                              \r"
     ]
    },
    {
     "name": "stdout",
     "output_type": "stream",
     "text": [
      "✅ Best model saved: /home/gabriel/VSProjects/audio_analysis/DenoisingAutoencoder/checkpoints/model_trial_1.pth (val loss: 0.4802)\n",
      "📉 Train Loss: 0.5594 | Val Loss: 0.4802\n",
      "🔧 Learning Rate: 0.000011\n",
      "\n",
      "🔁 Epoch 3/100\n"
     ]
    },
    {
     "name": "stderr",
     "output_type": "stream",
     "text": [
      "                                                              \r"
     ]
    },
    {
     "name": "stdout",
     "output_type": "stream",
     "text": [
      "✅ Best model saved: /home/gabriel/VSProjects/audio_analysis/DenoisingAutoencoder/checkpoints/model_trial_1.pth (val loss: 0.3735)\n",
      "📉 Train Loss: 0.4078 | Val Loss: 0.3735\n",
      "🔧 Learning Rate: 0.000011\n",
      "\n",
      "🔁 Epoch 4/100\n"
     ]
    },
    {
     "name": "stderr",
     "output_type": "stream",
     "text": [
      "                                                              \r"
     ]
    },
    {
     "name": "stdout",
     "output_type": "stream",
     "text": [
      "✅ Best model saved: /home/gabriel/VSProjects/audio_analysis/DenoisingAutoencoder/checkpoints/model_trial_1.pth (val loss: 0.3439)\n",
      "📉 Train Loss: 0.3400 | Val Loss: 0.3439\n",
      "🔧 Learning Rate: 0.000011\n",
      "\n",
      "🔁 Epoch 5/100\n"
     ]
    },
    {
     "name": "stderr",
     "output_type": "stream",
     "text": [
      "                                                              \r"
     ]
    },
    {
     "name": "stdout",
     "output_type": "stream",
     "text": [
      "✅ Best model saved: /home/gabriel/VSProjects/audio_analysis/DenoisingAutoencoder/checkpoints/model_trial_1.pth (val loss: 0.2599)\n",
      "📉 Train Loss: 0.3002 | Val Loss: 0.2599\n",
      "🔧 Learning Rate: 0.000011\n",
      "\n",
      "🔁 Epoch 6/100\n"
     ]
    },
    {
     "name": "stderr",
     "output_type": "stream",
     "text": [
      "                                                              \r"
     ]
    },
    {
     "name": "stdout",
     "output_type": "stream",
     "text": [
      "✅ Best model saved: /home/gabriel/VSProjects/audio_analysis/DenoisingAutoencoder/checkpoints/model_trial_1.pth (val loss: 0.2275)\n",
      "📉 Train Loss: 0.2630 | Val Loss: 0.2275\n",
      "🔧 Learning Rate: 0.000011\n",
      "\n",
      "🔁 Epoch 7/100\n"
     ]
    },
    {
     "name": "stderr",
     "output_type": "stream",
     "text": [
      "                                                              \r"
     ]
    },
    {
     "name": "stdout",
     "output_type": "stream",
     "text": [
      "✅ Best model saved: /home/gabriel/VSProjects/audio_analysis/DenoisingAutoencoder/checkpoints/model_trial_1.pth (val loss: 0.1929)\n",
      "📉 Train Loss: 0.2246 | Val Loss: 0.1929\n",
      "🔧 Learning Rate: 0.000011\n",
      "\n",
      "🔁 Epoch 8/100\n"
     ]
    },
    {
     "name": "stderr",
     "output_type": "stream",
     "text": [
      "                                                              \r"
     ]
    },
    {
     "name": "stdout",
     "output_type": "stream",
     "text": [
      "✅ Best model saved: /home/gabriel/VSProjects/audio_analysis/DenoisingAutoencoder/checkpoints/model_trial_1.pth (val loss: 0.1814)\n",
      "📉 Train Loss: 0.1973 | Val Loss: 0.1814\n",
      "🔧 Learning Rate: 0.000011\n",
      "\n",
      "🔁 Epoch 9/100\n"
     ]
    },
    {
     "name": "stderr",
     "output_type": "stream",
     "text": [
      "                                                              \r"
     ]
    },
    {
     "name": "stdout",
     "output_type": "stream",
     "text": [
      "✅ Best model saved: /home/gabriel/VSProjects/audio_analysis/DenoisingAutoencoder/checkpoints/model_trial_1.pth (val loss: 0.1558)\n",
      "📉 Train Loss: 0.1778 | Val Loss: 0.1558\n",
      "🔧 Learning Rate: 0.000011\n",
      "\n",
      "🔁 Epoch 10/100\n"
     ]
    },
    {
     "name": "stderr",
     "output_type": "stream",
     "text": [
      "                                                              \r"
     ]
    },
    {
     "name": "stdout",
     "output_type": "stream",
     "text": [
      "✅ Best model saved: /home/gabriel/VSProjects/audio_analysis/DenoisingAutoencoder/checkpoints/model_trial_1.pth (val loss: 0.1466)\n",
      "📉 Train Loss: 0.1625 | Val Loss: 0.1466\n",
      "🔧 Learning Rate: 0.000011\n",
      "\n",
      "🔁 Epoch 11/100\n"
     ]
    },
    {
     "name": "stderr",
     "output_type": "stream",
     "text": [
      "                                                              \r"
     ]
    },
    {
     "name": "stdout",
     "output_type": "stream",
     "text": [
      "✅ Best model saved: /home/gabriel/VSProjects/audio_analysis/DenoisingAutoencoder/checkpoints/model_trial_1.pth (val loss: 0.1372)\n",
      "📉 Train Loss: 0.1496 | Val Loss: 0.1372\n",
      "🔧 Learning Rate: 0.000011\n",
      "\n",
      "🔁 Epoch 12/100\n"
     ]
    },
    {
     "name": "stderr",
     "output_type": "stream",
     "text": [
      "                                                              \r"
     ]
    },
    {
     "name": "stdout",
     "output_type": "stream",
     "text": [
      "✅ Best model saved: /home/gabriel/VSProjects/audio_analysis/DenoisingAutoencoder/checkpoints/model_trial_1.pth (val loss: 0.1257)\n",
      "📉 Train Loss: 0.1386 | Val Loss: 0.1257\n",
      "🔧 Learning Rate: 0.000011\n",
      "\n",
      "🔁 Epoch 13/100\n"
     ]
    },
    {
     "name": "stderr",
     "output_type": "stream",
     "text": [
      "                                                              \r"
     ]
    },
    {
     "name": "stdout",
     "output_type": "stream",
     "text": [
      "⚠️  No improvement for 1 epoch(s)\n",
      "📉 Train Loss: 0.1289 | Val Loss: 0.1325\n",
      "🔧 Learning Rate: 0.000011\n",
      "\n",
      "🔁 Epoch 14/100\n"
     ]
    },
    {
     "name": "stderr",
     "output_type": "stream",
     "text": [
      "                                                              \r"
     ]
    },
    {
     "name": "stdout",
     "output_type": "stream",
     "text": [
      "✅ Best model saved: /home/gabriel/VSProjects/audio_analysis/DenoisingAutoencoder/checkpoints/model_trial_1.pth (val loss: 0.1033)\n",
      "📉 Train Loss: 0.1203 | Val Loss: 0.1033\n",
      "🔧 Learning Rate: 0.000011\n",
      "\n",
      "🔁 Epoch 15/100\n"
     ]
    },
    {
     "name": "stderr",
     "output_type": "stream",
     "text": [
      "                                                              \r"
     ]
    },
    {
     "name": "stdout",
     "output_type": "stream",
     "text": [
      "⚠️  No improvement for 1 epoch(s)\n",
      "📉 Train Loss: 0.1125 | Val Loss: 0.1038\n",
      "🔧 Learning Rate: 0.000011\n",
      "\n",
      "🔁 Epoch 16/100\n"
     ]
    },
    {
     "name": "stderr",
     "output_type": "stream",
     "text": [
      "                                                              \r"
     ]
    },
    {
     "name": "stdout",
     "output_type": "stream",
     "text": [
      "✅ Best model saved: /home/gabriel/VSProjects/audio_analysis/DenoisingAutoencoder/checkpoints/model_trial_1.pth (val loss: 0.0930)\n",
      "📉 Train Loss: 0.1057 | Val Loss: 0.0930\n",
      "🔧 Learning Rate: 0.000011\n",
      "\n",
      "🔁 Epoch 17/100\n"
     ]
    },
    {
     "name": "stderr",
     "output_type": "stream",
     "text": [
      "                                                              \r"
     ]
    },
    {
     "name": "stdout",
     "output_type": "stream",
     "text": [
      "⚠️  No improvement for 1 epoch(s)\n",
      "📉 Train Loss: 0.0995 | Val Loss: 0.0985\n",
      "🔧 Learning Rate: 0.000011\n",
      "\n",
      "🔁 Epoch 18/100\n"
     ]
    },
    {
     "name": "stderr",
     "output_type": "stream",
     "text": [
      "                                                              \r"
     ]
    },
    {
     "name": "stdout",
     "output_type": "stream",
     "text": [
      "✅ Best model saved: /home/gabriel/VSProjects/audio_analysis/DenoisingAutoencoder/checkpoints/model_trial_1.pth (val loss: 0.0809)\n",
      "📉 Train Loss: 0.0939 | Val Loss: 0.0809\n",
      "🔧 Learning Rate: 0.000011\n",
      "\n",
      "🔁 Epoch 19/100\n"
     ]
    },
    {
     "name": "stderr",
     "output_type": "stream",
     "text": [
      "                                                              \r"
     ]
    },
    {
     "name": "stdout",
     "output_type": "stream",
     "text": [
      "⚠️  No improvement for 1 epoch(s)\n",
      "📉 Train Loss: 0.0887 | Val Loss: 0.0847\n",
      "🔧 Learning Rate: 0.000011\n",
      "\n",
      "🔁 Epoch 20/100\n"
     ]
    },
    {
     "name": "stderr",
     "output_type": "stream",
     "text": [
      "                                                              \r"
     ]
    },
    {
     "name": "stdout",
     "output_type": "stream",
     "text": [
      "✅ Best model saved: /home/gabriel/VSProjects/audio_analysis/DenoisingAutoencoder/checkpoints/model_trial_1.pth (val loss: 0.0713)\n",
      "📉 Train Loss: 0.0840 | Val Loss: 0.0713\n",
      "🔧 Learning Rate: 0.000011\n",
      "\n",
      "🔁 Epoch 21/100\n"
     ]
    },
    {
     "name": "stderr",
     "output_type": "stream",
     "text": [
      "                                                              \r"
     ]
    },
    {
     "name": "stdout",
     "output_type": "stream",
     "text": [
      "✅ Best model saved: /home/gabriel/VSProjects/audio_analysis/DenoisingAutoencoder/checkpoints/model_trial_1.pth (val loss: 0.0699)\n",
      "📉 Train Loss: 0.0797 | Val Loss: 0.0699\n",
      "🔧 Learning Rate: 0.000011\n",
      "\n",
      "🔁 Epoch 22/100\n"
     ]
    },
    {
     "name": "stderr",
     "output_type": "stream",
     "text": [
      "                                                              \r"
     ]
    },
    {
     "name": "stdout",
     "output_type": "stream",
     "text": [
      "✅ Best model saved: /home/gabriel/VSProjects/audio_analysis/DenoisingAutoencoder/checkpoints/model_trial_1.pth (val loss: 0.0675)\n",
      "📉 Train Loss: 0.0759 | Val Loss: 0.0675\n",
      "🔧 Learning Rate: 0.000011\n",
      "\n",
      "🔁 Epoch 23/100\n"
     ]
    },
    {
     "name": "stderr",
     "output_type": "stream",
     "text": [
      "                                                              \r"
     ]
    },
    {
     "name": "stdout",
     "output_type": "stream",
     "text": [
      "✅ Best model saved: /home/gabriel/VSProjects/audio_analysis/DenoisingAutoencoder/checkpoints/model_trial_1.pth (val loss: 0.0614)\n",
      "📉 Train Loss: 0.0724 | Val Loss: 0.0614\n",
      "🔧 Learning Rate: 0.000011\n",
      "\n",
      "🔁 Epoch 24/100\n"
     ]
    },
    {
     "name": "stderr",
     "output_type": "stream",
     "text": [
      "                                                              \r"
     ]
    },
    {
     "name": "stdout",
     "output_type": "stream",
     "text": [
      "✅ Best model saved: /home/gabriel/VSProjects/audio_analysis/DenoisingAutoencoder/checkpoints/model_trial_1.pth (val loss: 0.0591)\n",
      "📉 Train Loss: 0.0694 | Val Loss: 0.0591\n",
      "🔧 Learning Rate: 0.000011\n",
      "\n",
      "🔁 Epoch 25/100\n"
     ]
    },
    {
     "name": "stderr",
     "output_type": "stream",
     "text": [
      "                                                              \r"
     ]
    },
    {
     "name": "stdout",
     "output_type": "stream",
     "text": [
      "✅ Best model saved: /home/gabriel/VSProjects/audio_analysis/DenoisingAutoencoder/checkpoints/model_trial_1.pth (val loss: 0.0561)\n",
      "📉 Train Loss: 0.0664 | Val Loss: 0.0561\n",
      "🔧 Learning Rate: 0.000011\n",
      "\n",
      "🔁 Epoch 26/100\n"
     ]
    },
    {
     "name": "stderr",
     "output_type": "stream",
     "text": [
      "Train Epoch:  54%|█████▍    | 83/154 [00:30<00:26,  2.70it/s]"
     ]
    }
   ],
   "source": [
    "study = optuna.create_study(\n",
    "    study_name=\"audio-denoising\",\n",
    "    direction=\"minimize\",\n",
    "    storage=\"sqlite:///optuna_trials.db\",\n",
    "    load_if_exists=False,\n",
    ")\n",
    "study.optimize(objective, n_trials=50, timeout=8*60*60)  # 8 hours"
   ]
  },
  {
   "cell_type": "code",
   "execution_count": null,
   "metadata": {},
   "outputs": [],
   "source": [
    "import optuna\n",
    "import pandas as pd\n",
    "\n",
    "def export_study_to_csv(study_path, study_name, out_csv=\"optuna_trials.csv\"):\n",
    "    study = optuna.load_study(study_name=study_name, storage=study_path)\n",
    "\n",
    "    rows = []\n",
    "    for trial in study.trials:\n",
    "        row = {\n",
    "            \"trial\": trial.number,\n",
    "            \"val_loss\": trial.value,\n",
    "            \"model_path\": trial.user_attrs.get(\"best_model_path\", \"N/A\")\n",
    "        }\n",
    "        # Add hyperparameters\n",
    "        row.update(trial.params)\n",
    "        rows.append(row)\n",
    "\n",
    "    df = pd.DataFrame(rows)\n",
    "    df = df.sort_values(\"val_loss\")\n",
    "    df.to_csv(out_csv, index=False)\n",
    "\n",
    "    print(f\"✅ Exported {len(df)} trials to {out_csv}\")"
   ]
  },
  {
   "cell_type": "code",
   "execution_count": null,
   "metadata": {},
   "outputs": [],
   "source": [
    "export_study_to_csv(\n",
    "    study_path=\"sqlite:///optuna_trials.db\",\n",
    "    study_name=\"audio-denoising\",\n",
    "    out_csv=os.path.dirname(os.getcwd()) + \"/tuning/optuna_trials.csv\"\n",
    ")"
   ]
  }
 ],
 "metadata": {
  "kernelspec": {
   "display_name": "venv_audio",
   "language": "python",
   "name": "python3"
  },
  "language_info": {
   "codemirror_mode": {
    "name": "ipython",
    "version": 3
   },
   "file_extension": ".py",
   "mimetype": "text/x-python",
   "name": "python",
   "nbconvert_exporter": "python",
   "pygments_lexer": "ipython3",
   "version": "3.7.16"
  },
  "orig_nbformat": 4
 },
 "nbformat": 4,
 "nbformat_minor": 2
}
