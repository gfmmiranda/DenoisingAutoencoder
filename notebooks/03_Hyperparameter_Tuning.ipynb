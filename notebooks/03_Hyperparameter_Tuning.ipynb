{
 "cells": [
  {
   "cell_type": "code",
   "execution_count": 1,
   "metadata": {},
   "outputs": [],
   "source": [
    "%load_ext autoreload\n",
    "%autoreload 2"
   ]
  },
  {
   "cell_type": "code",
   "execution_count": 2,
   "metadata": {},
   "outputs": [
    {
     "name": "stderr",
     "output_type": "stream",
     "text": [
      "/home/gabriel/miniconda3/envs/venv_audio/lib/python3.7/site-packages/tqdm/auto.py:22: TqdmWarning: IProgress not found. Please update jupyter and ipywidgets. See https://ipywidgets.readthedocs.io/en/stable/user_install.html\n",
      "  from .autonotebook import tqdm as notebook_tqdm\n"
     ]
    }
   ],
   "source": [
    "import sys\n",
    "\n",
    "sys.path.append(\"..\")\n",
    "\n",
    "import os\n",
    "import optuna\n",
    "import torch\n",
    "import wandb\n",
    "import gc\n",
    "\n",
    "from src.training import train_model\n",
    "from src.models.model_unet import UNet\n",
    "from src.dataprocess.torch_dataset_SNSD import DenoisingSpectrogramDataset\n",
    "from torch.utils.data import DataLoader\n",
    "\n",
    "# Path to Dataset\n",
    "DATA_DIR = \"/media/gabriel/500 BKP/datasets/SNSD-DataSet/preprocessed\"\n",
    "CHECKPOINTS_DIR = os.path.dirname(os.getcwd()) + \"/checkpoints\"\n"
   ]
  },
  {
   "cell_type": "code",
   "execution_count": 3,
   "metadata": {},
   "outputs": [
    {
     "name": "stderr",
     "output_type": "stream",
     "text": [
      "\u001b[34m\u001b[1mwandb\u001b[0m: Using wandb-core as the SDK backend.  Please refer to https://wandb.me/wandb-core for more information.\n",
      "\u001b[34m\u001b[1mwandb\u001b[0m: Currently logged in as: \u001b[33mgfiuzaa\u001b[0m (\u001b[33mgfiuzaa-universidade-federal-do-rio-de-janeiro\u001b[0m). Use \u001b[1m`wandb login --relogin`\u001b[0m to force relogin\n"
     ]
    },
    {
     "data": {
      "text/plain": [
       "True"
      ]
     },
     "execution_count": 3,
     "metadata": {},
     "output_type": "execute_result"
    }
   ],
   "source": [
    "wandb.login()"
   ]
  },
  {
   "cell_type": "code",
   "execution_count": 4,
   "metadata": {},
   "outputs": [],
   "source": [
    "# Dataset\n",
    "TARGET_FRAMES = 1024\n",
    "train_dataset = DenoisingSpectrogramDataset(DATA_DIR, 'train', TARGET_FRAMES)\n",
    "val_dataset = DenoisingSpectrogramDataset(DATA_DIR, 'validation', TARGET_FRAMES)\n",
    "\n",
    "def objective(trial):\n",
    "    try:\n",
    "        # Search Space\n",
    "        base_filters = trial.suggest_categorical('base_filters', [16, 32])\n",
    "        depth = trial.suggest_int('depth', 3, 5)\n",
    "        dropout_rate = trial.suggest_float('dropout_rate', 0.0, 0.3)\n",
    "        lr = trial.suggest_float('lr', 1e-5, 1e-3, log=True)\n",
    "        batch_size = trial.suggest_categorical('batch_size', [8, 16])\n",
    "\n",
    "        # wandb logging\n",
    "        wandb.init(project='audio-denoising', config={\n",
    "            'base_filters': base_filters,\n",
    "            'depth': depth,\n",
    "            'dropout_rate': dropout_rate,\n",
    "            'lr': lr,\n",
    "            'batch_size': batch_size\n",
    "        }, reinit=True)\n",
    "\n",
    "        # Dataloader\n",
    "        train_loader = DataLoader(train_dataset, batch_size=batch_size, shuffle=True, persistent_workers=False)\n",
    "        val_loader = DataLoader(val_dataset, batch_size=batch_size, shuffle=False, persistent_workers=False)\n",
    "\n",
    "        # Model\n",
    "        device = torch.device(\"cuda\" if torch.cuda.is_available() else \"cpu\")\n",
    "        model = UNet(\n",
    "            in_channels=1,\n",
    "            out_channels=1,\n",
    "            base_filters=base_filters,\n",
    "            depth=depth,\n",
    "            dropout_rate=dropout_rate\n",
    "        ).to(device)\n",
    "\n",
    "        # Optimizer and loss\n",
    "        optimizer = torch.optim.Adam(model.parameters(), lr=lr)\n",
    "        scheduler = torch.optim.lr_scheduler.ReduceLROnPlateau(optimizer, factor=0.1, patience=2)\n",
    "        criterion = torch.nn.MSELoss()\n",
    "\n",
    "        # Train\n",
    "        model, train_losses, val_losses, best_val_loss = train_model(\n",
    "            model=model,\n",
    "            optimizer=optimizer,\n",
    "            criterion=criterion,\n",
    "            scheduler=scheduler,\n",
    "            device=device,\n",
    "            train_loader=train_loader,\n",
    "            train_dataset=train_dataset,\n",
    "            val_loader=val_loader,\n",
    "            val_dataset=val_dataset,\n",
    "            num_epochs=100,\n",
    "            early_stopping_patience=5,\n",
    "            audio_preview=False,\n",
    "            trial=trial,\n",
    "            save_dir=CHECKPOINTS_DIR\n",
    "        )\n",
    "\n",
    "    except RuntimeError as e:\n",
    "        if \"out of memory\" in str(e):\n",
    "            print(f\"[Trial {trial.number}] - Out of memory. Skipping...\")\n",
    "            return float('inf')  # Penalize trial but don't crash study\n",
    "        else:\n",
    "            raise e\n",
    "\n",
    "    finally:\n",
    "        # Always clean up\n",
    "        if 'model' in locals():\n",
    "            model.cpu()\n",
    "            del model\n",
    "        if 'optimizer' in locals():\n",
    "            del optimizer\n",
    "        if 'scheduler' in locals():\n",
    "            del scheduler\n",
    "        if 'train_loader' in locals():\n",
    "            del train_loader\n",
    "        if 'val_loader' in locals():\n",
    "            del val_loader\n",
    "\n",
    "        torch.cuda.empty_cache()\n",
    "        torch.cuda.ipc_collect()\n",
    "        gc.collect()\n",
    "\n",
    "        wandb.finish()\n",
    "\n",
    "    return best_val_loss"
   ]
  },
  {
   "cell_type": "code",
   "execution_count": 5,
   "metadata": {},
   "outputs": [
    {
     "name": "stderr",
     "output_type": "stream",
     "text": [
      "[I 2025-04-27 17:40:57,767] A new study created in RDB with name: audio-denoising\n"
     ]
    },
    {
     "data": {
      "text/html": [
       "Tracking run with wandb version 0.18.7"
      ],
      "text/plain": [
       "<IPython.core.display.HTML object>"
      ]
     },
     "metadata": {},
     "output_type": "display_data"
    },
    {
     "data": {
      "text/html": [
       "Run data is saved locally in <code>/home/gabriel/VSProjects/audio_analysis/DenoisingAutoencoder/notebooks/wandb/run-20250427_174057-6ag1o8tr</code>"
      ],
      "text/plain": [
       "<IPython.core.display.HTML object>"
      ]
     },
     "metadata": {},
     "output_type": "display_data"
    },
    {
     "data": {
      "text/html": [
       "Syncing run <strong><a href='https://wandb.ai/gfiuzaa-universidade-federal-do-rio-de-janeiro/audio-denoising/runs/6ag1o8tr' target=\"_blank\">azure-lion-35</a></strong> to <a href='https://wandb.ai/gfiuzaa-universidade-federal-do-rio-de-janeiro/audio-denoising' target=\"_blank\">Weights & Biases</a> (<a href='https://wandb.me/developer-guide' target=\"_blank\">docs</a>)<br/>"
      ],
      "text/plain": [
       "<IPython.core.display.HTML object>"
      ]
     },
     "metadata": {},
     "output_type": "display_data"
    },
    {
     "data": {
      "text/html": [
       " View project at <a href='https://wandb.ai/gfiuzaa-universidade-federal-do-rio-de-janeiro/audio-denoising' target=\"_blank\">https://wandb.ai/gfiuzaa-universidade-federal-do-rio-de-janeiro/audio-denoising</a>"
      ],
      "text/plain": [
       "<IPython.core.display.HTML object>"
      ]
     },
     "metadata": {},
     "output_type": "display_data"
    },
    {
     "data": {
      "text/html": [
       " View run at <a href='https://wandb.ai/gfiuzaa-universidade-federal-do-rio-de-janeiro/audio-denoising/runs/6ag1o8tr' target=\"_blank\">https://wandb.ai/gfiuzaa-universidade-federal-do-rio-de-janeiro/audio-denoising/runs/6ag1o8tr</a>"
      ],
      "text/plain": [
       "<IPython.core.display.HTML object>"
      ]
     },
     "metadata": {},
     "output_type": "display_data"
    },
    {
     "name": "stdout",
     "output_type": "stream",
     "text": [
      "\n",
      "Epoch 1/100\n"
     ]
    },
    {
     "name": "stderr",
     "output_type": "stream",
     "text": [
      "                                                              \r"
     ]
    },
    {
     "name": "stdout",
     "output_type": "stream",
     "text": [
      "Best model saved: /home/gabriel/VSProjects/audio_analysis/DenoisingAutoencoder/checkpoints/model_trial_0.pth (val loss: 0.5435)\n",
      "Train Loss: 1.0049 | Val Loss: 0.5435\n",
      "Learning Rate: 0.000018\n",
      "\n",
      "Epoch 2/100\n"
     ]
    },
    {
     "name": "stderr",
     "output_type": "stream",
     "text": [
      "                                                              \r"
     ]
    },
    {
     "name": "stdout",
     "output_type": "stream",
     "text": [
      "Best model saved: /home/gabriel/VSProjects/audio_analysis/DenoisingAutoencoder/checkpoints/model_trial_0.pth (val loss: 0.3232)\n",
      "Train Loss: 0.4899 | Val Loss: 0.3232\n",
      "Learning Rate: 0.000018\n",
      "\n",
      "Epoch 3/100\n"
     ]
    },
    {
     "name": "stderr",
     "output_type": "stream",
     "text": [
      "                                                              \r"
     ]
    },
    {
     "name": "stdout",
     "output_type": "stream",
     "text": [
      "Best model saved: /home/gabriel/VSProjects/audio_analysis/DenoisingAutoencoder/checkpoints/model_trial_0.pth (val loss: 0.2654)\n",
      "Train Loss: 0.3515 | Val Loss: 0.2654\n",
      "Learning Rate: 0.000018\n",
      "\n",
      "Epoch 4/100\n"
     ]
    },
    {
     "name": "stderr",
     "output_type": "stream",
     "text": [
      "                                                              \r"
     ]
    },
    {
     "name": "stdout",
     "output_type": "stream",
     "text": [
      "Best model saved: /home/gabriel/VSProjects/audio_analysis/DenoisingAutoencoder/checkpoints/model_trial_0.pth (val loss: 0.2216)\n",
      "Train Loss: 0.3027 | Val Loss: 0.2216\n",
      "Learning Rate: 0.000018\n",
      "\n",
      "Epoch 5/100\n"
     ]
    },
    {
     "name": "stderr",
     "output_type": "stream",
     "text": [
      "                                                              \r"
     ]
    },
    {
     "name": "stdout",
     "output_type": "stream",
     "text": [
      "Best model saved: /home/gabriel/VSProjects/audio_analysis/DenoisingAutoencoder/checkpoints/model_trial_0.pth (val loss: 0.1803)\n",
      "Train Loss: 0.2623 | Val Loss: 0.1803\n",
      "Learning Rate: 0.000018\n",
      "\n",
      "Epoch 6/100\n"
     ]
    },
    {
     "name": "stderr",
     "output_type": "stream",
     "text": [
      "                                                              \r"
     ]
    },
    {
     "name": "stdout",
     "output_type": "stream",
     "text": [
      "Best model saved: /home/gabriel/VSProjects/audio_analysis/DenoisingAutoencoder/checkpoints/model_trial_0.pth (val loss: 0.1609)\n",
      "Train Loss: 0.2286 | Val Loss: 0.1609\n",
      "Learning Rate: 0.000018\n",
      "\n",
      "Epoch 7/100\n"
     ]
    },
    {
     "name": "stderr",
     "output_type": "stream",
     "text": [
      "                                                              \r"
     ]
    },
    {
     "name": "stdout",
     "output_type": "stream",
     "text": [
      "Best model saved: /home/gabriel/VSProjects/audio_analysis/DenoisingAutoencoder/checkpoints/model_trial_0.pth (val loss: 0.1422)\n",
      "Train Loss: 0.2032 | Val Loss: 0.1422\n",
      "Learning Rate: 0.000018\n",
      "\n",
      "Epoch 8/100\n"
     ]
    },
    {
     "name": "stderr",
     "output_type": "stream",
     "text": [
      "                                                              \r"
     ]
    },
    {
     "name": "stdout",
     "output_type": "stream",
     "text": [
      "Best model saved: /home/gabriel/VSProjects/audio_analysis/DenoisingAutoencoder/checkpoints/model_trial_0.pth (val loss: 0.1389)\n",
      "Train Loss: 0.1836 | Val Loss: 0.1389\n",
      "Learning Rate: 0.000018\n",
      "\n",
      "Epoch 9/100\n"
     ]
    },
    {
     "name": "stderr",
     "output_type": "stream",
     "text": [
      "                                                              \r"
     ]
    },
    {
     "name": "stdout",
     "output_type": "stream",
     "text": [
      "Best model saved: /home/gabriel/VSProjects/audio_analysis/DenoisingAutoencoder/checkpoints/model_trial_0.pth (val loss: 0.1152)\n",
      "Train Loss: 0.1680 | Val Loss: 0.1152\n",
      "Learning Rate: 0.000018\n",
      "\n",
      "Epoch 10/100\n"
     ]
    },
    {
     "name": "stderr",
     "output_type": "stream",
     "text": [
      "                                                              \r"
     ]
    },
    {
     "name": "stdout",
     "output_type": "stream",
     "text": [
      "No improvement for 1 epoch(s)\n",
      "Train Loss: 0.1556 | Val Loss: 0.1226\n",
      "Learning Rate: 0.000018\n",
      "\n",
      "Epoch 11/100\n"
     ]
    },
    {
     "name": "stderr",
     "output_type": "stream",
     "text": [
      "                                                              \r"
     ]
    },
    {
     "name": "stdout",
     "output_type": "stream",
     "text": [
      "Best model saved: /home/gabriel/VSProjects/audio_analysis/DenoisingAutoencoder/checkpoints/model_trial_0.pth (val loss: 0.1059)\n",
      "Train Loss: 0.1451 | Val Loss: 0.1059\n",
      "Learning Rate: 0.000018\n",
      "\n",
      "Epoch 12/100\n"
     ]
    },
    {
     "name": "stderr",
     "output_type": "stream",
     "text": [
      "                                                              \r"
     ]
    },
    {
     "name": "stdout",
     "output_type": "stream",
     "text": [
      "No improvement for 1 epoch(s)\n",
      "Train Loss: 0.1363 | Val Loss: 0.1193\n",
      "Learning Rate: 0.000018\n",
      "\n",
      "Epoch 13/100\n"
     ]
    },
    {
     "name": "stderr",
     "output_type": "stream",
     "text": [
      "                                                              \r"
     ]
    },
    {
     "name": "stdout",
     "output_type": "stream",
     "text": [
      "Best model saved: /home/gabriel/VSProjects/audio_analysis/DenoisingAutoencoder/checkpoints/model_trial_0.pth (val loss: 0.1032)\n",
      "Train Loss: 0.1292 | Val Loss: 0.1032\n",
      "Learning Rate: 0.000018\n",
      "\n",
      "Epoch 14/100\n"
     ]
    },
    {
     "name": "stderr",
     "output_type": "stream",
     "text": [
      "                                                              \r"
     ]
    },
    {
     "name": "stdout",
     "output_type": "stream",
     "text": [
      "Best model saved: /home/gabriel/VSProjects/audio_analysis/DenoisingAutoencoder/checkpoints/model_trial_0.pth (val loss: 0.0899)\n",
      "Train Loss: 0.1229 | Val Loss: 0.0899\n",
      "Learning Rate: 0.000018\n",
      "\n",
      "Epoch 15/100\n"
     ]
    },
    {
     "name": "stderr",
     "output_type": "stream",
     "text": [
      "                                                              \r"
     ]
    },
    {
     "name": "stdout",
     "output_type": "stream",
     "text": [
      "Best model saved: /home/gabriel/VSProjects/audio_analysis/DenoisingAutoencoder/checkpoints/model_trial_0.pth (val loss: 0.0807)\n",
      "Train Loss: 0.1175 | Val Loss: 0.0807\n",
      "Learning Rate: 0.000018\n",
      "\n",
      "Epoch 16/100\n"
     ]
    },
    {
     "name": "stderr",
     "output_type": "stream",
     "text": [
      "                                                              \r"
     ]
    },
    {
     "name": "stdout",
     "output_type": "stream",
     "text": [
      "No improvement for 1 epoch(s)\n",
      "Train Loss: 0.1129 | Val Loss: 0.0874\n",
      "Learning Rate: 0.000018\n",
      "\n",
      "Epoch 17/100\n"
     ]
    },
    {
     "name": "stderr",
     "output_type": "stream",
     "text": [
      "                                                              \r"
     ]
    },
    {
     "name": "stdout",
     "output_type": "stream",
     "text": [
      "No improvement for 2 epoch(s)\n",
      "Train Loss: 0.1087 | Val Loss: 0.0842\n",
      "Learning Rate: 0.000018\n",
      "\n",
      "Epoch 18/100\n"
     ]
    },
    {
     "name": "stderr",
     "output_type": "stream",
     "text": [
      "                                                              \r"
     ]
    },
    {
     "name": "stdout",
     "output_type": "stream",
     "text": [
      "No improvement for 3 epoch(s)\n",
      "Train Loss: 0.1051 | Val Loss: 0.0819\n",
      "Learning Rate: 0.000002\n",
      "\n",
      "Epoch 19/100\n"
     ]
    },
    {
     "name": "stderr",
     "output_type": "stream",
     "text": [
      "                                                              \r"
     ]
    },
    {
     "name": "stdout",
     "output_type": "stream",
     "text": [
      "Best model saved: /home/gabriel/VSProjects/audio_analysis/DenoisingAutoencoder/checkpoints/model_trial_0.pth (val loss: 0.0800)\n",
      "Train Loss: 0.1030 | Val Loss: 0.0800\n",
      "Learning Rate: 0.000002\n",
      "\n",
      "Epoch 20/100\n"
     ]
    },
    {
     "name": "stderr",
     "output_type": "stream",
     "text": [
      "                                                              \r"
     ]
    },
    {
     "name": "stdout",
     "output_type": "stream",
     "text": [
      "Best model saved: /home/gabriel/VSProjects/audio_analysis/DenoisingAutoencoder/checkpoints/model_trial_0.pth (val loss: 0.0771)\n",
      "Train Loss: 0.1025 | Val Loss: 0.0771\n",
      "Learning Rate: 0.000002\n",
      "\n",
      "Epoch 21/100\n"
     ]
    },
    {
     "name": "stderr",
     "output_type": "stream",
     "text": [
      "                                                              \r"
     ]
    },
    {
     "name": "stdout",
     "output_type": "stream",
     "text": [
      "No improvement for 1 epoch(s)\n",
      "Train Loss: 0.1023 | Val Loss: 0.0785\n",
      "Learning Rate: 0.000002\n",
      "\n",
      "Epoch 22/100\n"
     ]
    },
    {
     "name": "stderr",
     "output_type": "stream",
     "text": [
      "                                                              \r"
     ]
    },
    {
     "name": "stdout",
     "output_type": "stream",
     "text": [
      "No improvement for 2 epoch(s)\n",
      "Train Loss: 0.1019 | Val Loss: 0.0817\n",
      "Learning Rate: 0.000002\n",
      "\n",
      "Epoch 23/100\n"
     ]
    },
    {
     "name": "stderr",
     "output_type": "stream",
     "text": [
      "                                                              \r"
     ]
    },
    {
     "name": "stdout",
     "output_type": "stream",
     "text": [
      "No improvement for 3 epoch(s)\n",
      "Train Loss: 0.1015 | Val Loss: 0.0786\n",
      "Learning Rate: 0.000000\n",
      "\n",
      "Epoch 24/100\n"
     ]
    },
    {
     "name": "stderr",
     "output_type": "stream",
     "text": [
      "                                                              \r"
     ]
    },
    {
     "name": "stdout",
     "output_type": "stream",
     "text": [
      "No improvement for 4 epoch(s)\n",
      "Train Loss: 0.1014 | Val Loss: 0.0782\n",
      "Learning Rate: 0.000000\n",
      "\n",
      "Epoch 25/100\n"
     ]
    },
    {
     "name": "stderr",
     "output_type": "stream",
     "text": [
      "                                                              \r"
     ]
    },
    {
     "name": "stdout",
     "output_type": "stream",
     "text": [
      "No improvement for 5 epoch(s)\n",
      "Early stopping triggered.\n"
     ]
    },
    {
     "data": {
      "text/html": [
       "\n",
       "    <style>\n",
       "        .wandb-row {\n",
       "            display: flex;\n",
       "            flex-direction: row;\n",
       "            flex-wrap: wrap;\n",
       "            justify-content: flex-start;\n",
       "            width: 100%;\n",
       "        }\n",
       "        .wandb-col {\n",
       "            display: flex;\n",
       "            flex-direction: column;\n",
       "            flex-basis: 100%;\n",
       "            flex: 1;\n",
       "            padding: 10px;\n",
       "        }\n",
       "    </style>\n",
       "<div class=\"wandb-row\"><div class=\"wandb-col\"><h3>Run history:</h3><br/><table class=\"wandb\"><tr><td>train_loss</td><td>█▄▃▃▂▂▂▂▂▁▁▁▁▁▁▁▁▁▁▁▁▁▁▁</td></tr><tr><td>val_loss</td><td>█▅▄▃▃▂▂▂▂▂▁▂▁▁▁▁▁▁▁▁▁▁▁▁</td></tr></table><br/></div><div class=\"wandb-col\"><h3>Run summary:</h3><br/><table class=\"wandb\"><tr><td>train_loss</td><td>0.10139</td></tr><tr><td>val_loss</td><td>0.07818</td></tr></table><br/></div></div>"
      ],
      "text/plain": [
       "<IPython.core.display.HTML object>"
      ]
     },
     "metadata": {},
     "output_type": "display_data"
    },
    {
     "data": {
      "text/html": [
       " View run <strong style=\"color:#cdcd00\">azure-lion-35</strong> at: <a href='https://wandb.ai/gfiuzaa-universidade-federal-do-rio-de-janeiro/audio-denoising/runs/6ag1o8tr' target=\"_blank\">https://wandb.ai/gfiuzaa-universidade-federal-do-rio-de-janeiro/audio-denoising/runs/6ag1o8tr</a><br/> View project at: <a href='https://wandb.ai/gfiuzaa-universidade-federal-do-rio-de-janeiro/audio-denoising' target=\"_blank\">https://wandb.ai/gfiuzaa-universidade-federal-do-rio-de-janeiro/audio-denoising</a><br/>Synced 5 W&B file(s), 0 media file(s), 0 artifact file(s) and 0 other file(s)"
      ],
      "text/plain": [
       "<IPython.core.display.HTML object>"
      ]
     },
     "metadata": {},
     "output_type": "display_data"
    },
    {
     "data": {
      "text/html": [
       "Find logs at: <code>./wandb/run-20250427_174057-6ag1o8tr/logs</code>"
      ],
      "text/plain": [
       "<IPython.core.display.HTML object>"
      ]
     },
     "metadata": {},
     "output_type": "display_data"
    },
    {
     "name": "stderr",
     "output_type": "stream",
     "text": [
      "[I 2025-04-27 18:04:59,831] Trial 0 finished with value: 0.07706321507692337 and parameters: {'base_filters': 16, 'depth': 3, 'dropout_rate': 0.24983303974633025, 'lr': 1.788470932753771e-05, 'batch_size': 16}. Best is trial 0 with value: 0.07706321507692337.\n"
     ]
    },
    {
     "data": {
      "text/html": [
       "Tracking run with wandb version 0.18.7"
      ],
      "text/plain": [
       "<IPython.core.display.HTML object>"
      ]
     },
     "metadata": {},
     "output_type": "display_data"
    },
    {
     "data": {
      "text/html": [
       "Run data is saved locally in <code>/home/gabriel/VSProjects/audio_analysis/DenoisingAutoencoder/notebooks/wandb/run-20250427_180459-v34nrnjw</code>"
      ],
      "text/plain": [
       "<IPython.core.display.HTML object>"
      ]
     },
     "metadata": {},
     "output_type": "display_data"
    },
    {
     "data": {
      "text/html": [
       "Syncing run <strong><a href='https://wandb.ai/gfiuzaa-universidade-federal-do-rio-de-janeiro/audio-denoising/runs/v34nrnjw' target=\"_blank\">rare-donkey-36</a></strong> to <a href='https://wandb.ai/gfiuzaa-universidade-federal-do-rio-de-janeiro/audio-denoising' target=\"_blank\">Weights & Biases</a> (<a href='https://wandb.me/developer-guide' target=\"_blank\">docs</a>)<br/>"
      ],
      "text/plain": [
       "<IPython.core.display.HTML object>"
      ]
     },
     "metadata": {},
     "output_type": "display_data"
    },
    {
     "data": {
      "text/html": [
       " View project at <a href='https://wandb.ai/gfiuzaa-universidade-federal-do-rio-de-janeiro/audio-denoising' target=\"_blank\">https://wandb.ai/gfiuzaa-universidade-federal-do-rio-de-janeiro/audio-denoising</a>"
      ],
      "text/plain": [
       "<IPython.core.display.HTML object>"
      ]
     },
     "metadata": {},
     "output_type": "display_data"
    },
    {
     "data": {
      "text/html": [
       " View run at <a href='https://wandb.ai/gfiuzaa-universidade-federal-do-rio-de-janeiro/audio-denoising/runs/v34nrnjw' target=\"_blank\">https://wandb.ai/gfiuzaa-universidade-federal-do-rio-de-janeiro/audio-denoising/runs/v34nrnjw</a>"
      ],
      "text/plain": [
       "<IPython.core.display.HTML object>"
      ]
     },
     "metadata": {},
     "output_type": "display_data"
    },
    {
     "name": "stdout",
     "output_type": "stream",
     "text": [
      "\n",
      "Epoch 1/100\n"
     ]
    },
    {
     "name": "stderr",
     "output_type": "stream",
     "text": [
      "                                                              \r"
     ]
    },
    {
     "name": "stdout",
     "output_type": "stream",
     "text": [
      "Best model saved: /home/gabriel/VSProjects/audio_analysis/DenoisingAutoencoder/checkpoints/model_trial_1.pth (val loss: 0.5150)\n",
      "Train Loss: 0.7658 | Val Loss: 0.5150\n",
      "Learning Rate: 0.000031\n",
      "\n",
      "Epoch 2/100\n"
     ]
    },
    {
     "name": "stderr",
     "output_type": "stream",
     "text": [
      "                                                              \r"
     ]
    },
    {
     "name": "stdout",
     "output_type": "stream",
     "text": [
      "Best model saved: /home/gabriel/VSProjects/audio_analysis/DenoisingAutoencoder/checkpoints/model_trial_1.pth (val loss: 0.3268)\n",
      "Train Loss: 0.3848 | Val Loss: 0.3268\n",
      "Learning Rate: 0.000031\n",
      "\n",
      "Epoch 3/100\n"
     ]
    },
    {
     "name": "stderr",
     "output_type": "stream",
     "text": [
      "                                                              \r"
     ]
    },
    {
     "name": "stdout",
     "output_type": "stream",
     "text": [
      "Best model saved: /home/gabriel/VSProjects/audio_analysis/DenoisingAutoencoder/checkpoints/model_trial_1.pth (val loss: 0.2782)\n",
      "Train Loss: 0.3000 | Val Loss: 0.2782\n",
      "Learning Rate: 0.000031\n",
      "\n",
      "Epoch 4/100\n"
     ]
    },
    {
     "name": "stderr",
     "output_type": "stream",
     "text": [
      "                                                              \r"
     ]
    },
    {
     "name": "stdout",
     "output_type": "stream",
     "text": [
      "Best model saved: /home/gabriel/VSProjects/audio_analysis/DenoisingAutoencoder/checkpoints/model_trial_1.pth (val loss: 0.2386)\n",
      "Train Loss: 0.2614 | Val Loss: 0.2386\n",
      "Learning Rate: 0.000031\n",
      "\n",
      "Epoch 5/100\n"
     ]
    },
    {
     "name": "stderr",
     "output_type": "stream",
     "text": [
      "                                                              \r"
     ]
    },
    {
     "name": "stdout",
     "output_type": "stream",
     "text": [
      "Best model saved: /home/gabriel/VSProjects/audio_analysis/DenoisingAutoencoder/checkpoints/model_trial_1.pth (val loss: 0.1949)\n",
      "Train Loss: 0.2309 | Val Loss: 0.1949\n",
      "Learning Rate: 0.000031\n",
      "\n",
      "Epoch 6/100\n"
     ]
    },
    {
     "name": "stderr",
     "output_type": "stream",
     "text": [
      "                                                              \r"
     ]
    },
    {
     "name": "stdout",
     "output_type": "stream",
     "text": [
      "Best model saved: /home/gabriel/VSProjects/audio_analysis/DenoisingAutoencoder/checkpoints/model_trial_1.pth (val loss: 0.1657)\n",
      "Train Loss: 0.1995 | Val Loss: 0.1657\n",
      "Learning Rate: 0.000031\n",
      "\n",
      "Epoch 7/100\n"
     ]
    },
    {
     "name": "stderr",
     "output_type": "stream",
     "text": [
      "                                                              \r"
     ]
    },
    {
     "name": "stdout",
     "output_type": "stream",
     "text": [
      "Best model saved: /home/gabriel/VSProjects/audio_analysis/DenoisingAutoencoder/checkpoints/model_trial_1.pth (val loss: 0.1532)\n",
      "Train Loss: 0.1748 | Val Loss: 0.1532\n",
      "Learning Rate: 0.000031\n",
      "\n",
      "Epoch 8/100\n"
     ]
    },
    {
     "name": "stderr",
     "output_type": "stream",
     "text": [
      "                                                              \r"
     ]
    },
    {
     "name": "stdout",
     "output_type": "stream",
     "text": [
      "Best model saved: /home/gabriel/VSProjects/audio_analysis/DenoisingAutoencoder/checkpoints/model_trial_1.pth (val loss: 0.1372)\n",
      "Train Loss: 0.1576 | Val Loss: 0.1372\n",
      "Learning Rate: 0.000031\n",
      "\n",
      "Epoch 9/100\n"
     ]
    },
    {
     "name": "stderr",
     "output_type": "stream",
     "text": [
      "                                                              \r"
     ]
    },
    {
     "name": "stdout",
     "output_type": "stream",
     "text": [
      "Best model saved: /home/gabriel/VSProjects/audio_analysis/DenoisingAutoencoder/checkpoints/model_trial_1.pth (val loss: 0.1239)\n",
      "Train Loss: 0.1449 | Val Loss: 0.1239\n",
      "Learning Rate: 0.000031\n",
      "\n",
      "Epoch 10/100\n"
     ]
    },
    {
     "name": "stderr",
     "output_type": "stream",
     "text": [
      "                                                              \r"
     ]
    },
    {
     "name": "stdout",
     "output_type": "stream",
     "text": [
      "Best model saved: /home/gabriel/VSProjects/audio_analysis/DenoisingAutoencoder/checkpoints/model_trial_1.pth (val loss: 0.1172)\n",
      "Train Loss: 0.1351 | Val Loss: 0.1172\n",
      "Learning Rate: 0.000031\n",
      "\n",
      "Epoch 11/100\n"
     ]
    },
    {
     "name": "stderr",
     "output_type": "stream",
     "text": [
      "                                                              \r"
     ]
    },
    {
     "name": "stdout",
     "output_type": "stream",
     "text": [
      "Best model saved: /home/gabriel/VSProjects/audio_analysis/DenoisingAutoencoder/checkpoints/model_trial_1.pth (val loss: 0.1153)\n",
      "Train Loss: 0.1272 | Val Loss: 0.1153\n",
      "Learning Rate: 0.000031\n",
      "\n",
      "Epoch 12/100\n"
     ]
    },
    {
     "name": "stderr",
     "output_type": "stream",
     "text": [
      "                                                              \r"
     ]
    },
    {
     "name": "stdout",
     "output_type": "stream",
     "text": [
      "Best model saved: /home/gabriel/VSProjects/audio_analysis/DenoisingAutoencoder/checkpoints/model_trial_1.pth (val loss: 0.1024)\n",
      "Train Loss: 0.1208 | Val Loss: 0.1024\n",
      "Learning Rate: 0.000031\n",
      "\n",
      "Epoch 13/100\n"
     ]
    },
    {
     "name": "stderr",
     "output_type": "stream",
     "text": [
      "                                                              \r"
     ]
    },
    {
     "name": "stdout",
     "output_type": "stream",
     "text": [
      "No improvement for 1 epoch(s)\n",
      "Train Loss: 0.1152 | Val Loss: 0.1048\n",
      "Learning Rate: 0.000031\n",
      "\n",
      "Epoch 14/100\n"
     ]
    },
    {
     "name": "stderr",
     "output_type": "stream",
     "text": [
      "                                                              \r"
     ]
    },
    {
     "name": "stdout",
     "output_type": "stream",
     "text": [
      "Best model saved: /home/gabriel/VSProjects/audio_analysis/DenoisingAutoencoder/checkpoints/model_trial_1.pth (val loss: 0.1004)\n",
      "Train Loss: 0.1104 | Val Loss: 0.1004\n",
      "Learning Rate: 0.000031\n",
      "\n",
      "Epoch 15/100\n"
     ]
    },
    {
     "name": "stderr",
     "output_type": "stream",
     "text": [
      "                                                              \r"
     ]
    },
    {
     "name": "stdout",
     "output_type": "stream",
     "text": [
      "No improvement for 1 epoch(s)\n",
      "Train Loss: 0.1065 | Val Loss: 0.1024\n",
      "Learning Rate: 0.000031\n",
      "\n",
      "Epoch 16/100\n"
     ]
    },
    {
     "name": "stderr",
     "output_type": "stream",
     "text": [
      "                                                              \r"
     ]
    },
    {
     "name": "stdout",
     "output_type": "stream",
     "text": [
      "Best model saved: /home/gabriel/VSProjects/audio_analysis/DenoisingAutoencoder/checkpoints/model_trial_1.pth (val loss: 0.0945)\n",
      "Train Loss: 0.1028 | Val Loss: 0.0945\n",
      "Learning Rate: 0.000031\n",
      "\n",
      "Epoch 17/100\n"
     ]
    },
    {
     "name": "stderr",
     "output_type": "stream",
     "text": [
      "                                                              \r"
     ]
    },
    {
     "name": "stdout",
     "output_type": "stream",
     "text": [
      "No improvement for 1 epoch(s)\n",
      "Train Loss: 0.0997 | Val Loss: 0.1007\n",
      "Learning Rate: 0.000031\n",
      "\n",
      "Epoch 18/100\n"
     ]
    },
    {
     "name": "stderr",
     "output_type": "stream",
     "text": [
      "                                                              \r"
     ]
    },
    {
     "name": "stdout",
     "output_type": "stream",
     "text": [
      "Best model saved: /home/gabriel/VSProjects/audio_analysis/DenoisingAutoencoder/checkpoints/model_trial_1.pth (val loss: 0.0887)\n",
      "Train Loss: 0.0964 | Val Loss: 0.0887\n",
      "Learning Rate: 0.000031\n",
      "\n",
      "Epoch 19/100\n"
     ]
    },
    {
     "name": "stderr",
     "output_type": "stream",
     "text": [
      "                                                              \r"
     ]
    },
    {
     "name": "stdout",
     "output_type": "stream",
     "text": [
      "Best model saved: /home/gabriel/VSProjects/audio_analysis/DenoisingAutoencoder/checkpoints/model_trial_1.pth (val loss: 0.0882)\n",
      "Train Loss: 0.0936 | Val Loss: 0.0882\n",
      "Learning Rate: 0.000031\n",
      "\n",
      "Epoch 20/100\n"
     ]
    },
    {
     "name": "stderr",
     "output_type": "stream",
     "text": [
      "                                                              \r"
     ]
    },
    {
     "name": "stdout",
     "output_type": "stream",
     "text": [
      "Best model saved: /home/gabriel/VSProjects/audio_analysis/DenoisingAutoencoder/checkpoints/model_trial_1.pth (val loss: 0.0864)\n",
      "Train Loss: 0.0912 | Val Loss: 0.0864\n",
      "Learning Rate: 0.000031\n",
      "\n",
      "Epoch 21/100\n"
     ]
    },
    {
     "name": "stderr",
     "output_type": "stream",
     "text": [
      "                                                              \r"
     ]
    },
    {
     "name": "stdout",
     "output_type": "stream",
     "text": [
      "Best model saved: /home/gabriel/VSProjects/audio_analysis/DenoisingAutoencoder/checkpoints/model_trial_1.pth (val loss: 0.0836)\n",
      "Train Loss: 0.0884 | Val Loss: 0.0836\n",
      "Learning Rate: 0.000031\n",
      "\n",
      "Epoch 22/100\n"
     ]
    },
    {
     "name": "stderr",
     "output_type": "stream",
     "text": [
      "                                                              \r"
     ]
    },
    {
     "name": "stdout",
     "output_type": "stream",
     "text": [
      "No improvement for 1 epoch(s)\n",
      "Train Loss: 0.0863 | Val Loss: 0.0851\n",
      "Learning Rate: 0.000031\n",
      "\n",
      "Epoch 23/100\n"
     ]
    },
    {
     "name": "stderr",
     "output_type": "stream",
     "text": [
      "                                                              \r"
     ]
    },
    {
     "name": "stdout",
     "output_type": "stream",
     "text": [
      "No improvement for 2 epoch(s)\n",
      "Train Loss: 0.0841 | Val Loss: 0.0890\n",
      "Learning Rate: 0.000031\n",
      "\n",
      "Epoch 24/100\n"
     ]
    },
    {
     "name": "stderr",
     "output_type": "stream",
     "text": [
      "                                                              \r"
     ]
    },
    {
     "name": "stdout",
     "output_type": "stream",
     "text": [
      "Best model saved: /home/gabriel/VSProjects/audio_analysis/DenoisingAutoencoder/checkpoints/model_trial_1.pth (val loss: 0.0808)\n",
      "Train Loss: 0.0822 | Val Loss: 0.0808\n",
      "Learning Rate: 0.000031\n",
      "\n",
      "Epoch 25/100\n"
     ]
    },
    {
     "name": "stderr",
     "output_type": "stream",
     "text": [
      "                                                              \r"
     ]
    },
    {
     "name": "stdout",
     "output_type": "stream",
     "text": [
      "No improvement for 1 epoch(s)\n",
      "Train Loss: 0.0802 | Val Loss: 0.0814\n",
      "Learning Rate: 0.000031\n",
      "\n",
      "Epoch 26/100\n"
     ]
    },
    {
     "name": "stderr",
     "output_type": "stream",
     "text": [
      "                                                              \r"
     ]
    },
    {
     "name": "stdout",
     "output_type": "stream",
     "text": [
      "Best model saved: /home/gabriel/VSProjects/audio_analysis/DenoisingAutoencoder/checkpoints/model_trial_1.pth (val loss: 0.0774)\n",
      "Train Loss: 0.0784 | Val Loss: 0.0774\n",
      "Learning Rate: 0.000031\n",
      "\n",
      "Epoch 27/100\n"
     ]
    },
    {
     "name": "stderr",
     "output_type": "stream",
     "text": [
      "                                                              \r"
     ]
    },
    {
     "name": "stdout",
     "output_type": "stream",
     "text": [
      "Best model saved: /home/gabriel/VSProjects/audio_analysis/DenoisingAutoencoder/checkpoints/model_trial_1.pth (val loss: 0.0707)\n",
      "Train Loss: 0.0768 | Val Loss: 0.0707\n",
      "Learning Rate: 0.000031\n",
      "\n",
      "Epoch 28/100\n"
     ]
    },
    {
     "name": "stderr",
     "output_type": "stream",
     "text": [
      "                                                              \r"
     ]
    },
    {
     "name": "stdout",
     "output_type": "stream",
     "text": [
      "No improvement for 1 epoch(s)\n",
      "Train Loss: 0.0752 | Val Loss: 0.0728\n",
      "Learning Rate: 0.000031\n",
      "\n",
      "Epoch 29/100\n"
     ]
    },
    {
     "name": "stderr",
     "output_type": "stream",
     "text": [
      "                                                              \r"
     ]
    },
    {
     "name": "stdout",
     "output_type": "stream",
     "text": [
      "Best model saved: /home/gabriel/VSProjects/audio_analysis/DenoisingAutoencoder/checkpoints/model_trial_1.pth (val loss: 0.0613)\n",
      "Train Loss: 0.0737 | Val Loss: 0.0613\n",
      "Learning Rate: 0.000031\n",
      "\n",
      "Epoch 30/100\n"
     ]
    },
    {
     "name": "stderr",
     "output_type": "stream",
     "text": [
      "                                                              \r"
     ]
    },
    {
     "name": "stdout",
     "output_type": "stream",
     "text": [
      "No improvement for 1 epoch(s)\n",
      "Train Loss: 0.0722 | Val Loss: 0.0665\n",
      "Learning Rate: 0.000031\n",
      "\n",
      "Epoch 31/100\n"
     ]
    },
    {
     "name": "stderr",
     "output_type": "stream",
     "text": [
      "                                                              \r"
     ]
    },
    {
     "name": "stdout",
     "output_type": "stream",
     "text": [
      "No improvement for 2 epoch(s)\n",
      "Train Loss: 0.0710 | Val Loss: 0.0725\n",
      "Learning Rate: 0.000031\n",
      "\n",
      "Epoch 32/100\n"
     ]
    },
    {
     "name": "stderr",
     "output_type": "stream",
     "text": [
      "                                                              \r"
     ]
    },
    {
     "name": "stdout",
     "output_type": "stream",
     "text": [
      "No improvement for 3 epoch(s)\n",
      "Train Loss: 0.0701 | Val Loss: 0.0646\n",
      "Learning Rate: 0.000003\n",
      "\n",
      "Epoch 33/100\n"
     ]
    },
    {
     "name": "stderr",
     "output_type": "stream",
     "text": [
      "                                                              \r"
     ]
    },
    {
     "name": "stdout",
     "output_type": "stream",
     "text": [
      "No improvement for 4 epoch(s)\n",
      "Train Loss: 0.0693 | Val Loss: 0.0629\n",
      "Learning Rate: 0.000003\n",
      "\n",
      "Epoch 34/100\n"
     ]
    },
    {
     "name": "stderr",
     "output_type": "stream",
     "text": [
      "                                                              \r"
     ]
    },
    {
     "name": "stdout",
     "output_type": "stream",
     "text": [
      "No improvement for 5 epoch(s)\n",
      "Early stopping triggered.\n"
     ]
    },
    {
     "data": {
      "text/html": [
       "\n",
       "    <style>\n",
       "        .wandb-row {\n",
       "            display: flex;\n",
       "            flex-direction: row;\n",
       "            flex-wrap: wrap;\n",
       "            justify-content: flex-start;\n",
       "            width: 100%;\n",
       "        }\n",
       "        .wandb-col {\n",
       "            display: flex;\n",
       "            flex-direction: column;\n",
       "            flex-basis: 100%;\n",
       "            flex: 1;\n",
       "            padding: 10px;\n",
       "        }\n",
       "    </style>\n",
       "<div class=\"wandb-row\"><div class=\"wandb-col\"><h3>Run history:</h3><br/><table class=\"wandb\"><tr><td>train_loss</td><td>█▄▃▃▃▂▂▂▂▂▂▂▁▁▁▁▁▁▁▁▁▁▁▁▁▁▁▁▁▁▁▁▁</td></tr><tr><td>val_loss</td><td>█▅▄▄▃▃▂▂▂▂▂▂▂▂▂▂▂▁▁▁▁▁▁▁▁▁▁▁▁▁▁▁▁</td></tr></table><br/></div><div class=\"wandb-col\"><h3>Run summary:</h3><br/><table class=\"wandb\"><tr><td>train_loss</td><td>0.06927</td></tr><tr><td>val_loss</td><td>0.06287</td></tr></table><br/></div></div>"
      ],
      "text/plain": [
       "<IPython.core.display.HTML object>"
      ]
     },
     "metadata": {},
     "output_type": "display_data"
    },
    {
     "data": {
      "text/html": [
       " View run <strong style=\"color:#cdcd00\">rare-donkey-36</strong> at: <a href='https://wandb.ai/gfiuzaa-universidade-federal-do-rio-de-janeiro/audio-denoising/runs/v34nrnjw' target=\"_blank\">https://wandb.ai/gfiuzaa-universidade-federal-do-rio-de-janeiro/audio-denoising/runs/v34nrnjw</a><br/> View project at: <a href='https://wandb.ai/gfiuzaa-universidade-federal-do-rio-de-janeiro/audio-denoising' target=\"_blank\">https://wandb.ai/gfiuzaa-universidade-federal-do-rio-de-janeiro/audio-denoising</a><br/>Synced 5 W&B file(s), 0 media file(s), 0 artifact file(s) and 0 other file(s)"
      ],
      "text/plain": [
       "<IPython.core.display.HTML object>"
      ]
     },
     "metadata": {},
     "output_type": "display_data"
    },
    {
     "data": {
      "text/html": [
       "Find logs at: <code>./wandb/run-20250427_180459-v34nrnjw/logs</code>"
      ],
      "text/plain": [
       "<IPython.core.display.HTML object>"
      ]
     },
     "metadata": {},
     "output_type": "display_data"
    },
    {
     "name": "stderr",
     "output_type": "stream",
     "text": [
      "[I 2025-04-27 18:38:09,802] Trial 1 finished with value: 0.06125556215643883 and parameters: {'base_filters': 16, 'depth': 3, 'dropout_rate': 0.2467459692842788, 'lr': 3.099868172524603e-05, 'batch_size': 16}. Best is trial 1 with value: 0.06125556215643883.\n"
     ]
    },
    {
     "data": {
      "text/html": [
       "Tracking run with wandb version 0.18.7"
      ],
      "text/plain": [
       "<IPython.core.display.HTML object>"
      ]
     },
     "metadata": {},
     "output_type": "display_data"
    },
    {
     "data": {
      "text/html": [
       "Run data is saved locally in <code>/home/gabriel/VSProjects/audio_analysis/DenoisingAutoencoder/notebooks/wandb/run-20250427_183809-hxaaaspx</code>"
      ],
      "text/plain": [
       "<IPython.core.display.HTML object>"
      ]
     },
     "metadata": {},
     "output_type": "display_data"
    },
    {
     "data": {
      "text/html": [
       "Syncing run <strong><a href='https://wandb.ai/gfiuzaa-universidade-federal-do-rio-de-janeiro/audio-denoising/runs/hxaaaspx' target=\"_blank\">magic-frog-37</a></strong> to <a href='https://wandb.ai/gfiuzaa-universidade-federal-do-rio-de-janeiro/audio-denoising' target=\"_blank\">Weights & Biases</a> (<a href='https://wandb.me/developer-guide' target=\"_blank\">docs</a>)<br/>"
      ],
      "text/plain": [
       "<IPython.core.display.HTML object>"
      ]
     },
     "metadata": {},
     "output_type": "display_data"
    },
    {
     "data": {
      "text/html": [
       " View project at <a href='https://wandb.ai/gfiuzaa-universidade-federal-do-rio-de-janeiro/audio-denoising' target=\"_blank\">https://wandb.ai/gfiuzaa-universidade-federal-do-rio-de-janeiro/audio-denoising</a>"
      ],
      "text/plain": [
       "<IPython.core.display.HTML object>"
      ]
     },
     "metadata": {},
     "output_type": "display_data"
    },
    {
     "data": {
      "text/html": [
       " View run at <a href='https://wandb.ai/gfiuzaa-universidade-federal-do-rio-de-janeiro/audio-denoising/runs/hxaaaspx' target=\"_blank\">https://wandb.ai/gfiuzaa-universidade-federal-do-rio-de-janeiro/audio-denoising/runs/hxaaaspx</a>"
      ],
      "text/plain": [
       "<IPython.core.display.HTML object>"
      ]
     },
     "metadata": {},
     "output_type": "display_data"
    },
    {
     "name": "stdout",
     "output_type": "stream",
     "text": [
      "\n",
      "Epoch 1/100\n"
     ]
    },
    {
     "name": "stderr",
     "output_type": "stream",
     "text": [
      "                                                              \r"
     ]
    },
    {
     "name": "stdout",
     "output_type": "stream",
     "text": [
      "Best model saved: /home/gabriel/VSProjects/audio_analysis/DenoisingAutoencoder/checkpoints/model_trial_2.pth (val loss: 0.3788)\n",
      "Train Loss: 0.6578 | Val Loss: 0.3788\n",
      "Learning Rate: 0.000023\n",
      "\n",
      "Epoch 2/100\n"
     ]
    },
    {
     "name": "stderr",
     "output_type": "stream",
     "text": [
      "                                                              \r"
     ]
    },
    {
     "name": "stdout",
     "output_type": "stream",
     "text": [
      "Best model saved: /home/gabriel/VSProjects/audio_analysis/DenoisingAutoencoder/checkpoints/model_trial_2.pth (val loss: 0.2637)\n",
      "Train Loss: 0.3286 | Val Loss: 0.2637\n",
      "Learning Rate: 0.000023\n",
      "\n",
      "Epoch 3/100\n"
     ]
    },
    {
     "name": "stderr",
     "output_type": "stream",
     "text": [
      "                                                              \r"
     ]
    },
    {
     "name": "stdout",
     "output_type": "stream",
     "text": [
      "Best model saved: /home/gabriel/VSProjects/audio_analysis/DenoisingAutoencoder/checkpoints/model_trial_2.pth (val loss: 0.2001)\n",
      "Train Loss: 0.2382 | Val Loss: 0.2001\n",
      "Learning Rate: 0.000023\n",
      "\n",
      "Epoch 4/100\n"
     ]
    },
    {
     "name": "stderr",
     "output_type": "stream",
     "text": [
      "                                                              \r"
     ]
    },
    {
     "name": "stdout",
     "output_type": "stream",
     "text": [
      "Best model saved: /home/gabriel/VSProjects/audio_analysis/DenoisingAutoencoder/checkpoints/model_trial_2.pth (val loss: 0.1784)\n",
      "Train Loss: 0.1960 | Val Loss: 0.1784\n",
      "Learning Rate: 0.000023\n",
      "\n",
      "Epoch 5/100\n"
     ]
    },
    {
     "name": "stderr",
     "output_type": "stream",
     "text": [
      "                                                              \r"
     ]
    },
    {
     "name": "stdout",
     "output_type": "stream",
     "text": [
      "Best model saved: /home/gabriel/VSProjects/audio_analysis/DenoisingAutoencoder/checkpoints/model_trial_2.pth (val loss: 0.1686)\n",
      "Train Loss: 0.1689 | Val Loss: 0.1686\n",
      "Learning Rate: 0.000023\n",
      "\n",
      "Epoch 6/100\n"
     ]
    },
    {
     "name": "stderr",
     "output_type": "stream",
     "text": [
      "                                                              \r"
     ]
    },
    {
     "name": "stdout",
     "output_type": "stream",
     "text": [
      "Best model saved: /home/gabriel/VSProjects/audio_analysis/DenoisingAutoencoder/checkpoints/model_trial_2.pth (val loss: 0.1387)\n",
      "Train Loss: 0.1465 | Val Loss: 0.1387\n",
      "Learning Rate: 0.000023\n",
      "\n",
      "Epoch 7/100\n"
     ]
    },
    {
     "name": "stderr",
     "output_type": "stream",
     "text": [
      "                                                              \r"
     ]
    },
    {
     "name": "stdout",
     "output_type": "stream",
     "text": [
      "Best model saved: /home/gabriel/VSProjects/audio_analysis/DenoisingAutoencoder/checkpoints/model_trial_2.pth (val loss: 0.1200)\n",
      "Train Loss: 0.1272 | Val Loss: 0.1200\n",
      "Learning Rate: 0.000023\n",
      "\n",
      "Epoch 8/100\n"
     ]
    },
    {
     "name": "stderr",
     "output_type": "stream",
     "text": [
      "                                                              \r"
     ]
    },
    {
     "name": "stdout",
     "output_type": "stream",
     "text": [
      "Best model saved: /home/gabriel/VSProjects/audio_analysis/DenoisingAutoencoder/checkpoints/model_trial_2.pth (val loss: 0.1132)\n",
      "Train Loss: 0.1107 | Val Loss: 0.1132\n",
      "Learning Rate: 0.000023\n",
      "\n",
      "Epoch 9/100\n"
     ]
    },
    {
     "name": "stderr",
     "output_type": "stream",
     "text": [
      "                                                              \r"
     ]
    },
    {
     "name": "stdout",
     "output_type": "stream",
     "text": [
      "Best model saved: /home/gabriel/VSProjects/audio_analysis/DenoisingAutoencoder/checkpoints/model_trial_2.pth (val loss: 0.0863)\n",
      "Train Loss: 0.0966 | Val Loss: 0.0863\n",
      "Learning Rate: 0.000023\n",
      "\n",
      "Epoch 10/100\n"
     ]
    },
    {
     "name": "stderr",
     "output_type": "stream",
     "text": [
      "                                                              \r"
     ]
    },
    {
     "name": "stdout",
     "output_type": "stream",
     "text": [
      "Best model saved: /home/gabriel/VSProjects/audio_analysis/DenoisingAutoencoder/checkpoints/model_trial_2.pth (val loss: 0.0794)\n",
      "Train Loss: 0.0847 | Val Loss: 0.0794\n",
      "Learning Rate: 0.000023\n",
      "\n",
      "Epoch 11/100\n"
     ]
    },
    {
     "name": "stderr",
     "output_type": "stream",
     "text": [
      "                                                              \r"
     ]
    },
    {
     "name": "stdout",
     "output_type": "stream",
     "text": [
      "Best model saved: /home/gabriel/VSProjects/audio_analysis/DenoisingAutoencoder/checkpoints/model_trial_2.pth (val loss: 0.0696)\n",
      "Train Loss: 0.0749 | Val Loss: 0.0696\n",
      "Learning Rate: 0.000023\n",
      "\n",
      "Epoch 12/100\n"
     ]
    },
    {
     "name": "stderr",
     "output_type": "stream",
     "text": [
      "                                                              \r"
     ]
    },
    {
     "name": "stdout",
     "output_type": "stream",
     "text": [
      "Best model saved: /home/gabriel/VSProjects/audio_analysis/DenoisingAutoencoder/checkpoints/model_trial_2.pth (val loss: 0.0559)\n",
      "Train Loss: 0.0665 | Val Loss: 0.0559\n",
      "Learning Rate: 0.000023\n",
      "\n",
      "Epoch 13/100\n"
     ]
    },
    {
     "name": "stderr",
     "output_type": "stream",
     "text": [
      "                                                              \r"
     ]
    },
    {
     "name": "stdout",
     "output_type": "stream",
     "text": [
      "No improvement for 1 epoch(s)\n",
      "Train Loss: 0.0596 | Val Loss: 0.0574\n",
      "Learning Rate: 0.000023\n",
      "\n",
      "Epoch 14/100\n"
     ]
    },
    {
     "name": "stderr",
     "output_type": "stream",
     "text": [
      "                                                              \r"
     ]
    },
    {
     "name": "stdout",
     "output_type": "stream",
     "text": [
      "No improvement for 2 epoch(s)\n",
      "Train Loss: 0.0539 | Val Loss: 0.0592\n",
      "Learning Rate: 0.000023\n",
      "\n",
      "Epoch 15/100\n"
     ]
    },
    {
     "name": "stderr",
     "output_type": "stream",
     "text": [
      "                                                              \r"
     ]
    },
    {
     "name": "stdout",
     "output_type": "stream",
     "text": [
      "Best model saved: /home/gabriel/VSProjects/audio_analysis/DenoisingAutoencoder/checkpoints/model_trial_2.pth (val loss: 0.0450)\n",
      "Train Loss: 0.0490 | Val Loss: 0.0450\n",
      "Learning Rate: 0.000023\n",
      "\n",
      "Epoch 16/100\n"
     ]
    },
    {
     "name": "stderr",
     "output_type": "stream",
     "text": [
      "                                                              \r"
     ]
    },
    {
     "name": "stdout",
     "output_type": "stream",
     "text": [
      "Best model saved: /home/gabriel/VSProjects/audio_analysis/DenoisingAutoencoder/checkpoints/model_trial_2.pth (val loss: 0.0388)\n",
      "Train Loss: 0.0450 | Val Loss: 0.0388\n",
      "Learning Rate: 0.000023\n",
      "\n",
      "Epoch 17/100\n"
     ]
    },
    {
     "name": "stderr",
     "output_type": "stream",
     "text": [
      "                                                              \r"
     ]
    },
    {
     "name": "stdout",
     "output_type": "stream",
     "text": [
      "Best model saved: /home/gabriel/VSProjects/audio_analysis/DenoisingAutoencoder/checkpoints/model_trial_2.pth (val loss: 0.0359)\n",
      "Train Loss: 0.0419 | Val Loss: 0.0359\n",
      "Learning Rate: 0.000023\n",
      "\n",
      "Epoch 18/100\n"
     ]
    },
    {
     "name": "stderr",
     "output_type": "stream",
     "text": [
      "                                                              \r"
     ]
    },
    {
     "name": "stdout",
     "output_type": "stream",
     "text": [
      "Best model saved: /home/gabriel/VSProjects/audio_analysis/DenoisingAutoencoder/checkpoints/model_trial_2.pth (val loss: 0.0335)\n",
      "Train Loss: 0.0393 | Val Loss: 0.0335\n",
      "Learning Rate: 0.000023\n",
      "\n",
      "Epoch 19/100\n"
     ]
    },
    {
     "name": "stderr",
     "output_type": "stream",
     "text": [
      "                                                              \r"
     ]
    },
    {
     "name": "stdout",
     "output_type": "stream",
     "text": [
      "Best model saved: /home/gabriel/VSProjects/audio_analysis/DenoisingAutoencoder/checkpoints/model_trial_2.pth (val loss: 0.0327)\n",
      "Train Loss: 0.0370 | Val Loss: 0.0327\n",
      "Learning Rate: 0.000023\n",
      "\n",
      "Epoch 20/100\n"
     ]
    },
    {
     "name": "stderr",
     "output_type": "stream",
     "text": [
      "                                                              \r"
     ]
    },
    {
     "name": "stdout",
     "output_type": "stream",
     "text": [
      "Best model saved: /home/gabriel/VSProjects/audio_analysis/DenoisingAutoencoder/checkpoints/model_trial_2.pth (val loss: 0.0290)\n",
      "Train Loss: 0.0352 | Val Loss: 0.0290\n",
      "Learning Rate: 0.000023\n",
      "\n",
      "Epoch 21/100\n"
     ]
    },
    {
     "name": "stderr",
     "output_type": "stream",
     "text": [
      "                                                              \r"
     ]
    },
    {
     "name": "stdout",
     "output_type": "stream",
     "text": [
      "Best model saved: /home/gabriel/VSProjects/audio_analysis/DenoisingAutoencoder/checkpoints/model_trial_2.pth (val loss: 0.0277)\n",
      "Train Loss: 0.0337 | Val Loss: 0.0277\n",
      "Learning Rate: 0.000023\n",
      "\n",
      "Epoch 22/100\n"
     ]
    },
    {
     "name": "stderr",
     "output_type": "stream",
     "text": [
      "                                                              \r"
     ]
    },
    {
     "name": "stdout",
     "output_type": "stream",
     "text": [
      "Best model saved: /home/gabriel/VSProjects/audio_analysis/DenoisingAutoencoder/checkpoints/model_trial_2.pth (val loss: 0.0275)\n",
      "Train Loss: 0.0325 | Val Loss: 0.0275\n",
      "Learning Rate: 0.000023\n",
      "\n",
      "Epoch 23/100\n"
     ]
    },
    {
     "name": "stderr",
     "output_type": "stream",
     "text": [
      "                                                              \r"
     ]
    },
    {
     "name": "stdout",
     "output_type": "stream",
     "text": [
      "Best model saved: /home/gabriel/VSProjects/audio_analysis/DenoisingAutoencoder/checkpoints/model_trial_2.pth (val loss: 0.0252)\n",
      "Train Loss: 0.0316 | Val Loss: 0.0252\n",
      "Learning Rate: 0.000023\n",
      "\n",
      "Epoch 24/100\n"
     ]
    },
    {
     "name": "stderr",
     "output_type": "stream",
     "text": [
      "                                                              \r"
     ]
    },
    {
     "name": "stdout",
     "output_type": "stream",
     "text": [
      "Best model saved: /home/gabriel/VSProjects/audio_analysis/DenoisingAutoencoder/checkpoints/model_trial_2.pth (val loss: 0.0249)\n",
      "Train Loss: 0.0307 | Val Loss: 0.0249\n",
      "Learning Rate: 0.000023\n",
      "\n",
      "Epoch 25/100\n"
     ]
    },
    {
     "name": "stderr",
     "output_type": "stream",
     "text": [
      "                                                              \r"
     ]
    },
    {
     "name": "stdout",
     "output_type": "stream",
     "text": [
      "No improvement for 1 epoch(s)\n",
      "Train Loss: 0.0299 | Val Loss: 0.0258\n",
      "Learning Rate: 0.000023\n",
      "\n",
      "Epoch 26/100\n"
     ]
    },
    {
     "name": "stderr",
     "output_type": "stream",
     "text": [
      "                                                              \r"
     ]
    },
    {
     "name": "stdout",
     "output_type": "stream",
     "text": [
      "No improvement for 2 epoch(s)\n",
      "Train Loss: 0.0292 | Val Loss: 0.0258\n",
      "Learning Rate: 0.000023\n",
      "\n",
      "Epoch 27/100\n"
     ]
    },
    {
     "name": "stderr",
     "output_type": "stream",
     "text": [
      "                                                              \r"
     ]
    },
    {
     "name": "stdout",
     "output_type": "stream",
     "text": [
      "Best model saved: /home/gabriel/VSProjects/audio_analysis/DenoisingAutoencoder/checkpoints/model_trial_2.pth (val loss: 0.0233)\n",
      "Train Loss: 0.0286 | Val Loss: 0.0233\n",
      "Learning Rate: 0.000023\n",
      "\n",
      "Epoch 28/100\n"
     ]
    },
    {
     "name": "stderr",
     "output_type": "stream",
     "text": [
      "                                                              \r"
     ]
    },
    {
     "name": "stdout",
     "output_type": "stream",
     "text": [
      "No improvement for 1 epoch(s)\n",
      "Train Loss: 0.0280 | Val Loss: 0.0240\n",
      "Learning Rate: 0.000023\n",
      "\n",
      "Epoch 29/100\n"
     ]
    },
    {
     "name": "stderr",
     "output_type": "stream",
     "text": [
      "                                                              \r"
     ]
    },
    {
     "name": "stdout",
     "output_type": "stream",
     "text": [
      "No improvement for 2 epoch(s)\n",
      "Train Loss: 0.0276 | Val Loss: 0.0240\n",
      "Learning Rate: 0.000023\n",
      "\n",
      "Epoch 30/100\n"
     ]
    },
    {
     "name": "stderr",
     "output_type": "stream",
     "text": [
      "                                                              \r"
     ]
    },
    {
     "name": "stdout",
     "output_type": "stream",
     "text": [
      "No improvement for 3 epoch(s)\n",
      "Train Loss: 0.0270 | Val Loss: 0.0241\n",
      "Learning Rate: 0.000002\n",
      "\n",
      "Epoch 31/100\n"
     ]
    },
    {
     "name": "stderr",
     "output_type": "stream",
     "text": [
      "                                                              \r"
     ]
    },
    {
     "name": "stdout",
     "output_type": "stream",
     "text": [
      "Best model saved: /home/gabriel/VSProjects/audio_analysis/DenoisingAutoencoder/checkpoints/model_trial_2.pth (val loss: 0.0230)\n",
      "Train Loss: 0.0266 | Val Loss: 0.0230\n",
      "Learning Rate: 0.000002\n",
      "\n",
      "Epoch 32/100\n"
     ]
    },
    {
     "name": "stderr",
     "output_type": "stream",
     "text": [
      "                                                              \r"
     ]
    },
    {
     "name": "stdout",
     "output_type": "stream",
     "text": [
      "No improvement for 1 epoch(s)\n",
      "Train Loss: 0.0265 | Val Loss: 0.0243\n",
      "Learning Rate: 0.000002\n",
      "\n",
      "Epoch 33/100\n"
     ]
    },
    {
     "name": "stderr",
     "output_type": "stream",
     "text": [
      "                                                              \r"
     ]
    },
    {
     "name": "stdout",
     "output_type": "stream",
     "text": [
      "No improvement for 2 epoch(s)\n",
      "Train Loss: 0.0264 | Val Loss: 0.0234\n",
      "Learning Rate: 0.000002\n",
      "\n",
      "Epoch 34/100\n"
     ]
    },
    {
     "name": "stderr",
     "output_type": "stream",
     "text": [
      "                                                              \r"
     ]
    },
    {
     "name": "stdout",
     "output_type": "stream",
     "text": [
      "No improvement for 3 epoch(s)\n",
      "Train Loss: 0.0264 | Val Loss: 0.0241\n",
      "Learning Rate: 0.000000\n",
      "\n",
      "Epoch 35/100\n"
     ]
    },
    {
     "name": "stderr",
     "output_type": "stream",
     "text": [
      "                                                              \r"
     ]
    },
    {
     "name": "stdout",
     "output_type": "stream",
     "text": [
      "No improvement for 4 epoch(s)\n",
      "Train Loss: 0.0264 | Val Loss: 0.0236\n",
      "Learning Rate: 0.000000\n",
      "\n",
      "Epoch 36/100\n"
     ]
    },
    {
     "name": "stderr",
     "output_type": "stream",
     "text": [
      "                                                              \r"
     ]
    },
    {
     "name": "stdout",
     "output_type": "stream",
     "text": [
      "No improvement for 5 epoch(s)\n",
      "Early stopping triggered.\n"
     ]
    },
    {
     "data": {
      "text/html": [
       "\n",
       "    <style>\n",
       "        .wandb-row {\n",
       "            display: flex;\n",
       "            flex-direction: row;\n",
       "            flex-wrap: wrap;\n",
       "            justify-content: flex-start;\n",
       "            width: 100%;\n",
       "        }\n",
       "        .wandb-col {\n",
       "            display: flex;\n",
       "            flex-direction: column;\n",
       "            flex-basis: 100%;\n",
       "            flex: 1;\n",
       "            padding: 10px;\n",
       "        }\n",
       "    </style>\n",
       "<div class=\"wandb-row\"><div class=\"wandb-col\"><h3>Run history:</h3><br/><table class=\"wandb\"><tr><td>train_loss</td><td>█▄▃▃▃▂▂▂▂▂▂▁▁▁▁▁▁▁▁▁▁▁▁▁▁▁▁▁▁▁▁▁▁▁▁</td></tr><tr><td>val_loss</td><td>█▆▄▄▄▃▃▃▂▂▂▂▂▂▁▁▁▁▁▁▁▁▁▁▁▁▁▁▁▁▁▁▁▁▁</td></tr></table><br/></div><div class=\"wandb-col\"><h3>Run summary:</h3><br/><table class=\"wandb\"><tr><td>train_loss</td><td>0.02643</td></tr><tr><td>val_loss</td><td>0.02358</td></tr></table><br/></div></div>"
      ],
      "text/plain": [
       "<IPython.core.display.HTML object>"
      ]
     },
     "metadata": {},
     "output_type": "display_data"
    },
    {
     "data": {
      "text/html": [
       " View run <strong style=\"color:#cdcd00\">magic-frog-37</strong> at: <a href='https://wandb.ai/gfiuzaa-universidade-federal-do-rio-de-janeiro/audio-denoising/runs/hxaaaspx' target=\"_blank\">https://wandb.ai/gfiuzaa-universidade-federal-do-rio-de-janeiro/audio-denoising/runs/hxaaaspx</a><br/> View project at: <a href='https://wandb.ai/gfiuzaa-universidade-federal-do-rio-de-janeiro/audio-denoising' target=\"_blank\">https://wandb.ai/gfiuzaa-universidade-federal-do-rio-de-janeiro/audio-denoising</a><br/>Synced 5 W&B file(s), 0 media file(s), 0 artifact file(s) and 0 other file(s)"
      ],
      "text/plain": [
       "<IPython.core.display.HTML object>"
      ]
     },
     "metadata": {},
     "output_type": "display_data"
    },
    {
     "data": {
      "text/html": [
       "Find logs at: <code>./wandb/run-20250427_183809-hxaaaspx/logs</code>"
      ],
      "text/plain": [
       "<IPython.core.display.HTML object>"
      ]
     },
     "metadata": {},
     "output_type": "display_data"
    },
    {
     "name": "stderr",
     "output_type": "stream",
     "text": [
      "[I 2025-04-27 19:15:49,413] Trial 2 finished with value: 0.02301359161734581 and parameters: {'base_filters': 16, 'depth': 4, 'dropout_rate': 0.06051464388964752, 'lr': 2.2676672742965164e-05, 'batch_size': 16}. Best is trial 2 with value: 0.02301359161734581.\n"
     ]
    },
    {
     "data": {
      "text/html": [
       "Tracking run with wandb version 0.18.7"
      ],
      "text/plain": [
       "<IPython.core.display.HTML object>"
      ]
     },
     "metadata": {},
     "output_type": "display_data"
    },
    {
     "data": {
      "text/html": [
       "Run data is saved locally in <code>/home/gabriel/VSProjects/audio_analysis/DenoisingAutoencoder/notebooks/wandb/run-20250427_191549-zyjcomp3</code>"
      ],
      "text/plain": [
       "<IPython.core.display.HTML object>"
      ]
     },
     "metadata": {},
     "output_type": "display_data"
    },
    {
     "data": {
      "text/html": [
       "Syncing run <strong><a href='https://wandb.ai/gfiuzaa-universidade-federal-do-rio-de-janeiro/audio-denoising/runs/zyjcomp3' target=\"_blank\">graceful-music-38</a></strong> to <a href='https://wandb.ai/gfiuzaa-universidade-federal-do-rio-de-janeiro/audio-denoising' target=\"_blank\">Weights & Biases</a> (<a href='https://wandb.me/developer-guide' target=\"_blank\">docs</a>)<br/>"
      ],
      "text/plain": [
       "<IPython.core.display.HTML object>"
      ]
     },
     "metadata": {},
     "output_type": "display_data"
    },
    {
     "data": {
      "text/html": [
       " View project at <a href='https://wandb.ai/gfiuzaa-universidade-federal-do-rio-de-janeiro/audio-denoising' target=\"_blank\">https://wandb.ai/gfiuzaa-universidade-federal-do-rio-de-janeiro/audio-denoising</a>"
      ],
      "text/plain": [
       "<IPython.core.display.HTML object>"
      ]
     },
     "metadata": {},
     "output_type": "display_data"
    },
    {
     "data": {
      "text/html": [
       " View run at <a href='https://wandb.ai/gfiuzaa-universidade-federal-do-rio-de-janeiro/audio-denoising/runs/zyjcomp3' target=\"_blank\">https://wandb.ai/gfiuzaa-universidade-federal-do-rio-de-janeiro/audio-denoising/runs/zyjcomp3</a>"
      ],
      "text/plain": [
       "<IPython.core.display.HTML object>"
      ]
     },
     "metadata": {},
     "output_type": "display_data"
    },
    {
     "name": "stdout",
     "output_type": "stream",
     "text": [
      "\n",
      "Epoch 1/100\n"
     ]
    },
    {
     "name": "stderr",
     "output_type": "stream",
     "text": [
      "                                                              \r"
     ]
    },
    {
     "name": "stdout",
     "output_type": "stream",
     "text": [
      "Best model saved: /home/gabriel/VSProjects/audio_analysis/DenoisingAutoencoder/checkpoints/model_trial_3.pth (val loss: 0.0903)\n",
      "Train Loss: 0.2269 | Val Loss: 0.0903\n",
      "Learning Rate: 0.000139\n",
      "\n",
      "Epoch 2/100\n"
     ]
    },
    {
     "name": "stderr",
     "output_type": "stream",
     "text": [
      "                                                              \r"
     ]
    },
    {
     "name": "stdout",
     "output_type": "stream",
     "text": [
      "Best model saved: /home/gabriel/VSProjects/audio_analysis/DenoisingAutoencoder/checkpoints/model_trial_3.pth (val loss: 0.0768)\n",
      "Train Loss: 0.1056 | Val Loss: 0.0768\n",
      "Learning Rate: 0.000139\n",
      "\n",
      "Epoch 3/100\n"
     ]
    },
    {
     "name": "stderr",
     "output_type": "stream",
     "text": [
      "                                                              \r"
     ]
    },
    {
     "name": "stdout",
     "output_type": "stream",
     "text": [
      "Best model saved: /home/gabriel/VSProjects/audio_analysis/DenoisingAutoencoder/checkpoints/model_trial_3.pth (val loss: 0.0728)\n",
      "Train Loss: 0.0821 | Val Loss: 0.0728\n",
      "Learning Rate: 0.000139\n",
      "\n",
      "Epoch 4/100\n"
     ]
    },
    {
     "name": "stderr",
     "output_type": "stream",
     "text": [
      "                                                              \r"
     ]
    },
    {
     "name": "stdout",
     "output_type": "stream",
     "text": [
      "No improvement for 1 epoch(s)\n",
      "Train Loss: 0.0711 | Val Loss: 0.1665\n",
      "Learning Rate: 0.000139\n",
      "\n",
      "Epoch 5/100\n"
     ]
    },
    {
     "name": "stderr",
     "output_type": "stream",
     "text": [
      "                                                              \r"
     ]
    },
    {
     "name": "stdout",
     "output_type": "stream",
     "text": [
      "No improvement for 2 epoch(s)\n",
      "Train Loss: 0.0641 | Val Loss: 0.1043\n",
      "Learning Rate: 0.000139\n",
      "\n",
      "Epoch 6/100\n"
     ]
    },
    {
     "name": "stderr",
     "output_type": "stream",
     "text": [
      "                                                              \r"
     ]
    },
    {
     "name": "stdout",
     "output_type": "stream",
     "text": [
      "No improvement for 3 epoch(s)\n",
      "Train Loss: 0.0591 | Val Loss: 0.0885\n",
      "Learning Rate: 0.000014\n",
      "\n",
      "Epoch 7/100\n"
     ]
    },
    {
     "name": "stderr",
     "output_type": "stream",
     "text": [
      "                                                              \r"
     ]
    },
    {
     "name": "stdout",
     "output_type": "stream",
     "text": [
      "No improvement for 4 epoch(s)\n",
      "Train Loss: 0.0562 | Val Loss: 0.1526\n",
      "Learning Rate: 0.000014\n",
      "\n",
      "Epoch 8/100\n"
     ]
    },
    {
     "name": "stderr",
     "output_type": "stream",
     "text": [
      "                                                              \r"
     ]
    },
    {
     "name": "stdout",
     "output_type": "stream",
     "text": [
      "No improvement for 5 epoch(s)\n",
      "Early stopping triggered.\n"
     ]
    },
    {
     "data": {
      "text/html": [
       "\n",
       "    <style>\n",
       "        .wandb-row {\n",
       "            display: flex;\n",
       "            flex-direction: row;\n",
       "            flex-wrap: wrap;\n",
       "            justify-content: flex-start;\n",
       "            width: 100%;\n",
       "        }\n",
       "        .wandb-col {\n",
       "            display: flex;\n",
       "            flex-direction: column;\n",
       "            flex-basis: 100%;\n",
       "            flex: 1;\n",
       "            padding: 10px;\n",
       "        }\n",
       "    </style>\n",
       "<div class=\"wandb-row\"><div class=\"wandb-col\"><h3>Run history:</h3><br/><table class=\"wandb\"><tr><td>train_loss</td><td>█▃▂▂▁▁▁</td></tr><tr><td>val_loss</td><td>▂▁▁█▃▂▇</td></tr></table><br/></div><div class=\"wandb-col\"><h3>Run summary:</h3><br/><table class=\"wandb\"><tr><td>train_loss</td><td>0.05622</td></tr><tr><td>val_loss</td><td>0.15257</td></tr></table><br/></div></div>"
      ],
      "text/plain": [
       "<IPython.core.display.HTML object>"
      ]
     },
     "metadata": {},
     "output_type": "display_data"
    },
    {
     "data": {
      "text/html": [
       " View run <strong style=\"color:#cdcd00\">graceful-music-38</strong> at: <a href='https://wandb.ai/gfiuzaa-universidade-federal-do-rio-de-janeiro/audio-denoising/runs/zyjcomp3' target=\"_blank\">https://wandb.ai/gfiuzaa-universidade-federal-do-rio-de-janeiro/audio-denoising/runs/zyjcomp3</a><br/> View project at: <a href='https://wandb.ai/gfiuzaa-universidade-federal-do-rio-de-janeiro/audio-denoising' target=\"_blank\">https://wandb.ai/gfiuzaa-universidade-federal-do-rio-de-janeiro/audio-denoising</a><br/>Synced 5 W&B file(s), 0 media file(s), 0 artifact file(s) and 0 other file(s)"
      ],
      "text/plain": [
       "<IPython.core.display.HTML object>"
      ]
     },
     "metadata": {},
     "output_type": "display_data"
    },
    {
     "data": {
      "text/html": [
       "Find logs at: <code>./wandb/run-20250427_191549-zyjcomp3/logs</code>"
      ],
      "text/plain": [
       "<IPython.core.display.HTML object>"
      ]
     },
     "metadata": {},
     "output_type": "display_data"
    },
    {
     "name": "stderr",
     "output_type": "stream",
     "text": [
      "[I 2025-04-27 19:24:43,256] Trial 3 finished with value: 0.07280753319462141 and parameters: {'base_filters': 16, 'depth': 5, 'dropout_rate': 0.2337198422271164, 'lr': 0.00013863239908343142, 'batch_size': 16}. Best is trial 2 with value: 0.02301359161734581.\n"
     ]
    },
    {
     "data": {
      "text/html": [
       "Tracking run with wandb version 0.18.7"
      ],
      "text/plain": [
       "<IPython.core.display.HTML object>"
      ]
     },
     "metadata": {},
     "output_type": "display_data"
    },
    {
     "data": {
      "text/html": [
       "Run data is saved locally in <code>/home/gabriel/VSProjects/audio_analysis/DenoisingAutoencoder/notebooks/wandb/run-20250427_192443-ubbvejoi</code>"
      ],
      "text/plain": [
       "<IPython.core.display.HTML object>"
      ]
     },
     "metadata": {},
     "output_type": "display_data"
    },
    {
     "data": {
      "text/html": [
       "Syncing run <strong><a href='https://wandb.ai/gfiuzaa-universidade-federal-do-rio-de-janeiro/audio-denoising/runs/ubbvejoi' target=\"_blank\">colorful-brook-39</a></strong> to <a href='https://wandb.ai/gfiuzaa-universidade-federal-do-rio-de-janeiro/audio-denoising' target=\"_blank\">Weights & Biases</a> (<a href='https://wandb.me/developer-guide' target=\"_blank\">docs</a>)<br/>"
      ],
      "text/plain": [
       "<IPython.core.display.HTML object>"
      ]
     },
     "metadata": {},
     "output_type": "display_data"
    },
    {
     "data": {
      "text/html": [
       " View project at <a href='https://wandb.ai/gfiuzaa-universidade-federal-do-rio-de-janeiro/audio-denoising' target=\"_blank\">https://wandb.ai/gfiuzaa-universidade-federal-do-rio-de-janeiro/audio-denoising</a>"
      ],
      "text/plain": [
       "<IPython.core.display.HTML object>"
      ]
     },
     "metadata": {},
     "output_type": "display_data"
    },
    {
     "data": {
      "text/html": [
       " View run at <a href='https://wandb.ai/gfiuzaa-universidade-federal-do-rio-de-janeiro/audio-denoising/runs/ubbvejoi' target=\"_blank\">https://wandb.ai/gfiuzaa-universidade-federal-do-rio-de-janeiro/audio-denoising/runs/ubbvejoi</a>"
      ],
      "text/plain": [
       "<IPython.core.display.HTML object>"
      ]
     },
     "metadata": {},
     "output_type": "display_data"
    },
    {
     "name": "stdout",
     "output_type": "stream",
     "text": [
      "\n",
      "Epoch 1/100\n"
     ]
    },
    {
     "name": "stderr",
     "output_type": "stream",
     "text": [
      "                                                              \r"
     ]
    },
    {
     "name": "stdout",
     "output_type": "stream",
     "text": [
      "Best model saved: /home/gabriel/VSProjects/audio_analysis/DenoisingAutoencoder/checkpoints/model_trial_4.pth (val loss: 0.0555)\n",
      "Train Loss: 0.1423 | Val Loss: 0.0555\n",
      "Learning Rate: 0.000232\n",
      "\n",
      "Epoch 2/100\n"
     ]
    },
    {
     "name": "stderr",
     "output_type": "stream",
     "text": [
      "                                                              \r"
     ]
    },
    {
     "name": "stdout",
     "output_type": "stream",
     "text": [
      "No improvement for 1 epoch(s)\n",
      "Train Loss: 0.0731 | Val Loss: 0.0640\n",
      "Learning Rate: 0.000232\n",
      "\n",
      "Epoch 3/100\n"
     ]
    },
    {
     "name": "stderr",
     "output_type": "stream",
     "text": [
      "                                                              \r"
     ]
    },
    {
     "name": "stdout",
     "output_type": "stream",
     "text": [
      "No improvement for 2 epoch(s)\n",
      "Train Loss: 0.0593 | Val Loss: 0.0753\n",
      "Learning Rate: 0.000232\n",
      "\n",
      "Epoch 4/100\n"
     ]
    },
    {
     "name": "stderr",
     "output_type": "stream",
     "text": [
      "                                                              \r"
     ]
    },
    {
     "name": "stdout",
     "output_type": "stream",
     "text": [
      "No improvement for 3 epoch(s)\n",
      "Train Loss: 0.0513 | Val Loss: 0.1140\n",
      "Learning Rate: 0.000023\n",
      "\n",
      "Epoch 5/100\n"
     ]
    },
    {
     "name": "stderr",
     "output_type": "stream",
     "text": [
      "                                                              \r"
     ]
    },
    {
     "name": "stdout",
     "output_type": "stream",
     "text": [
      "No improvement for 4 epoch(s)\n",
      "Train Loss: 0.0476 | Val Loss: 0.0910\n",
      "Learning Rate: 0.000023\n",
      "\n",
      "Epoch 6/100\n"
     ]
    },
    {
     "name": "stderr",
     "output_type": "stream",
     "text": [
      "                                                              \r"
     ]
    },
    {
     "name": "stdout",
     "output_type": "stream",
     "text": [
      "No improvement for 5 epoch(s)\n",
      "Early stopping triggered.\n"
     ]
    },
    {
     "data": {
      "text/html": [
       "\n",
       "    <style>\n",
       "        .wandb-row {\n",
       "            display: flex;\n",
       "            flex-direction: row;\n",
       "            flex-wrap: wrap;\n",
       "            justify-content: flex-start;\n",
       "            width: 100%;\n",
       "        }\n",
       "        .wandb-col {\n",
       "            display: flex;\n",
       "            flex-direction: column;\n",
       "            flex-basis: 100%;\n",
       "            flex: 1;\n",
       "            padding: 10px;\n",
       "        }\n",
       "    </style>\n",
       "<div class=\"wandb-row\"><div class=\"wandb-col\"><h3>Run history:</h3><br/><table class=\"wandb\"><tr><td>train_loss</td><td>█▃▂▁▁</td></tr><tr><td>val_loss</td><td>▁▂▃█▅</td></tr></table><br/></div><div class=\"wandb-col\"><h3>Run summary:</h3><br/><table class=\"wandb\"><tr><td>train_loss</td><td>0.0476</td></tr><tr><td>val_loss</td><td>0.09105</td></tr></table><br/></div></div>"
      ],
      "text/plain": [
       "<IPython.core.display.HTML object>"
      ]
     },
     "metadata": {},
     "output_type": "display_data"
    },
    {
     "data": {
      "text/html": [
       " View run <strong style=\"color:#cdcd00\">colorful-brook-39</strong> at: <a href='https://wandb.ai/gfiuzaa-universidade-federal-do-rio-de-janeiro/audio-denoising/runs/ubbvejoi' target=\"_blank\">https://wandb.ai/gfiuzaa-universidade-federal-do-rio-de-janeiro/audio-denoising/runs/ubbvejoi</a><br/> View project at: <a href='https://wandb.ai/gfiuzaa-universidade-federal-do-rio-de-janeiro/audio-denoising' target=\"_blank\">https://wandb.ai/gfiuzaa-universidade-federal-do-rio-de-janeiro/audio-denoising</a><br/>Synced 5 W&B file(s), 0 media file(s), 0 artifact file(s) and 0 other file(s)"
      ],
      "text/plain": [
       "<IPython.core.display.HTML object>"
      ]
     },
     "metadata": {},
     "output_type": "display_data"
    },
    {
     "data": {
      "text/html": [
       "Find logs at: <code>./wandb/run-20250427_192443-ubbvejoi/logs</code>"
      ],
      "text/plain": [
       "<IPython.core.display.HTML object>"
      ]
     },
     "metadata": {},
     "output_type": "display_data"
    },
    {
     "name": "stderr",
     "output_type": "stream",
     "text": [
      "[I 2025-04-27 19:31:24,764] Trial 4 finished with value: 0.05552113388975461 and parameters: {'base_filters': 16, 'depth': 5, 'dropout_rate': 0.2370411676973104, 'lr': 0.00023161445536254422, 'batch_size': 16}. Best is trial 2 with value: 0.02301359161734581.\n"
     ]
    },
    {
     "data": {
      "text/html": [
       "Tracking run with wandb version 0.18.7"
      ],
      "text/plain": [
       "<IPython.core.display.HTML object>"
      ]
     },
     "metadata": {},
     "output_type": "display_data"
    },
    {
     "data": {
      "text/html": [
       "Run data is saved locally in <code>/home/gabriel/VSProjects/audio_analysis/DenoisingAutoencoder/notebooks/wandb/run-20250427_193124-5a79dd4n</code>"
      ],
      "text/plain": [
       "<IPython.core.display.HTML object>"
      ]
     },
     "metadata": {},
     "output_type": "display_data"
    },
    {
     "data": {
      "text/html": [
       "Syncing run <strong><a href='https://wandb.ai/gfiuzaa-universidade-federal-do-rio-de-janeiro/audio-denoising/runs/5a79dd4n' target=\"_blank\">solar-donkey-40</a></strong> to <a href='https://wandb.ai/gfiuzaa-universidade-federal-do-rio-de-janeiro/audio-denoising' target=\"_blank\">Weights & Biases</a> (<a href='https://wandb.me/developer-guide' target=\"_blank\">docs</a>)<br/>"
      ],
      "text/plain": [
       "<IPython.core.display.HTML object>"
      ]
     },
     "metadata": {},
     "output_type": "display_data"
    },
    {
     "data": {
      "text/html": [
       " View project at <a href='https://wandb.ai/gfiuzaa-universidade-federal-do-rio-de-janeiro/audio-denoising' target=\"_blank\">https://wandb.ai/gfiuzaa-universidade-federal-do-rio-de-janeiro/audio-denoising</a>"
      ],
      "text/plain": [
       "<IPython.core.display.HTML object>"
      ]
     },
     "metadata": {},
     "output_type": "display_data"
    },
    {
     "data": {
      "text/html": [
       " View run at <a href='https://wandb.ai/gfiuzaa-universidade-federal-do-rio-de-janeiro/audio-denoising/runs/5a79dd4n' target=\"_blank\">https://wandb.ai/gfiuzaa-universidade-federal-do-rio-de-janeiro/audio-denoising/runs/5a79dd4n</a>"
      ],
      "text/plain": [
       "<IPython.core.display.HTML object>"
      ]
     },
     "metadata": {},
     "output_type": "display_data"
    },
    {
     "name": "stdout",
     "output_type": "stream",
     "text": [
      "\n",
      "Epoch 1/100\n"
     ]
    },
    {
     "name": "stderr",
     "output_type": "stream",
     "text": [
      "                                                              \r"
     ]
    },
    {
     "name": "stdout",
     "output_type": "stream",
     "text": [
      "Best model saved: /home/gabriel/VSProjects/audio_analysis/DenoisingAutoencoder/checkpoints/model_trial_5.pth (val loss: 0.0399)\n",
      "Train Loss: 0.1330 | Val Loss: 0.0399\n",
      "Learning Rate: 0.000022\n",
      "\n",
      "Epoch 2/100\n"
     ]
    },
    {
     "name": "stderr",
     "output_type": "stream",
     "text": [
      "                                                              \r"
     ]
    },
    {
     "name": "stdout",
     "output_type": "stream",
     "text": [
      "Best model saved: /home/gabriel/VSProjects/audio_analysis/DenoisingAutoencoder/checkpoints/model_trial_5.pth (val loss: 0.0320)\n",
      "Train Loss: 0.0336 | Val Loss: 0.0320\n",
      "Learning Rate: 0.000022\n",
      "\n",
      "Epoch 3/100\n"
     ]
    },
    {
     "name": "stderr",
     "output_type": "stream",
     "text": [
      "                                                              \r"
     ]
    },
    {
     "name": "stdout",
     "output_type": "stream",
     "text": [
      "Best model saved: /home/gabriel/VSProjects/audio_analysis/DenoisingAutoencoder/checkpoints/model_trial_5.pth (val loss: 0.0251)\n",
      "Train Loss: 0.0255 | Val Loss: 0.0251\n",
      "Learning Rate: 0.000022\n",
      "\n",
      "Epoch 4/100\n"
     ]
    },
    {
     "name": "stderr",
     "output_type": "stream",
     "text": [
      "                                                              \r"
     ]
    },
    {
     "name": "stdout",
     "output_type": "stream",
     "text": [
      "Best model saved: /home/gabriel/VSProjects/audio_analysis/DenoisingAutoencoder/checkpoints/model_trial_5.pth (val loss: 0.0242)\n",
      "Train Loss: 0.0219 | Val Loss: 0.0242\n",
      "Learning Rate: 0.000022\n",
      "\n",
      "Epoch 5/100\n"
     ]
    },
    {
     "name": "stderr",
     "output_type": "stream",
     "text": [
      "                                                              \r"
     ]
    },
    {
     "name": "stdout",
     "output_type": "stream",
     "text": [
      "Best model saved: /home/gabriel/VSProjects/audio_analysis/DenoisingAutoencoder/checkpoints/model_trial_5.pth (val loss: 0.0224)\n",
      "Train Loss: 0.0195 | Val Loss: 0.0224\n",
      "Learning Rate: 0.000022\n",
      "\n",
      "Epoch 6/100\n"
     ]
    },
    {
     "name": "stderr",
     "output_type": "stream",
     "text": [
      "                                                              \r"
     ]
    },
    {
     "name": "stdout",
     "output_type": "stream",
     "text": [
      "No improvement for 1 epoch(s)\n",
      "Train Loss: 0.0177 | Val Loss: 0.0232\n",
      "Learning Rate: 0.000022\n",
      "\n",
      "Epoch 7/100\n"
     ]
    },
    {
     "name": "stderr",
     "output_type": "stream",
     "text": [
      "                                                              \r"
     ]
    },
    {
     "name": "stdout",
     "output_type": "stream",
     "text": [
      "Best model saved: /home/gabriel/VSProjects/audio_analysis/DenoisingAutoencoder/checkpoints/model_trial_5.pth (val loss: 0.0209)\n",
      "Train Loss: 0.0165 | Val Loss: 0.0209\n",
      "Learning Rate: 0.000022\n",
      "\n",
      "Epoch 8/100\n"
     ]
    },
    {
     "name": "stderr",
     "output_type": "stream",
     "text": [
      "                                                              \r"
     ]
    },
    {
     "name": "stdout",
     "output_type": "stream",
     "text": [
      "Best model saved: /home/gabriel/VSProjects/audio_analysis/DenoisingAutoencoder/checkpoints/model_trial_5.pth (val loss: 0.0194)\n",
      "Train Loss: 0.0154 | Val Loss: 0.0194\n",
      "Learning Rate: 0.000022\n",
      "\n",
      "Epoch 9/100\n"
     ]
    },
    {
     "name": "stderr",
     "output_type": "stream",
     "text": [
      "                                                              \r"
     ]
    },
    {
     "name": "stdout",
     "output_type": "stream",
     "text": [
      "Best model saved: /home/gabriel/VSProjects/audio_analysis/DenoisingAutoencoder/checkpoints/model_trial_5.pth (val loss: 0.0189)\n",
      "Train Loss: 0.0147 | Val Loss: 0.0189\n",
      "Learning Rate: 0.000022\n",
      "\n",
      "Epoch 10/100\n"
     ]
    },
    {
     "name": "stderr",
     "output_type": "stream",
     "text": [
      "                                                              \r"
     ]
    },
    {
     "name": "stdout",
     "output_type": "stream",
     "text": [
      "Best model saved: /home/gabriel/VSProjects/audio_analysis/DenoisingAutoencoder/checkpoints/model_trial_5.pth (val loss: 0.0186)\n",
      "Train Loss: 0.0138 | Val Loss: 0.0186\n",
      "Learning Rate: 0.000022\n",
      "\n",
      "Epoch 11/100\n"
     ]
    },
    {
     "name": "stderr",
     "output_type": "stream",
     "text": [
      "                                                              \r"
     ]
    },
    {
     "name": "stdout",
     "output_type": "stream",
     "text": [
      "No improvement for 1 epoch(s)\n",
      "Train Loss: 0.0133 | Val Loss: 0.0188\n",
      "Learning Rate: 0.000022\n",
      "\n",
      "Epoch 12/100\n"
     ]
    },
    {
     "name": "stderr",
     "output_type": "stream",
     "text": [
      "                                                              \r"
     ]
    },
    {
     "name": "stdout",
     "output_type": "stream",
     "text": [
      "No improvement for 2 epoch(s)\n",
      "Train Loss: 0.0127 | Val Loss: 0.0216\n",
      "Learning Rate: 0.000022\n",
      "\n",
      "Epoch 13/100\n"
     ]
    },
    {
     "name": "stderr",
     "output_type": "stream",
     "text": [
      "                                                              \r"
     ]
    },
    {
     "name": "stdout",
     "output_type": "stream",
     "text": [
      "Best model saved: /home/gabriel/VSProjects/audio_analysis/DenoisingAutoencoder/checkpoints/model_trial_5.pth (val loss: 0.0177)\n",
      "Train Loss: 0.0123 | Val Loss: 0.0177\n",
      "Learning Rate: 0.000022\n",
      "\n",
      "Epoch 14/100\n"
     ]
    },
    {
     "name": "stderr",
     "output_type": "stream",
     "text": [
      "                                                              \r"
     ]
    },
    {
     "name": "stdout",
     "output_type": "stream",
     "text": [
      "No improvement for 1 epoch(s)\n",
      "Train Loss: 0.0118 | Val Loss: 0.0198\n",
      "Learning Rate: 0.000022\n",
      "\n",
      "Epoch 15/100\n"
     ]
    },
    {
     "name": "stderr",
     "output_type": "stream",
     "text": [
      "                                                              \r"
     ]
    },
    {
     "name": "stdout",
     "output_type": "stream",
     "text": [
      "No improvement for 2 epoch(s)\n",
      "Train Loss: 0.0114 | Val Loss: 0.0240\n",
      "Learning Rate: 0.000022\n",
      "\n",
      "Epoch 16/100\n"
     ]
    },
    {
     "name": "stderr",
     "output_type": "stream",
     "text": [
      "                                                              \r"
     ]
    },
    {
     "name": "stdout",
     "output_type": "stream",
     "text": [
      "Best model saved: /home/gabriel/VSProjects/audio_analysis/DenoisingAutoencoder/checkpoints/model_trial_5.pth (val loss: 0.0176)\n",
      "Train Loss: 0.0111 | Val Loss: 0.0176\n",
      "Learning Rate: 0.000022\n",
      "\n",
      "Epoch 17/100\n"
     ]
    },
    {
     "name": "stderr",
     "output_type": "stream",
     "text": [
      "                                                              \r"
     ]
    },
    {
     "name": "stdout",
     "output_type": "stream",
     "text": [
      "Best model saved: /home/gabriel/VSProjects/audio_analysis/DenoisingAutoencoder/checkpoints/model_trial_5.pth (val loss: 0.0166)\n",
      "Train Loss: 0.0106 | Val Loss: 0.0166\n",
      "Learning Rate: 0.000022\n",
      "\n",
      "Epoch 18/100\n"
     ]
    },
    {
     "name": "stderr",
     "output_type": "stream",
     "text": [
      "                                                              \r"
     ]
    },
    {
     "name": "stdout",
     "output_type": "stream",
     "text": [
      "No improvement for 1 epoch(s)\n",
      "Train Loss: 0.0103 | Val Loss: 0.0173\n",
      "Learning Rate: 0.000022\n",
      "\n",
      "Epoch 19/100\n"
     ]
    },
    {
     "name": "stderr",
     "output_type": "stream",
     "text": [
      "                                                              \r"
     ]
    },
    {
     "name": "stdout",
     "output_type": "stream",
     "text": [
      "Best model saved: /home/gabriel/VSProjects/audio_analysis/DenoisingAutoencoder/checkpoints/model_trial_5.pth (val loss: 0.0164)\n",
      "Train Loss: 0.0100 | Val Loss: 0.0164\n",
      "Learning Rate: 0.000022\n",
      "\n",
      "Epoch 20/100\n"
     ]
    },
    {
     "name": "stderr",
     "output_type": "stream",
     "text": [
      "                                                              \r"
     ]
    },
    {
     "name": "stdout",
     "output_type": "stream",
     "text": [
      "No improvement for 1 epoch(s)\n",
      "Train Loss: 0.0099 | Val Loss: 0.0174\n",
      "Learning Rate: 0.000022\n",
      "\n",
      "Epoch 21/100\n"
     ]
    },
    {
     "name": "stderr",
     "output_type": "stream",
     "text": [
      "                                                              \r"
     ]
    },
    {
     "name": "stdout",
     "output_type": "stream",
     "text": [
      "No improvement for 2 epoch(s)\n",
      "Train Loss: 0.0096 | Val Loss: 0.0167\n",
      "Learning Rate: 0.000022\n",
      "\n",
      "Epoch 22/100\n"
     ]
    },
    {
     "name": "stderr",
     "output_type": "stream",
     "text": [
      "                                                              \r"
     ]
    },
    {
     "name": "stdout",
     "output_type": "stream",
     "text": [
      "No improvement for 3 epoch(s)\n",
      "Train Loss: 0.0094 | Val Loss: 0.0168\n",
      "Learning Rate: 0.000002\n",
      "\n",
      "Epoch 23/100\n"
     ]
    },
    {
     "name": "stderr",
     "output_type": "stream",
     "text": [
      "                                                              \r"
     ]
    },
    {
     "name": "stdout",
     "output_type": "stream",
     "text": [
      "No improvement for 4 epoch(s)\n",
      "Train Loss: 0.0089 | Val Loss: 0.0164\n",
      "Learning Rate: 0.000002\n",
      "\n",
      "Epoch 24/100\n"
     ]
    },
    {
     "name": "stderr",
     "output_type": "stream",
     "text": [
      "                                                              \r"
     ]
    },
    {
     "name": "stdout",
     "output_type": "stream",
     "text": [
      "Best model saved: /home/gabriel/VSProjects/audio_analysis/DenoisingAutoencoder/checkpoints/model_trial_5.pth (val loss: 0.0163)\n",
      "Train Loss: 0.0088 | Val Loss: 0.0163\n",
      "Learning Rate: 0.000002\n",
      "\n",
      "Epoch 25/100\n"
     ]
    },
    {
     "name": "stderr",
     "output_type": "stream",
     "text": [
      "                                                              \r"
     ]
    },
    {
     "name": "stdout",
     "output_type": "stream",
     "text": [
      "No improvement for 1 epoch(s)\n",
      "Train Loss: 0.0088 | Val Loss: 0.0163\n",
      "Learning Rate: 0.000002\n",
      "\n",
      "Epoch 26/100\n"
     ]
    },
    {
     "name": "stderr",
     "output_type": "stream",
     "text": [
      "                                                              \r"
     ]
    },
    {
     "name": "stdout",
     "output_type": "stream",
     "text": [
      "No improvement for 2 epoch(s)\n",
      "Train Loss: 0.0087 | Val Loss: 0.0163\n",
      "Learning Rate: 0.000002\n",
      "\n",
      "Epoch 27/100\n"
     ]
    },
    {
     "name": "stderr",
     "output_type": "stream",
     "text": [
      "                                                              \r"
     ]
    },
    {
     "name": "stdout",
     "output_type": "stream",
     "text": [
      "Best model saved: /home/gabriel/VSProjects/audio_analysis/DenoisingAutoencoder/checkpoints/model_trial_5.pth (val loss: 0.0163)\n",
      "Train Loss: 0.0087 | Val Loss: 0.0163\n",
      "Learning Rate: 0.000002\n",
      "\n",
      "Epoch 28/100\n"
     ]
    },
    {
     "name": "stderr",
     "output_type": "stream",
     "text": [
      "                                                              \r"
     ]
    },
    {
     "name": "stdout",
     "output_type": "stream",
     "text": [
      "No improvement for 1 epoch(s)\n",
      "Train Loss: 0.0087 | Val Loss: 0.0163\n",
      "Learning Rate: 0.000002\n",
      "\n",
      "Epoch 29/100\n"
     ]
    },
    {
     "name": "stderr",
     "output_type": "stream",
     "text": [
      "                                                              \r"
     ]
    },
    {
     "name": "stdout",
     "output_type": "stream",
     "text": [
      "No improvement for 2 epoch(s)\n",
      "Train Loss: 0.0086 | Val Loss: 0.0163\n",
      "Learning Rate: 0.000002\n",
      "\n",
      "Epoch 30/100\n"
     ]
    },
    {
     "name": "stderr",
     "output_type": "stream",
     "text": [
      "                                                              \r"
     ]
    },
    {
     "name": "stdout",
     "output_type": "stream",
     "text": [
      "Best model saved: /home/gabriel/VSProjects/audio_analysis/DenoisingAutoencoder/checkpoints/model_trial_5.pth (val loss: 0.0162)\n",
      "Train Loss: 0.0086 | Val Loss: 0.0162\n",
      "Learning Rate: 0.000002\n",
      "\n",
      "Epoch 31/100\n"
     ]
    },
    {
     "name": "stderr",
     "output_type": "stream",
     "text": [
      "                                                              \r"
     ]
    },
    {
     "name": "stdout",
     "output_type": "stream",
     "text": [
      "No improvement for 1 epoch(s)\n",
      "Train Loss: 0.0086 | Val Loss: 0.0163\n",
      "Learning Rate: 0.000002\n",
      "\n",
      "Epoch 32/100\n"
     ]
    },
    {
     "name": "stderr",
     "output_type": "stream",
     "text": [
      "                                                              \r"
     ]
    },
    {
     "name": "stdout",
     "output_type": "stream",
     "text": [
      "Best model saved: /home/gabriel/VSProjects/audio_analysis/DenoisingAutoencoder/checkpoints/model_trial_5.pth (val loss: 0.0159)\n",
      "Train Loss: 0.0085 | Val Loss: 0.0159\n",
      "Learning Rate: 0.000002\n",
      "\n",
      "Epoch 33/100\n"
     ]
    },
    {
     "name": "stderr",
     "output_type": "stream",
     "text": [
      "                                                              \r"
     ]
    },
    {
     "name": "stdout",
     "output_type": "stream",
     "text": [
      "Best model saved: /home/gabriel/VSProjects/audio_analysis/DenoisingAutoencoder/checkpoints/model_trial_5.pth (val loss: 0.0159)\n",
      "Train Loss: 0.0085 | Val Loss: 0.0159\n",
      "Learning Rate: 0.000002\n",
      "\n",
      "Epoch 34/100\n"
     ]
    },
    {
     "name": "stderr",
     "output_type": "stream",
     "text": [
      "                                                              \r"
     ]
    },
    {
     "name": "stdout",
     "output_type": "stream",
     "text": [
      "No improvement for 1 epoch(s)\n",
      "Train Loss: 0.0085 | Val Loss: 0.0162\n",
      "Learning Rate: 0.000002\n",
      "\n",
      "Epoch 35/100\n"
     ]
    },
    {
     "name": "stderr",
     "output_type": "stream",
     "text": [
      "                                                              \r"
     ]
    },
    {
     "name": "stdout",
     "output_type": "stream",
     "text": [
      "No improvement for 2 epoch(s)\n",
      "Train Loss: 0.0085 | Val Loss: 0.0164\n",
      "Learning Rate: 0.000002\n",
      "\n",
      "Epoch 36/100\n"
     ]
    },
    {
     "name": "stderr",
     "output_type": "stream",
     "text": [
      "                                                              \r"
     ]
    },
    {
     "name": "stdout",
     "output_type": "stream",
     "text": [
      "No improvement for 3 epoch(s)\n",
      "Train Loss: 0.0085 | Val Loss: 0.0162\n",
      "Learning Rate: 0.000000\n",
      "\n",
      "Epoch 37/100\n"
     ]
    },
    {
     "name": "stderr",
     "output_type": "stream",
     "text": [
      "                                                              \r"
     ]
    },
    {
     "name": "stdout",
     "output_type": "stream",
     "text": [
      "No improvement for 4 epoch(s)\n",
      "Train Loss: 0.0084 | Val Loss: 0.0161\n",
      "Learning Rate: 0.000000\n",
      "\n",
      "Epoch 38/100\n"
     ]
    },
    {
     "name": "stderr",
     "output_type": "stream",
     "text": [
      "                                                              \r"
     ]
    },
    {
     "name": "stdout",
     "output_type": "stream",
     "text": [
      "No improvement for 5 epoch(s)\n",
      "Early stopping triggered.\n"
     ]
    },
    {
     "data": {
      "text/html": [
       "\n",
       "    <style>\n",
       "        .wandb-row {\n",
       "            display: flex;\n",
       "            flex-direction: row;\n",
       "            flex-wrap: wrap;\n",
       "            justify-content: flex-start;\n",
       "            width: 100%;\n",
       "        }\n",
       "        .wandb-col {\n",
       "            display: flex;\n",
       "            flex-direction: column;\n",
       "            flex-basis: 100%;\n",
       "            flex: 1;\n",
       "            padding: 10px;\n",
       "        }\n",
       "    </style>\n",
       "<div class=\"wandb-row\"><div class=\"wandb-col\"><h3>Run history:</h3><br/><table class=\"wandb\"><tr><td>train_loss</td><td>█▂▂▂▂▂▁▁▁▁▁▁▁▁▁▁▁▁▁▁▁▁▁▁▁▁▁▁▁▁▁▁▁▁▁▁▁</td></tr><tr><td>val_loss</td><td>█▆▄▃▃▃▂▂▂▂▂▃▂▂▃▂▁▁▁▁▁▁▁▁▁▁▁▁▁▁▁▁▁▁▁▁▁</td></tr></table><br/></div><div class=\"wandb-col\"><h3>Run summary:</h3><br/><table class=\"wandb\"><tr><td>train_loss</td><td>0.00838</td></tr><tr><td>val_loss</td><td>0.01606</td></tr></table><br/></div></div>"
      ],
      "text/plain": [
       "<IPython.core.display.HTML object>"
      ]
     },
     "metadata": {},
     "output_type": "display_data"
    },
    {
     "data": {
      "text/html": [
       " View run <strong style=\"color:#cdcd00\">solar-donkey-40</strong> at: <a href='https://wandb.ai/gfiuzaa-universidade-federal-do-rio-de-janeiro/audio-denoising/runs/5a79dd4n' target=\"_blank\">https://wandb.ai/gfiuzaa-universidade-federal-do-rio-de-janeiro/audio-denoising/runs/5a79dd4n</a><br/> View project at: <a href='https://wandb.ai/gfiuzaa-universidade-federal-do-rio-de-janeiro/audio-denoising' target=\"_blank\">https://wandb.ai/gfiuzaa-universidade-federal-do-rio-de-janeiro/audio-denoising</a><br/>Synced 5 W&B file(s), 0 media file(s), 0 artifact file(s) and 0 other file(s)"
      ],
      "text/plain": [
       "<IPython.core.display.HTML object>"
      ]
     },
     "metadata": {},
     "output_type": "display_data"
    },
    {
     "data": {
      "text/html": [
       "Find logs at: <code>./wandb/run-20250427_193124-5a79dd4n/logs</code>"
      ],
      "text/plain": [
       "<IPython.core.display.HTML object>"
      ]
     },
     "metadata": {},
     "output_type": "display_data"
    },
    {
     "name": "stderr",
     "output_type": "stream",
     "text": [
      "[I 2025-04-27 20:41:04,675] Trial 5 finished with value: 0.01586601260739068 and parameters: {'base_filters': 32, 'depth': 3, 'dropout_rate': 0.00916028827548251, 'lr': 2.199358345253637e-05, 'batch_size': 8}. Best is trial 5 with value: 0.01586601260739068.\n"
     ]
    },
    {
     "data": {
      "text/html": [
       "Tracking run with wandb version 0.18.7"
      ],
      "text/plain": [
       "<IPython.core.display.HTML object>"
      ]
     },
     "metadata": {},
     "output_type": "display_data"
    },
    {
     "data": {
      "text/html": [
       "Run data is saved locally in <code>/home/gabriel/VSProjects/audio_analysis/DenoisingAutoencoder/notebooks/wandb/run-20250427_204104-cwi4smvk</code>"
      ],
      "text/plain": [
       "<IPython.core.display.HTML object>"
      ]
     },
     "metadata": {},
     "output_type": "display_data"
    },
    {
     "data": {
      "text/html": [
       "Syncing run <strong><a href='https://wandb.ai/gfiuzaa-universidade-federal-do-rio-de-janeiro/audio-denoising/runs/cwi4smvk' target=\"_blank\">genial-brook-41</a></strong> to <a href='https://wandb.ai/gfiuzaa-universidade-federal-do-rio-de-janeiro/audio-denoising' target=\"_blank\">Weights & Biases</a> (<a href='https://wandb.me/developer-guide' target=\"_blank\">docs</a>)<br/>"
      ],
      "text/plain": [
       "<IPython.core.display.HTML object>"
      ]
     },
     "metadata": {},
     "output_type": "display_data"
    },
    {
     "data": {
      "text/html": [
       " View project at <a href='https://wandb.ai/gfiuzaa-universidade-federal-do-rio-de-janeiro/audio-denoising' target=\"_blank\">https://wandb.ai/gfiuzaa-universidade-federal-do-rio-de-janeiro/audio-denoising</a>"
      ],
      "text/plain": [
       "<IPython.core.display.HTML object>"
      ]
     },
     "metadata": {},
     "output_type": "display_data"
    },
    {
     "data": {
      "text/html": [
       " View run at <a href='https://wandb.ai/gfiuzaa-universidade-federal-do-rio-de-janeiro/audio-denoising/runs/cwi4smvk' target=\"_blank\">https://wandb.ai/gfiuzaa-universidade-federal-do-rio-de-janeiro/audio-denoising/runs/cwi4smvk</a>"
      ],
      "text/plain": [
       "<IPython.core.display.HTML object>"
      ]
     },
     "metadata": {},
     "output_type": "display_data"
    },
    {
     "name": "stdout",
     "output_type": "stream",
     "text": [
      "\n",
      "Epoch 1/100\n"
     ]
    },
    {
     "name": "stderr",
     "output_type": "stream",
     "text": [
      "                                                              \r"
     ]
    },
    {
     "name": "stdout",
     "output_type": "stream",
     "text": [
      "Best model saved: /home/gabriel/VSProjects/audio_analysis/DenoisingAutoencoder/checkpoints/model_trial_6.pth (val loss: 0.0297)\n",
      "Train Loss: 0.0459 | Val Loss: 0.0297\n",
      "Learning Rate: 0.000451\n",
      "\n",
      "Epoch 2/100\n"
     ]
    },
    {
     "name": "stderr",
     "output_type": "stream",
     "text": [
      "                                                              \r"
     ]
    },
    {
     "name": "stdout",
     "output_type": "stream",
     "text": [
      "Best model saved: /home/gabriel/VSProjects/audio_analysis/DenoisingAutoencoder/checkpoints/model_trial_6.pth (val loss: 0.0247)\n",
      "Train Loss: 0.0229 | Val Loss: 0.0247\n",
      "Learning Rate: 0.000451\n",
      "\n",
      "Epoch 3/100\n"
     ]
    },
    {
     "name": "stderr",
     "output_type": "stream",
     "text": [
      "                                                              \r"
     ]
    },
    {
     "name": "stdout",
     "output_type": "stream",
     "text": [
      "Best model saved: /home/gabriel/VSProjects/audio_analysis/DenoisingAutoencoder/checkpoints/model_trial_6.pth (val loss: 0.0182)\n",
      "Train Loss: 0.0189 | Val Loss: 0.0182\n",
      "Learning Rate: 0.000451\n",
      "\n",
      "Epoch 4/100\n"
     ]
    },
    {
     "name": "stderr",
     "output_type": "stream",
     "text": [
      "                                                              \r"
     ]
    },
    {
     "name": "stdout",
     "output_type": "stream",
     "text": [
      "Best model saved: /home/gabriel/VSProjects/audio_analysis/DenoisingAutoencoder/checkpoints/model_trial_6.pth (val loss: 0.0178)\n",
      "Train Loss: 0.0170 | Val Loss: 0.0178\n",
      "Learning Rate: 0.000451\n",
      "\n",
      "Epoch 5/100\n"
     ]
    },
    {
     "name": "stderr",
     "output_type": "stream",
     "text": [
      "                                                              \r"
     ]
    },
    {
     "name": "stdout",
     "output_type": "stream",
     "text": [
      "No improvement for 1 epoch(s)\n",
      "Train Loss: 0.0149 | Val Loss: 0.0180\n",
      "Learning Rate: 0.000451\n",
      "\n",
      "Epoch 6/100\n"
     ]
    },
    {
     "name": "stderr",
     "output_type": "stream",
     "text": [
      "                                                              \r"
     ]
    },
    {
     "name": "stdout",
     "output_type": "stream",
     "text": [
      "No improvement for 2 epoch(s)\n",
      "Train Loss: 0.0143 | Val Loss: 0.0222\n",
      "Learning Rate: 0.000451\n",
      "\n",
      "Epoch 7/100\n"
     ]
    },
    {
     "name": "stderr",
     "output_type": "stream",
     "text": [
      "                                                              \r"
     ]
    },
    {
     "name": "stdout",
     "output_type": "stream",
     "text": [
      "Best model saved: /home/gabriel/VSProjects/audio_analysis/DenoisingAutoencoder/checkpoints/model_trial_6.pth (val loss: 0.0155)\n",
      "Train Loss: 0.0134 | Val Loss: 0.0155\n",
      "Learning Rate: 0.000451\n",
      "\n",
      "Epoch 8/100\n"
     ]
    },
    {
     "name": "stderr",
     "output_type": "stream",
     "text": [
      "                                                              \r"
     ]
    },
    {
     "name": "stdout",
     "output_type": "stream",
     "text": [
      "No improvement for 1 epoch(s)\n",
      "Train Loss: 0.0122 | Val Loss: 0.0279\n",
      "Learning Rate: 0.000451\n",
      "\n",
      "Epoch 9/100\n"
     ]
    },
    {
     "name": "stderr",
     "output_type": "stream",
     "text": [
      "                                                              \r"
     ]
    },
    {
     "name": "stdout",
     "output_type": "stream",
     "text": [
      "Best model saved: /home/gabriel/VSProjects/audio_analysis/DenoisingAutoencoder/checkpoints/model_trial_6.pth (val loss: 0.0138)\n",
      "Train Loss: 0.0118 | Val Loss: 0.0138\n",
      "Learning Rate: 0.000451\n",
      "\n",
      "Epoch 10/100\n"
     ]
    },
    {
     "name": "stderr",
     "output_type": "stream",
     "text": [
      "                                                              \r"
     ]
    },
    {
     "name": "stdout",
     "output_type": "stream",
     "text": [
      "No improvement for 1 epoch(s)\n",
      "Train Loss: 0.0123 | Val Loss: 0.0207\n",
      "Learning Rate: 0.000451\n",
      "\n",
      "Epoch 11/100\n"
     ]
    },
    {
     "name": "stderr",
     "output_type": "stream",
     "text": [
      "                                                              \r"
     ]
    },
    {
     "name": "stdout",
     "output_type": "stream",
     "text": [
      "Best model saved: /home/gabriel/VSProjects/audio_analysis/DenoisingAutoencoder/checkpoints/model_trial_6.pth (val loss: 0.0138)\n",
      "Train Loss: 0.0108 | Val Loss: 0.0138\n",
      "Learning Rate: 0.000451\n",
      "\n",
      "Epoch 12/100\n"
     ]
    },
    {
     "name": "stderr",
     "output_type": "stream",
     "text": [
      "                                                              \r"
     ]
    },
    {
     "name": "stdout",
     "output_type": "stream",
     "text": [
      "Best model saved: /home/gabriel/VSProjects/audio_analysis/DenoisingAutoencoder/checkpoints/model_trial_6.pth (val loss: 0.0124)\n",
      "Train Loss: 0.0101 | Val Loss: 0.0124\n",
      "Learning Rate: 0.000451\n",
      "\n",
      "Epoch 13/100\n"
     ]
    },
    {
     "name": "stderr",
     "output_type": "stream",
     "text": [
      "                                                              \r"
     ]
    },
    {
     "name": "stdout",
     "output_type": "stream",
     "text": [
      "No improvement for 1 epoch(s)\n",
      "Train Loss: 0.0106 | Val Loss: 0.0154\n",
      "Learning Rate: 0.000451\n",
      "\n",
      "Epoch 14/100\n"
     ]
    },
    {
     "name": "stderr",
     "output_type": "stream",
     "text": [
      "                                                              \r"
     ]
    },
    {
     "name": "stdout",
     "output_type": "stream",
     "text": [
      "No improvement for 2 epoch(s)\n",
      "Train Loss: 0.0096 | Val Loss: 0.0147\n",
      "Learning Rate: 0.000451\n",
      "\n",
      "Epoch 15/100\n"
     ]
    },
    {
     "name": "stderr",
     "output_type": "stream",
     "text": [
      "                                                              \r"
     ]
    },
    {
     "name": "stdout",
     "output_type": "stream",
     "text": [
      "No improvement for 3 epoch(s)\n",
      "Train Loss: 0.0093 | Val Loss: 0.0136\n",
      "Learning Rate: 0.000045\n",
      "\n",
      "Epoch 16/100\n"
     ]
    },
    {
     "name": "stderr",
     "output_type": "stream",
     "text": [
      "                                                              \r"
     ]
    },
    {
     "name": "stdout",
     "output_type": "stream",
     "text": [
      "No improvement for 4 epoch(s)\n",
      "Train Loss: 0.0086 | Val Loss: 0.0130\n",
      "Learning Rate: 0.000045\n",
      "\n",
      "Epoch 17/100\n"
     ]
    },
    {
     "name": "stderr",
     "output_type": "stream",
     "text": [
      "                                                              \r"
     ]
    },
    {
     "name": "stdout",
     "output_type": "stream",
     "text": [
      "No improvement for 5 epoch(s)\n",
      "Early stopping triggered.\n"
     ]
    },
    {
     "data": {
      "text/html": [
       "\n",
       "    <style>\n",
       "        .wandb-row {\n",
       "            display: flex;\n",
       "            flex-direction: row;\n",
       "            flex-wrap: wrap;\n",
       "            justify-content: flex-start;\n",
       "            width: 100%;\n",
       "        }\n",
       "        .wandb-col {\n",
       "            display: flex;\n",
       "            flex-direction: column;\n",
       "            flex-basis: 100%;\n",
       "            flex: 1;\n",
       "            padding: 10px;\n",
       "        }\n",
       "    </style>\n",
       "<div class=\"wandb-row\"><div class=\"wandb-col\"><h3>Run history:</h3><br/><table class=\"wandb\"><tr><td>train_loss</td><td>█▄▃▃▂▂▂▂▂▂▁▁▁▁▁▁</td></tr><tr><td>val_loss</td><td>█▆▃▃▃▅▂▇▂▄▂▁▂▂▁▁</td></tr></table><br/></div><div class=\"wandb-col\"><h3>Run summary:</h3><br/><table class=\"wandb\"><tr><td>train_loss</td><td>0.00859</td></tr><tr><td>val_loss</td><td>0.01304</td></tr></table><br/></div></div>"
      ],
      "text/plain": [
       "<IPython.core.display.HTML object>"
      ]
     },
     "metadata": {},
     "output_type": "display_data"
    },
    {
     "data": {
      "text/html": [
       " View run <strong style=\"color:#cdcd00\">genial-brook-41</strong> at: <a href='https://wandb.ai/gfiuzaa-universidade-federal-do-rio-de-janeiro/audio-denoising/runs/cwi4smvk' target=\"_blank\">https://wandb.ai/gfiuzaa-universidade-federal-do-rio-de-janeiro/audio-denoising/runs/cwi4smvk</a><br/> View project at: <a href='https://wandb.ai/gfiuzaa-universidade-federal-do-rio-de-janeiro/audio-denoising' target=\"_blank\">https://wandb.ai/gfiuzaa-universidade-federal-do-rio-de-janeiro/audio-denoising</a><br/>Synced 5 W&B file(s), 0 media file(s), 0 artifact file(s) and 0 other file(s)"
      ],
      "text/plain": [
       "<IPython.core.display.HTML object>"
      ]
     },
     "metadata": {},
     "output_type": "display_data"
    },
    {
     "data": {
      "text/html": [
       "Find logs at: <code>./wandb/run-20250427_204104-cwi4smvk/logs</code>"
      ],
      "text/plain": [
       "<IPython.core.display.HTML object>"
      ]
     },
     "metadata": {},
     "output_type": "display_data"
    },
    {
     "name": "stderr",
     "output_type": "stream",
     "text": [
      "[I 2025-04-27 21:16:03,526] Trial 6 finished with value: 0.012372229328999916 and parameters: {'base_filters': 32, 'depth': 4, 'dropout_rate': 0.04318272365752422, 'lr': 0.00045102085177183324, 'batch_size': 8}. Best is trial 6 with value: 0.012372229328999916.\n"
     ]
    },
    {
     "data": {
      "text/html": [
       "Tracking run with wandb version 0.18.7"
      ],
      "text/plain": [
       "<IPython.core.display.HTML object>"
      ]
     },
     "metadata": {},
     "output_type": "display_data"
    },
    {
     "data": {
      "text/html": [
       "Run data is saved locally in <code>/home/gabriel/VSProjects/audio_analysis/DenoisingAutoencoder/notebooks/wandb/run-20250427_211603-3bxb3v51</code>"
      ],
      "text/plain": [
       "<IPython.core.display.HTML object>"
      ]
     },
     "metadata": {},
     "output_type": "display_data"
    },
    {
     "data": {
      "text/html": [
       "Syncing run <strong><a href='https://wandb.ai/gfiuzaa-universidade-federal-do-rio-de-janeiro/audio-denoising/runs/3bxb3v51' target=\"_blank\">restful-cloud-42</a></strong> to <a href='https://wandb.ai/gfiuzaa-universidade-federal-do-rio-de-janeiro/audio-denoising' target=\"_blank\">Weights & Biases</a> (<a href='https://wandb.me/developer-guide' target=\"_blank\">docs</a>)<br/>"
      ],
      "text/plain": [
       "<IPython.core.display.HTML object>"
      ]
     },
     "metadata": {},
     "output_type": "display_data"
    },
    {
     "data": {
      "text/html": [
       " View project at <a href='https://wandb.ai/gfiuzaa-universidade-federal-do-rio-de-janeiro/audio-denoising' target=\"_blank\">https://wandb.ai/gfiuzaa-universidade-federal-do-rio-de-janeiro/audio-denoising</a>"
      ],
      "text/plain": [
       "<IPython.core.display.HTML object>"
      ]
     },
     "metadata": {},
     "output_type": "display_data"
    },
    {
     "data": {
      "text/html": [
       " View run at <a href='https://wandb.ai/gfiuzaa-universidade-federal-do-rio-de-janeiro/audio-denoising/runs/3bxb3v51' target=\"_blank\">https://wandb.ai/gfiuzaa-universidade-federal-do-rio-de-janeiro/audio-denoising/runs/3bxb3v51</a>"
      ],
      "text/plain": [
       "<IPython.core.display.HTML object>"
      ]
     },
     "metadata": {},
     "output_type": "display_data"
    },
    {
     "name": "stdout",
     "output_type": "stream",
     "text": [
      "\n",
      "Epoch 1/100\n"
     ]
    },
    {
     "name": "stderr",
     "output_type": "stream",
     "text": [
      "                                                              \r"
     ]
    },
    {
     "name": "stdout",
     "output_type": "stream",
     "text": [
      "Best model saved: /home/gabriel/VSProjects/audio_analysis/DenoisingAutoencoder/checkpoints/model_trial_7.pth (val loss: 0.1710)\n",
      "Train Loss: 0.4319 | Val Loss: 0.1710\n",
      "Learning Rate: 0.000395\n",
      "\n",
      "Epoch 2/100\n"
     ]
    },
    {
     "name": "stderr",
     "output_type": "stream",
     "text": [
      "                                                              \r"
     ]
    },
    {
     "name": "stdout",
     "output_type": "stream",
     "text": [
      "Best model saved: /home/gabriel/VSProjects/audio_analysis/DenoisingAutoencoder/checkpoints/model_trial_7.pth (val loss: 0.0981)\n",
      "Train Loss: 0.1591 | Val Loss: 0.0981\n",
      "Learning Rate: 0.000395\n",
      "\n",
      "Epoch 3/100\n"
     ]
    },
    {
     "name": "stderr",
     "output_type": "stream",
     "text": [
      "                                                              \r"
     ]
    },
    {
     "name": "stdout",
     "output_type": "stream",
     "text": [
      "Best model saved: /home/gabriel/VSProjects/audio_analysis/DenoisingAutoencoder/checkpoints/model_trial_7.pth (val loss: 0.0921)\n",
      "Train Loss: 0.1116 | Val Loss: 0.0921\n",
      "Learning Rate: 0.000395\n",
      "\n",
      "Epoch 4/100\n"
     ]
    },
    {
     "name": "stderr",
     "output_type": "stream",
     "text": [
      "                                                              \r"
     ]
    },
    {
     "name": "stdout",
     "output_type": "stream",
     "text": [
      "Best model saved: /home/gabriel/VSProjects/audio_analysis/DenoisingAutoencoder/checkpoints/model_trial_7.pth (val loss: 0.0599)\n",
      "Train Loss: 0.0995 | Val Loss: 0.0599\n",
      "Learning Rate: 0.000395\n",
      "\n",
      "Epoch 5/100\n"
     ]
    },
    {
     "name": "stderr",
     "output_type": "stream",
     "text": [
      "                                                              \r"
     ]
    },
    {
     "name": "stdout",
     "output_type": "stream",
     "text": [
      "No improvement for 1 epoch(s)\n",
      "Train Loss: 0.0941 | Val Loss: 0.1637\n",
      "Learning Rate: 0.000395\n",
      "\n",
      "Epoch 6/100\n"
     ]
    },
    {
     "name": "stderr",
     "output_type": "stream",
     "text": [
      "                                                              \r"
     ]
    },
    {
     "name": "stdout",
     "output_type": "stream",
     "text": [
      "No improvement for 2 epoch(s)\n",
      "Train Loss: 0.0910 | Val Loss: 0.0971\n",
      "Learning Rate: 0.000395\n",
      "\n",
      "Epoch 7/100\n"
     ]
    },
    {
     "name": "stderr",
     "output_type": "stream",
     "text": [
      "                                                              \r"
     ]
    },
    {
     "name": "stdout",
     "output_type": "stream",
     "text": [
      "No improvement for 3 epoch(s)\n",
      "Train Loss: 0.0881 | Val Loss: 0.1090\n",
      "Learning Rate: 0.000040\n",
      "\n",
      "Epoch 8/100\n"
     ]
    },
    {
     "name": "stderr",
     "output_type": "stream",
     "text": [
      "                                                              \r"
     ]
    },
    {
     "name": "stdout",
     "output_type": "stream",
     "text": [
      "No improvement for 4 epoch(s)\n",
      "Train Loss: 0.0838 | Val Loss: 0.1136\n",
      "Learning Rate: 0.000040\n",
      "\n",
      "Epoch 9/100\n"
     ]
    },
    {
     "name": "stderr",
     "output_type": "stream",
     "text": [
      "                                                              \r"
     ]
    },
    {
     "name": "stdout",
     "output_type": "stream",
     "text": [
      "No improvement for 5 epoch(s)\n",
      "Early stopping triggered.\n"
     ]
    },
    {
     "data": {
      "text/html": [
       "\n",
       "    <style>\n",
       "        .wandb-row {\n",
       "            display: flex;\n",
       "            flex-direction: row;\n",
       "            flex-wrap: wrap;\n",
       "            justify-content: flex-start;\n",
       "            width: 100%;\n",
       "        }\n",
       "        .wandb-col {\n",
       "            display: flex;\n",
       "            flex-direction: column;\n",
       "            flex-basis: 100%;\n",
       "            flex: 1;\n",
       "            padding: 10px;\n",
       "        }\n",
       "    </style>\n",
       "<div class=\"wandb-row\"><div class=\"wandb-col\"><h3>Run history:</h3><br/><table class=\"wandb\"><tr><td>train_loss</td><td>█▃▂▁▁▁▁▁</td></tr><tr><td>val_loss</td><td>█▃▃▁█▃▄▄</td></tr></table><br/></div><div class=\"wandb-col\"><h3>Run summary:</h3><br/><table class=\"wandb\"><tr><td>train_loss</td><td>0.08379</td></tr><tr><td>val_loss</td><td>0.11364</td></tr></table><br/></div></div>"
      ],
      "text/plain": [
       "<IPython.core.display.HTML object>"
      ]
     },
     "metadata": {},
     "output_type": "display_data"
    },
    {
     "data": {
      "text/html": [
       " View run <strong style=\"color:#cdcd00\">restful-cloud-42</strong> at: <a href='https://wandb.ai/gfiuzaa-universidade-federal-do-rio-de-janeiro/audio-denoising/runs/3bxb3v51' target=\"_blank\">https://wandb.ai/gfiuzaa-universidade-federal-do-rio-de-janeiro/audio-denoising/runs/3bxb3v51</a><br/> View project at: <a href='https://wandb.ai/gfiuzaa-universidade-federal-do-rio-de-janeiro/audio-denoising' target=\"_blank\">https://wandb.ai/gfiuzaa-universidade-federal-do-rio-de-janeiro/audio-denoising</a><br/>Synced 5 W&B file(s), 0 media file(s), 0 artifact file(s) and 0 other file(s)"
      ],
      "text/plain": [
       "<IPython.core.display.HTML object>"
      ]
     },
     "metadata": {},
     "output_type": "display_data"
    },
    {
     "data": {
      "text/html": [
       "Find logs at: <code>./wandb/run-20250427_211603-3bxb3v51/logs</code>"
      ],
      "text/plain": [
       "<IPython.core.display.HTML object>"
      ]
     },
     "metadata": {},
     "output_type": "display_data"
    },
    {
     "name": "stderr",
     "output_type": "stream",
     "text": [
      "[I 2025-04-27 21:25:57,364] Trial 7 finished with value: 0.05986279547214508 and parameters: {'base_filters': 16, 'depth': 5, 'dropout_rate': 0.29111968889261364, 'lr': 0.0003952419803741136, 'batch_size': 16}. Best is trial 6 with value: 0.012372229328999916.\n"
     ]
    },
    {
     "data": {
      "text/html": [
       "Tracking run with wandb version 0.18.7"
      ],
      "text/plain": [
       "<IPython.core.display.HTML object>"
      ]
     },
     "metadata": {},
     "output_type": "display_data"
    },
    {
     "data": {
      "text/html": [
       "Run data is saved locally in <code>/home/gabriel/VSProjects/audio_analysis/DenoisingAutoencoder/notebooks/wandb/run-20250427_212557-bec8a1rm</code>"
      ],
      "text/plain": [
       "<IPython.core.display.HTML object>"
      ]
     },
     "metadata": {},
     "output_type": "display_data"
    },
    {
     "data": {
      "text/html": [
       "Syncing run <strong><a href='https://wandb.ai/gfiuzaa-universidade-federal-do-rio-de-janeiro/audio-denoising/runs/bec8a1rm' target=\"_blank\">effortless-dream-43</a></strong> to <a href='https://wandb.ai/gfiuzaa-universidade-federal-do-rio-de-janeiro/audio-denoising' target=\"_blank\">Weights & Biases</a> (<a href='https://wandb.me/developer-guide' target=\"_blank\">docs</a>)<br/>"
      ],
      "text/plain": [
       "<IPython.core.display.HTML object>"
      ]
     },
     "metadata": {},
     "output_type": "display_data"
    },
    {
     "data": {
      "text/html": [
       " View project at <a href='https://wandb.ai/gfiuzaa-universidade-federal-do-rio-de-janeiro/audio-denoising' target=\"_blank\">https://wandb.ai/gfiuzaa-universidade-federal-do-rio-de-janeiro/audio-denoising</a>"
      ],
      "text/plain": [
       "<IPython.core.display.HTML object>"
      ]
     },
     "metadata": {},
     "output_type": "display_data"
    },
    {
     "data": {
      "text/html": [
       " View run at <a href='https://wandb.ai/gfiuzaa-universidade-federal-do-rio-de-janeiro/audio-denoising/runs/bec8a1rm' target=\"_blank\">https://wandb.ai/gfiuzaa-universidade-federal-do-rio-de-janeiro/audio-denoising/runs/bec8a1rm</a>"
      ],
      "text/plain": [
       "<IPython.core.display.HTML object>"
      ]
     },
     "metadata": {},
     "output_type": "display_data"
    },
    {
     "name": "stdout",
     "output_type": "stream",
     "text": [
      "\n",
      "Epoch 1/100\n"
     ]
    },
    {
     "name": "stderr",
     "output_type": "stream",
     "text": [
      "                                                              \r"
     ]
    },
    {
     "name": "stdout",
     "output_type": "stream",
     "text": [
      "Best model saved: /home/gabriel/VSProjects/audio_analysis/DenoisingAutoencoder/checkpoints/model_trial_8.pth (val loss: 0.0603)\n",
      "Train Loss: 0.1882 | Val Loss: 0.0603\n",
      "Learning Rate: 0.000043\n",
      "\n",
      "Epoch 2/100\n"
     ]
    },
    {
     "name": "stderr",
     "output_type": "stream",
     "text": [
      "                                                              \r"
     ]
    },
    {
     "name": "stdout",
     "output_type": "stream",
     "text": [
      "No improvement for 1 epoch(s)\n",
      "Train Loss: 0.1045 | Val Loss: 0.1088\n",
      "Learning Rate: 0.000043\n",
      "\n",
      "Epoch 3/100\n"
     ]
    },
    {
     "name": "stderr",
     "output_type": "stream",
     "text": [
      "                                                              \r"
     ]
    },
    {
     "name": "stdout",
     "output_type": "stream",
     "text": [
      "Best model saved: /home/gabriel/VSProjects/audio_analysis/DenoisingAutoencoder/checkpoints/model_trial_8.pth (val loss: 0.0568)\n",
      "Train Loss: 0.0824 | Val Loss: 0.0568\n",
      "Learning Rate: 0.000043\n",
      "\n",
      "Epoch 4/100\n"
     ]
    },
    {
     "name": "stderr",
     "output_type": "stream",
     "text": [
      "                                                              \r"
     ]
    },
    {
     "name": "stdout",
     "output_type": "stream",
     "text": [
      "No improvement for 1 epoch(s)\n",
      "Train Loss: 0.0712 | Val Loss: 0.0613\n",
      "Learning Rate: 0.000043\n",
      "\n",
      "Epoch 5/100\n"
     ]
    },
    {
     "name": "stderr",
     "output_type": "stream",
     "text": [
      "                                                              \r"
     ]
    },
    {
     "name": "stdout",
     "output_type": "stream",
     "text": [
      "No improvement for 2 epoch(s)\n",
      "Train Loss: 0.0649 | Val Loss: 0.1188\n",
      "Learning Rate: 0.000043\n",
      "\n",
      "Epoch 6/100\n"
     ]
    },
    {
     "name": "stderr",
     "output_type": "stream",
     "text": [
      "                                                              \r"
     ]
    },
    {
     "name": "stdout",
     "output_type": "stream",
     "text": [
      "No improvement for 3 epoch(s)\n",
      "Train Loss: 0.0605 | Val Loss: 0.0823\n",
      "Learning Rate: 0.000004\n",
      "\n",
      "Epoch 7/100\n"
     ]
    },
    {
     "name": "stderr",
     "output_type": "stream",
     "text": [
      "                                                              \r"
     ]
    },
    {
     "name": "stdout",
     "output_type": "stream",
     "text": [
      "No improvement for 4 epoch(s)\n",
      "Train Loss: 0.0580 | Val Loss: 0.0913\n",
      "Learning Rate: 0.000004\n",
      "\n",
      "Epoch 8/100\n"
     ]
    },
    {
     "name": "stderr",
     "output_type": "stream",
     "text": [
      "                                                              \r"
     ]
    },
    {
     "name": "stdout",
     "output_type": "stream",
     "text": [
      "No improvement for 5 epoch(s)\n",
      "Early stopping triggered.\n"
     ]
    },
    {
     "data": {
      "text/html": [
       "\n",
       "    <style>\n",
       "        .wandb-row {\n",
       "            display: flex;\n",
       "            flex-direction: row;\n",
       "            flex-wrap: wrap;\n",
       "            justify-content: flex-start;\n",
       "            width: 100%;\n",
       "        }\n",
       "        .wandb-col {\n",
       "            display: flex;\n",
       "            flex-direction: column;\n",
       "            flex-basis: 100%;\n",
       "            flex: 1;\n",
       "            padding: 10px;\n",
       "        }\n",
       "    </style>\n",
       "<div class=\"wandb-row\"><div class=\"wandb-col\"><h3>Run history:</h3><br/><table class=\"wandb\"><tr><td>train_loss</td><td>█▄▂▂▁▁▁</td></tr><tr><td>val_loss</td><td>▁▇▁▂█▄▅</td></tr></table><br/></div><div class=\"wandb-col\"><h3>Run summary:</h3><br/><table class=\"wandb\"><tr><td>train_loss</td><td>0.05796</td></tr><tr><td>val_loss</td><td>0.09127</td></tr></table><br/></div></div>"
      ],
      "text/plain": [
       "<IPython.core.display.HTML object>"
      ]
     },
     "metadata": {},
     "output_type": "display_data"
    },
    {
     "data": {
      "text/html": [
       " View run <strong style=\"color:#cdcd00\">effortless-dream-43</strong> at: <a href='https://wandb.ai/gfiuzaa-universidade-federal-do-rio-de-janeiro/audio-denoising/runs/bec8a1rm' target=\"_blank\">https://wandb.ai/gfiuzaa-universidade-federal-do-rio-de-janeiro/audio-denoising/runs/bec8a1rm</a><br/> View project at: <a href='https://wandb.ai/gfiuzaa-universidade-federal-do-rio-de-janeiro/audio-denoising' target=\"_blank\">https://wandb.ai/gfiuzaa-universidade-federal-do-rio-de-janeiro/audio-denoising</a><br/>Synced 5 W&B file(s), 0 media file(s), 0 artifact file(s) and 0 other file(s)"
      ],
      "text/plain": [
       "<IPython.core.display.HTML object>"
      ]
     },
     "metadata": {},
     "output_type": "display_data"
    },
    {
     "data": {
      "text/html": [
       "Find logs at: <code>./wandb/run-20250427_212557-bec8a1rm/logs</code>"
      ],
      "text/plain": [
       "<IPython.core.display.HTML object>"
      ]
     },
     "metadata": {},
     "output_type": "display_data"
    },
    {
     "name": "stderr",
     "output_type": "stream",
     "text": [
      "[I 2025-04-27 21:34:53,858] Trial 8 finished with value: 0.0568097423017025 and parameters: {'base_filters': 16, 'depth': 5, 'dropout_rate': 0.17894476185138772, 'lr': 4.3362450348095623e-05, 'batch_size': 16}. Best is trial 6 with value: 0.012372229328999916.\n"
     ]
    },
    {
     "data": {
      "text/html": [
       "Tracking run with wandb version 0.18.7"
      ],
      "text/plain": [
       "<IPython.core.display.HTML object>"
      ]
     },
     "metadata": {},
     "output_type": "display_data"
    },
    {
     "data": {
      "text/html": [
       "Run data is saved locally in <code>/home/gabriel/VSProjects/audio_analysis/DenoisingAutoencoder/notebooks/wandb/run-20250427_213453-ezcivhro</code>"
      ],
      "text/plain": [
       "<IPython.core.display.HTML object>"
      ]
     },
     "metadata": {},
     "output_type": "display_data"
    },
    {
     "data": {
      "text/html": [
       "Syncing run <strong><a href='https://wandb.ai/gfiuzaa-universidade-federal-do-rio-de-janeiro/audio-denoising/runs/ezcivhro' target=\"_blank\">curious-thunder-44</a></strong> to <a href='https://wandb.ai/gfiuzaa-universidade-federal-do-rio-de-janeiro/audio-denoising' target=\"_blank\">Weights & Biases</a> (<a href='https://wandb.me/developer-guide' target=\"_blank\">docs</a>)<br/>"
      ],
      "text/plain": [
       "<IPython.core.display.HTML object>"
      ]
     },
     "metadata": {},
     "output_type": "display_data"
    },
    {
     "data": {
      "text/html": [
       " View project at <a href='https://wandb.ai/gfiuzaa-universidade-federal-do-rio-de-janeiro/audio-denoising' target=\"_blank\">https://wandb.ai/gfiuzaa-universidade-federal-do-rio-de-janeiro/audio-denoising</a>"
      ],
      "text/plain": [
       "<IPython.core.display.HTML object>"
      ]
     },
     "metadata": {},
     "output_type": "display_data"
    },
    {
     "data": {
      "text/html": [
       " View run at <a href='https://wandb.ai/gfiuzaa-universidade-federal-do-rio-de-janeiro/audio-denoising/runs/ezcivhro' target=\"_blank\">https://wandb.ai/gfiuzaa-universidade-federal-do-rio-de-janeiro/audio-denoising/runs/ezcivhro</a>"
      ],
      "text/plain": [
       "<IPython.core.display.HTML object>"
      ]
     },
     "metadata": {},
     "output_type": "display_data"
    },
    {
     "name": "stdout",
     "output_type": "stream",
     "text": [
      "\n",
      "Epoch 1/100\n"
     ]
    },
    {
     "name": "stderr",
     "output_type": "stream",
     "text": [
      "                                                    "
     ]
    },
    {
     "name": "stdout",
     "output_type": "stream",
     "text": [
      "[Trial 9] - Out of memory. Skipping...\n"
     ]
    },
    {
     "name": "stderr",
     "output_type": "stream",
     "text": [
      "\r"
     ]
    },
    {
     "data": {
      "text/html": [
       " View run <strong style=\"color:#cdcd00\">curious-thunder-44</strong> at: <a href='https://wandb.ai/gfiuzaa-universidade-federal-do-rio-de-janeiro/audio-denoising/runs/ezcivhro' target=\"_blank\">https://wandb.ai/gfiuzaa-universidade-federal-do-rio-de-janeiro/audio-denoising/runs/ezcivhro</a><br/> View project at: <a href='https://wandb.ai/gfiuzaa-universidade-federal-do-rio-de-janeiro/audio-denoising' target=\"_blank\">https://wandb.ai/gfiuzaa-universidade-federal-do-rio-de-janeiro/audio-denoising</a><br/>Synced 5 W&B file(s), 0 media file(s), 0 artifact file(s) and 0 other file(s)"
      ],
      "text/plain": [
       "<IPython.core.display.HTML object>"
      ]
     },
     "metadata": {},
     "output_type": "display_data"
    },
    {
     "data": {
      "text/html": [
       "Find logs at: <code>./wandb/run-20250427_213453-ezcivhro/logs</code>"
      ],
      "text/plain": [
       "<IPython.core.display.HTML object>"
      ]
     },
     "metadata": {},
     "output_type": "display_data"
    },
    {
     "name": "stderr",
     "output_type": "stream",
     "text": [
      "[I 2025-04-27 21:34:57,585] Trial 9 finished with value: inf and parameters: {'base_filters': 32, 'depth': 5, 'dropout_rate': 0.19167378437771068, 'lr': 0.0001705808045909245, 'batch_size': 16}. Best is trial 6 with value: 0.012372229328999916.\n"
     ]
    },
    {
     "data": {
      "text/html": [
       "Tracking run with wandb version 0.18.7"
      ],
      "text/plain": [
       "<IPython.core.display.HTML object>"
      ]
     },
     "metadata": {},
     "output_type": "display_data"
    },
    {
     "data": {
      "text/html": [
       "Run data is saved locally in <code>/home/gabriel/VSProjects/audio_analysis/DenoisingAutoencoder/notebooks/wandb/run-20250427_213457-38hn0o8z</code>"
      ],
      "text/plain": [
       "<IPython.core.display.HTML object>"
      ]
     },
     "metadata": {},
     "output_type": "display_data"
    },
    {
     "data": {
      "text/html": [
       "Syncing run <strong><a href='https://wandb.ai/gfiuzaa-universidade-federal-do-rio-de-janeiro/audio-denoising/runs/38hn0o8z' target=\"_blank\">robust-haze-45</a></strong> to <a href='https://wandb.ai/gfiuzaa-universidade-federal-do-rio-de-janeiro/audio-denoising' target=\"_blank\">Weights & Biases</a> (<a href='https://wandb.me/developer-guide' target=\"_blank\">docs</a>)<br/>"
      ],
      "text/plain": [
       "<IPython.core.display.HTML object>"
      ]
     },
     "metadata": {},
     "output_type": "display_data"
    },
    {
     "data": {
      "text/html": [
       " View project at <a href='https://wandb.ai/gfiuzaa-universidade-federal-do-rio-de-janeiro/audio-denoising' target=\"_blank\">https://wandb.ai/gfiuzaa-universidade-federal-do-rio-de-janeiro/audio-denoising</a>"
      ],
      "text/plain": [
       "<IPython.core.display.HTML object>"
      ]
     },
     "metadata": {},
     "output_type": "display_data"
    },
    {
     "data": {
      "text/html": [
       " View run at <a href='https://wandb.ai/gfiuzaa-universidade-federal-do-rio-de-janeiro/audio-denoising/runs/38hn0o8z' target=\"_blank\">https://wandb.ai/gfiuzaa-universidade-federal-do-rio-de-janeiro/audio-denoising/runs/38hn0o8z</a>"
      ],
      "text/plain": [
       "<IPython.core.display.HTML object>"
      ]
     },
     "metadata": {},
     "output_type": "display_data"
    },
    {
     "name": "stdout",
     "output_type": "stream",
     "text": [
      "\n",
      "Epoch 1/100\n"
     ]
    },
    {
     "name": "stderr",
     "output_type": "stream",
     "text": [
      "                                                              \r"
     ]
    },
    {
     "name": "stdout",
     "output_type": "stream",
     "text": [
      "Best model saved: /home/gabriel/VSProjects/audio_analysis/DenoisingAutoencoder/checkpoints/model_trial_10.pth (val loss: 0.0262)\n",
      "Train Loss: 0.0411 | Val Loss: 0.0262\n",
      "Learning Rate: 0.000924\n",
      "\n",
      "Epoch 2/100\n"
     ]
    },
    {
     "name": "stderr",
     "output_type": "stream",
     "text": [
      "                                                              \r"
     ]
    },
    {
     "name": "stdout",
     "output_type": "stream",
     "text": [
      "Best model saved: /home/gabriel/VSProjects/audio_analysis/DenoisingAutoencoder/checkpoints/model_trial_10.pth (val loss: 0.0212)\n",
      "Train Loss: 0.0255 | Val Loss: 0.0212\n",
      "Learning Rate: 0.000924\n",
      "\n",
      "Epoch 3/100\n"
     ]
    },
    {
     "name": "stderr",
     "output_type": "stream",
     "text": [
      "                                                              \r"
     ]
    },
    {
     "name": "stdout",
     "output_type": "stream",
     "text": [
      "No improvement for 1 epoch(s)\n",
      "Train Loss: 0.0220 | Val Loss: 0.0215\n",
      "Learning Rate: 0.000924\n",
      "\n",
      "Epoch 4/100\n"
     ]
    },
    {
     "name": "stderr",
     "output_type": "stream",
     "text": [
      "                                                              \r"
     ]
    },
    {
     "name": "stdout",
     "output_type": "stream",
     "text": [
      "No improvement for 2 epoch(s)\n",
      "Train Loss: 0.0197 | Val Loss: 0.0244\n",
      "Learning Rate: 0.000924\n",
      "\n",
      "Epoch 5/100\n"
     ]
    },
    {
     "name": "stderr",
     "output_type": "stream",
     "text": [
      "                                                              \r"
     ]
    },
    {
     "name": "stdout",
     "output_type": "stream",
     "text": [
      "Best model saved: /home/gabriel/VSProjects/audio_analysis/DenoisingAutoencoder/checkpoints/model_trial_10.pth (val loss: 0.0185)\n",
      "Train Loss: 0.0186 | Val Loss: 0.0185\n",
      "Learning Rate: 0.000924\n",
      "\n",
      "Epoch 6/100\n"
     ]
    },
    {
     "name": "stderr",
     "output_type": "stream",
     "text": [
      "                                                              \r"
     ]
    },
    {
     "name": "stdout",
     "output_type": "stream",
     "text": [
      "Best model saved: /home/gabriel/VSProjects/audio_analysis/DenoisingAutoencoder/checkpoints/model_trial_10.pth (val loss: 0.0182)\n",
      "Train Loss: 0.0176 | Val Loss: 0.0182\n",
      "Learning Rate: 0.000924\n",
      "\n",
      "Epoch 7/100\n"
     ]
    },
    {
     "name": "stderr",
     "output_type": "stream",
     "text": [
      "                                                              \r"
     ]
    },
    {
     "name": "stdout",
     "output_type": "stream",
     "text": [
      "No improvement for 1 epoch(s)\n",
      "Train Loss: 0.0168 | Val Loss: 0.0185\n",
      "Learning Rate: 0.000924\n",
      "\n",
      "Epoch 8/100\n"
     ]
    },
    {
     "name": "stderr",
     "output_type": "stream",
     "text": [
      "                                                              \r"
     ]
    },
    {
     "name": "stdout",
     "output_type": "stream",
     "text": [
      "Best model saved: /home/gabriel/VSProjects/audio_analysis/DenoisingAutoencoder/checkpoints/model_trial_10.pth (val loss: 0.0181)\n",
      "Train Loss: 0.0154 | Val Loss: 0.0181\n",
      "Learning Rate: 0.000924\n",
      "\n",
      "Epoch 9/100\n"
     ]
    },
    {
     "name": "stderr",
     "output_type": "stream",
     "text": [
      "                                                              \r"
     ]
    },
    {
     "name": "stdout",
     "output_type": "stream",
     "text": [
      "No improvement for 1 epoch(s)\n",
      "Train Loss: 0.0157 | Val Loss: 0.0302\n",
      "Learning Rate: 0.000924\n",
      "\n",
      "Epoch 10/100\n"
     ]
    },
    {
     "name": "stderr",
     "output_type": "stream",
     "text": [
      "                                                              \r"
     ]
    },
    {
     "name": "stdout",
     "output_type": "stream",
     "text": [
      "No improvement for 2 epoch(s)\n",
      "Train Loss: 0.0146 | Val Loss: 0.0188\n",
      "Learning Rate: 0.000924\n",
      "\n",
      "Epoch 11/100\n"
     ]
    },
    {
     "name": "stderr",
     "output_type": "stream",
     "text": [
      "                                                              \r"
     ]
    },
    {
     "name": "stdout",
     "output_type": "stream",
     "text": [
      "Best model saved: /home/gabriel/VSProjects/audio_analysis/DenoisingAutoencoder/checkpoints/model_trial_10.pth (val loss: 0.0169)\n",
      "Train Loss: 0.0138 | Val Loss: 0.0169\n",
      "Learning Rate: 0.000924\n",
      "\n",
      "Epoch 12/100\n"
     ]
    },
    {
     "name": "stderr",
     "output_type": "stream",
     "text": [
      "                                                              \r"
     ]
    },
    {
     "name": "stdout",
     "output_type": "stream",
     "text": [
      "No improvement for 1 epoch(s)\n",
      "Train Loss: 0.0138 | Val Loss: 0.0170\n",
      "Learning Rate: 0.000924\n",
      "\n",
      "Epoch 13/100\n"
     ]
    },
    {
     "name": "stderr",
     "output_type": "stream",
     "text": [
      "                                                              \r"
     ]
    },
    {
     "name": "stdout",
     "output_type": "stream",
     "text": [
      "Best model saved: /home/gabriel/VSProjects/audio_analysis/DenoisingAutoencoder/checkpoints/model_trial_10.pth (val loss: 0.0151)\n",
      "Train Loss: 0.0132 | Val Loss: 0.0151\n",
      "Learning Rate: 0.000924\n",
      "\n",
      "Epoch 14/100\n"
     ]
    },
    {
     "name": "stderr",
     "output_type": "stream",
     "text": [
      "                                                              \r"
     ]
    },
    {
     "name": "stdout",
     "output_type": "stream",
     "text": [
      "No improvement for 1 epoch(s)\n",
      "Train Loss: 0.0127 | Val Loss: 0.0180\n",
      "Learning Rate: 0.000924\n",
      "\n",
      "Epoch 15/100\n"
     ]
    },
    {
     "name": "stderr",
     "output_type": "stream",
     "text": [
      "                                                              \r"
     ]
    },
    {
     "name": "stdout",
     "output_type": "stream",
     "text": [
      "Best model saved: /home/gabriel/VSProjects/audio_analysis/DenoisingAutoencoder/checkpoints/model_trial_10.pth (val loss: 0.0145)\n",
      "Train Loss: 0.0121 | Val Loss: 0.0145\n",
      "Learning Rate: 0.000924\n",
      "\n",
      "Epoch 16/100\n"
     ]
    },
    {
     "name": "stderr",
     "output_type": "stream",
     "text": [
      "                                                              \r"
     ]
    },
    {
     "name": "stdout",
     "output_type": "stream",
     "text": [
      "No improvement for 1 epoch(s)\n",
      "Train Loss: 0.0118 | Val Loss: 0.0171\n",
      "Learning Rate: 0.000924\n",
      "\n",
      "Epoch 17/100\n"
     ]
    },
    {
     "name": "stderr",
     "output_type": "stream",
     "text": [
      "                                                              \r"
     ]
    },
    {
     "name": "stdout",
     "output_type": "stream",
     "text": [
      "Best model saved: /home/gabriel/VSProjects/audio_analysis/DenoisingAutoencoder/checkpoints/model_trial_10.pth (val loss: 0.0135)\n",
      "Train Loss: 0.0117 | Val Loss: 0.0135\n",
      "Learning Rate: 0.000924\n",
      "\n",
      "Epoch 18/100\n"
     ]
    },
    {
     "name": "stderr",
     "output_type": "stream",
     "text": [
      "                                                              \r"
     ]
    },
    {
     "name": "stdout",
     "output_type": "stream",
     "text": [
      "No improvement for 1 epoch(s)\n",
      "Train Loss: 0.0115 | Val Loss: 0.0158\n",
      "Learning Rate: 0.000924\n",
      "\n",
      "Epoch 19/100\n"
     ]
    },
    {
     "name": "stderr",
     "output_type": "stream",
     "text": [
      "                                                              \r"
     ]
    },
    {
     "name": "stdout",
     "output_type": "stream",
     "text": [
      "No improvement for 2 epoch(s)\n",
      "Train Loss: 0.0118 | Val Loss: 0.0180\n",
      "Learning Rate: 0.000924\n",
      "\n",
      "Epoch 20/100\n"
     ]
    },
    {
     "name": "stderr",
     "output_type": "stream",
     "text": [
      "                                                              \r"
     ]
    },
    {
     "name": "stdout",
     "output_type": "stream",
     "text": [
      "No improvement for 3 epoch(s)\n",
      "Train Loss: 0.0111 | Val Loss: 0.0139\n",
      "Learning Rate: 0.000092\n",
      "\n",
      "Epoch 21/100\n"
     ]
    },
    {
     "name": "stderr",
     "output_type": "stream",
     "text": [
      "                                                              \r"
     ]
    },
    {
     "name": "stdout",
     "output_type": "stream",
     "text": [
      "No improvement for 4 epoch(s)\n",
      "Train Loss: 0.0105 | Val Loss: 0.0135\n",
      "Learning Rate: 0.000092\n",
      "\n",
      "Epoch 22/100\n"
     ]
    },
    {
     "name": "stderr",
     "output_type": "stream",
     "text": [
      "                                                              \r"
     ]
    },
    {
     "name": "stdout",
     "output_type": "stream",
     "text": [
      "No improvement for 5 epoch(s)\n",
      "Early stopping triggered.\n"
     ]
    },
    {
     "data": {
      "text/html": [
       "\n",
       "    <style>\n",
       "        .wandb-row {\n",
       "            display: flex;\n",
       "            flex-direction: row;\n",
       "            flex-wrap: wrap;\n",
       "            justify-content: flex-start;\n",
       "            width: 100%;\n",
       "        }\n",
       "        .wandb-col {\n",
       "            display: flex;\n",
       "            flex-direction: column;\n",
       "            flex-basis: 100%;\n",
       "            flex: 1;\n",
       "            padding: 10px;\n",
       "        }\n",
       "    </style>\n",
       "<div class=\"wandb-row\"><div class=\"wandb-col\"><h3>Run history:</h3><br/><table class=\"wandb\"><tr><td>train_loss</td><td>█▄▄▃▃▃▂▂▂▂▂▂▂▂▁▁▁▁▁▁▁</td></tr><tr><td>val_loss</td><td>▆▄▄▆▃▃▃▃█▃▂▂▂▃▁▃▁▂▃▁▁</td></tr></table><br/></div><div class=\"wandb-col\"><h3>Run summary:</h3><br/><table class=\"wandb\"><tr><td>train_loss</td><td>0.01051</td></tr><tr><td>val_loss</td><td>0.01354</td></tr></table><br/></div></div>"
      ],
      "text/plain": [
       "<IPython.core.display.HTML object>"
      ]
     },
     "metadata": {},
     "output_type": "display_data"
    },
    {
     "data": {
      "text/html": [
       " View run <strong style=\"color:#cdcd00\">robust-haze-45</strong> at: <a href='https://wandb.ai/gfiuzaa-universidade-federal-do-rio-de-janeiro/audio-denoising/runs/38hn0o8z' target=\"_blank\">https://wandb.ai/gfiuzaa-universidade-federal-do-rio-de-janeiro/audio-denoising/runs/38hn0o8z</a><br/> View project at: <a href='https://wandb.ai/gfiuzaa-universidade-federal-do-rio-de-janeiro/audio-denoising' target=\"_blank\">https://wandb.ai/gfiuzaa-universidade-federal-do-rio-de-janeiro/audio-denoising</a><br/>Synced 5 W&B file(s), 0 media file(s), 0 artifact file(s) and 0 other file(s)"
      ],
      "text/plain": [
       "<IPython.core.display.HTML object>"
      ]
     },
     "metadata": {},
     "output_type": "display_data"
    },
    {
     "data": {
      "text/html": [
       "Find logs at: <code>./wandb/run-20250427_213457-38hn0o8z/logs</code>"
      ],
      "text/plain": [
       "<IPython.core.display.HTML object>"
      ]
     },
     "metadata": {},
     "output_type": "display_data"
    },
    {
     "name": "stderr",
     "output_type": "stream",
     "text": [
      "[I 2025-04-27 22:20:04,623] Trial 10 finished with value: 0.013474497105926275 and parameters: {'base_filters': 32, 'depth': 4, 'dropout_rate': 0.1020379546950577, 'lr': 0.0009241398113680801, 'batch_size': 8}. Best is trial 6 with value: 0.012372229328999916.\n"
     ]
    },
    {
     "data": {
      "text/html": [
       "Tracking run with wandb version 0.18.7"
      ],
      "text/plain": [
       "<IPython.core.display.HTML object>"
      ]
     },
     "metadata": {},
     "output_type": "display_data"
    },
    {
     "data": {
      "text/html": [
       "Run data is saved locally in <code>/home/gabriel/VSProjects/audio_analysis/DenoisingAutoencoder/notebooks/wandb/run-20250427_222004-h8g6vwzh</code>"
      ],
      "text/plain": [
       "<IPython.core.display.HTML object>"
      ]
     },
     "metadata": {},
     "output_type": "display_data"
    },
    {
     "data": {
      "text/html": [
       "Syncing run <strong><a href='https://wandb.ai/gfiuzaa-universidade-federal-do-rio-de-janeiro/audio-denoising/runs/h8g6vwzh' target=\"_blank\">peach-brook-46</a></strong> to <a href='https://wandb.ai/gfiuzaa-universidade-federal-do-rio-de-janeiro/audio-denoising' target=\"_blank\">Weights & Biases</a> (<a href='https://wandb.me/developer-guide' target=\"_blank\">docs</a>)<br/>"
      ],
      "text/plain": [
       "<IPython.core.display.HTML object>"
      ]
     },
     "metadata": {},
     "output_type": "display_data"
    },
    {
     "data": {
      "text/html": [
       " View project at <a href='https://wandb.ai/gfiuzaa-universidade-federal-do-rio-de-janeiro/audio-denoising' target=\"_blank\">https://wandb.ai/gfiuzaa-universidade-federal-do-rio-de-janeiro/audio-denoising</a>"
      ],
      "text/plain": [
       "<IPython.core.display.HTML object>"
      ]
     },
     "metadata": {},
     "output_type": "display_data"
    },
    {
     "data": {
      "text/html": [
       " View run at <a href='https://wandb.ai/gfiuzaa-universidade-federal-do-rio-de-janeiro/audio-denoising/runs/h8g6vwzh' target=\"_blank\">https://wandb.ai/gfiuzaa-universidade-federal-do-rio-de-janeiro/audio-denoising/runs/h8g6vwzh</a>"
      ],
      "text/plain": [
       "<IPython.core.display.HTML object>"
      ]
     },
     "metadata": {},
     "output_type": "display_data"
    },
    {
     "name": "stdout",
     "output_type": "stream",
     "text": [
      "\n",
      "Epoch 1/100\n"
     ]
    },
    {
     "name": "stderr",
     "output_type": "stream",
     "text": [
      "                                                              \r"
     ]
    },
    {
     "name": "stdout",
     "output_type": "stream",
     "text": [
      "Best model saved: /home/gabriel/VSProjects/audio_analysis/DenoisingAutoencoder/checkpoints/model_trial_11.pth (val loss: 0.1048)\n",
      "Train Loss: 0.0497 | Val Loss: 0.1048\n",
      "Learning Rate: 0.000852\n",
      "\n",
      "Epoch 2/100\n"
     ]
    },
    {
     "name": "stderr",
     "output_type": "stream",
     "text": [
      "                                                              \r"
     ]
    },
    {
     "name": "stdout",
     "output_type": "stream",
     "text": [
      "Best model saved: /home/gabriel/VSProjects/audio_analysis/DenoisingAutoencoder/checkpoints/model_trial_11.pth (val loss: 0.0343)\n",
      "Train Loss: 0.0265 | Val Loss: 0.0343\n",
      "Learning Rate: 0.000852\n",
      "\n",
      "Epoch 3/100\n"
     ]
    },
    {
     "name": "stderr",
     "output_type": "stream",
     "text": [
      "                                                              \r"
     ]
    },
    {
     "name": "stdout",
     "output_type": "stream",
     "text": [
      "Best model saved: /home/gabriel/VSProjects/audio_analysis/DenoisingAutoencoder/checkpoints/model_trial_11.pth (val loss: 0.0280)\n",
      "Train Loss: 0.0226 | Val Loss: 0.0280\n",
      "Learning Rate: 0.000852\n",
      "\n",
      "Epoch 4/100\n"
     ]
    },
    {
     "name": "stderr",
     "output_type": "stream",
     "text": [
      "                                                              \r"
     ]
    },
    {
     "name": "stdout",
     "output_type": "stream",
     "text": [
      "Best model saved: /home/gabriel/VSProjects/audio_analysis/DenoisingAutoencoder/checkpoints/model_trial_11.pth (val loss: 0.0223)\n",
      "Train Loss: 0.0204 | Val Loss: 0.0223\n",
      "Learning Rate: 0.000852\n",
      "\n",
      "Epoch 5/100\n"
     ]
    },
    {
     "name": "stderr",
     "output_type": "stream",
     "text": [
      "                                                              \r"
     ]
    },
    {
     "name": "stdout",
     "output_type": "stream",
     "text": [
      "No improvement for 1 epoch(s)\n",
      "Train Loss: 0.0191 | Val Loss: 0.0292\n",
      "Learning Rate: 0.000852\n",
      "\n",
      "Epoch 6/100\n"
     ]
    },
    {
     "name": "stderr",
     "output_type": "stream",
     "text": [
      "                                                              \r"
     ]
    },
    {
     "name": "stdout",
     "output_type": "stream",
     "text": [
      "No improvement for 2 epoch(s)\n",
      "Train Loss: 0.0179 | Val Loss: 0.0314\n",
      "Learning Rate: 0.000852\n",
      "\n",
      "Epoch 7/100\n"
     ]
    },
    {
     "name": "stderr",
     "output_type": "stream",
     "text": [
      "                                                              \r"
     ]
    },
    {
     "name": "stdout",
     "output_type": "stream",
     "text": [
      "No improvement for 3 epoch(s)\n",
      "Train Loss: 0.0167 | Val Loss: 0.0268\n",
      "Learning Rate: 0.000085\n",
      "\n",
      "Epoch 8/100\n"
     ]
    },
    {
     "name": "stderr",
     "output_type": "stream",
     "text": [
      "                                                              \r"
     ]
    },
    {
     "name": "stdout",
     "output_type": "stream",
     "text": [
      "No improvement for 4 epoch(s)\n",
      "Train Loss: 0.0153 | Val Loss: 0.0270\n",
      "Learning Rate: 0.000085\n",
      "\n",
      "Epoch 9/100\n"
     ]
    },
    {
     "name": "stderr",
     "output_type": "stream",
     "text": [
      "                                                              \r"
     ]
    },
    {
     "name": "stdout",
     "output_type": "stream",
     "text": [
      "No improvement for 5 epoch(s)\n",
      "Early stopping triggered.\n"
     ]
    },
    {
     "data": {
      "text/html": [
       "\n",
       "    <style>\n",
       "        .wandb-row {\n",
       "            display: flex;\n",
       "            flex-direction: row;\n",
       "            flex-wrap: wrap;\n",
       "            justify-content: flex-start;\n",
       "            width: 100%;\n",
       "        }\n",
       "        .wandb-col {\n",
       "            display: flex;\n",
       "            flex-direction: column;\n",
       "            flex-basis: 100%;\n",
       "            flex: 1;\n",
       "            padding: 10px;\n",
       "        }\n",
       "    </style>\n",
       "<div class=\"wandb-row\"><div class=\"wandb-col\"><h3>Run history:</h3><br/><table class=\"wandb\"><tr><td>train_loss</td><td>█▃▂▂▂▂▁▁</td></tr><tr><td>val_loss</td><td>█▂▁▁▂▂▁▁</td></tr></table><br/></div><div class=\"wandb-col\"><h3>Run summary:</h3><br/><table class=\"wandb\"><tr><td>train_loss</td><td>0.01532</td></tr><tr><td>val_loss</td><td>0.02699</td></tr></table><br/></div></div>"
      ],
      "text/plain": [
       "<IPython.core.display.HTML object>"
      ]
     },
     "metadata": {},
     "output_type": "display_data"
    },
    {
     "data": {
      "text/html": [
       " View run <strong style=\"color:#cdcd00\">peach-brook-46</strong> at: <a href='https://wandb.ai/gfiuzaa-universidade-federal-do-rio-de-janeiro/audio-denoising/runs/h8g6vwzh' target=\"_blank\">https://wandb.ai/gfiuzaa-universidade-federal-do-rio-de-janeiro/audio-denoising/runs/h8g6vwzh</a><br/> View project at: <a href='https://wandb.ai/gfiuzaa-universidade-federal-do-rio-de-janeiro/audio-denoising' target=\"_blank\">https://wandb.ai/gfiuzaa-universidade-federal-do-rio-de-janeiro/audio-denoising</a><br/>Synced 5 W&B file(s), 0 media file(s), 0 artifact file(s) and 0 other file(s)"
      ],
      "text/plain": [
       "<IPython.core.display.HTML object>"
      ]
     },
     "metadata": {},
     "output_type": "display_data"
    },
    {
     "data": {
      "text/html": [
       "Find logs at: <code>./wandb/run-20250427_222004-h8g6vwzh/logs</code>"
      ],
      "text/plain": [
       "<IPython.core.display.HTML object>"
      ]
     },
     "metadata": {},
     "output_type": "display_data"
    },
    {
     "name": "stderr",
     "output_type": "stream",
     "text": [
      "[I 2025-04-27 22:38:15,878] Trial 11 finished with value: 0.022327515116582316 and parameters: {'base_filters': 32, 'depth': 4, 'dropout_rate': 0.09994027895626231, 'lr': 0.0008516313081766331, 'batch_size': 8}. Best is trial 6 with value: 0.012372229328999916.\n"
     ]
    },
    {
     "data": {
      "text/html": [
       "Tracking run with wandb version 0.18.7"
      ],
      "text/plain": [
       "<IPython.core.display.HTML object>"
      ]
     },
     "metadata": {},
     "output_type": "display_data"
    },
    {
     "data": {
      "text/html": [
       "Run data is saved locally in <code>/home/gabriel/VSProjects/audio_analysis/DenoisingAutoencoder/notebooks/wandb/run-20250427_223815-bpo803vv</code>"
      ],
      "text/plain": [
       "<IPython.core.display.HTML object>"
      ]
     },
     "metadata": {},
     "output_type": "display_data"
    },
    {
     "data": {
      "text/html": [
       "Syncing run <strong><a href='https://wandb.ai/gfiuzaa-universidade-federal-do-rio-de-janeiro/audio-denoising/runs/bpo803vv' target=\"_blank\">fallen-sun-47</a></strong> to <a href='https://wandb.ai/gfiuzaa-universidade-federal-do-rio-de-janeiro/audio-denoising' target=\"_blank\">Weights & Biases</a> (<a href='https://wandb.me/developer-guide' target=\"_blank\">docs</a>)<br/>"
      ],
      "text/plain": [
       "<IPython.core.display.HTML object>"
      ]
     },
     "metadata": {},
     "output_type": "display_data"
    },
    {
     "data": {
      "text/html": [
       " View project at <a href='https://wandb.ai/gfiuzaa-universidade-federal-do-rio-de-janeiro/audio-denoising' target=\"_blank\">https://wandb.ai/gfiuzaa-universidade-federal-do-rio-de-janeiro/audio-denoising</a>"
      ],
      "text/plain": [
       "<IPython.core.display.HTML object>"
      ]
     },
     "metadata": {},
     "output_type": "display_data"
    },
    {
     "data": {
      "text/html": [
       " View run at <a href='https://wandb.ai/gfiuzaa-universidade-federal-do-rio-de-janeiro/audio-denoising/runs/bpo803vv' target=\"_blank\">https://wandb.ai/gfiuzaa-universidade-federal-do-rio-de-janeiro/audio-denoising/runs/bpo803vv</a>"
      ],
      "text/plain": [
       "<IPython.core.display.HTML object>"
      ]
     },
     "metadata": {},
     "output_type": "display_data"
    },
    {
     "name": "stdout",
     "output_type": "stream",
     "text": [
      "\n",
      "Epoch 1/100\n"
     ]
    },
    {
     "name": "stderr",
     "output_type": "stream",
     "text": [
      "                                                              \r"
     ]
    },
    {
     "name": "stdout",
     "output_type": "stream",
     "text": [
      "Best model saved: /home/gabriel/VSProjects/audio_analysis/DenoisingAutoencoder/checkpoints/model_trial_12.pth (val loss: 0.0304)\n",
      "Train Loss: 0.0487 | Val Loss: 0.0304\n",
      "Learning Rate: 0.000771\n",
      "\n",
      "Epoch 2/100\n"
     ]
    },
    {
     "name": "stderr",
     "output_type": "stream",
     "text": [
      "                                                              \r"
     ]
    },
    {
     "name": "stdout",
     "output_type": "stream",
     "text": [
      "Best model saved: /home/gabriel/VSProjects/audio_analysis/DenoisingAutoencoder/checkpoints/model_trial_12.pth (val loss: 0.0236)\n",
      "Train Loss: 0.0281 | Val Loss: 0.0236\n",
      "Learning Rate: 0.000771\n",
      "\n",
      "Epoch 3/100\n"
     ]
    },
    {
     "name": "stderr",
     "output_type": "stream",
     "text": [
      "                                                              \r"
     ]
    },
    {
     "name": "stdout",
     "output_type": "stream",
     "text": [
      "No improvement for 1 epoch(s)\n",
      "Train Loss: 0.0231 | Val Loss: 0.0306\n",
      "Learning Rate: 0.000771\n",
      "\n",
      "Epoch 4/100\n"
     ]
    },
    {
     "name": "stderr",
     "output_type": "stream",
     "text": [
      "                                                              \r"
     ]
    },
    {
     "name": "stdout",
     "output_type": "stream",
     "text": [
      "No improvement for 2 epoch(s)\n",
      "Train Loss: 0.0212 | Val Loss: 0.0351\n",
      "Learning Rate: 0.000771\n",
      "\n",
      "Epoch 5/100\n"
     ]
    },
    {
     "name": "stderr",
     "output_type": "stream",
     "text": [
      "                                                              \r"
     ]
    },
    {
     "name": "stdout",
     "output_type": "stream",
     "text": [
      "Best model saved: /home/gabriel/VSProjects/audio_analysis/DenoisingAutoencoder/checkpoints/model_trial_12.pth (val loss: 0.0219)\n",
      "Train Loss: 0.0191 | Val Loss: 0.0219\n",
      "Learning Rate: 0.000771\n",
      "\n",
      "Epoch 6/100\n"
     ]
    },
    {
     "name": "stderr",
     "output_type": "stream",
     "text": [
      "                                                              \r"
     ]
    },
    {
     "name": "stdout",
     "output_type": "stream",
     "text": [
      "No improvement for 1 epoch(s)\n",
      "Train Loss: 0.0186 | Val Loss: 0.0257\n",
      "Learning Rate: 0.000771\n",
      "\n",
      "Epoch 7/100\n"
     ]
    },
    {
     "name": "stderr",
     "output_type": "stream",
     "text": [
      "                                                              \r"
     ]
    },
    {
     "name": "stdout",
     "output_type": "stream",
     "text": [
      "Best model saved: /home/gabriel/VSProjects/audio_analysis/DenoisingAutoencoder/checkpoints/model_trial_12.pth (val loss: 0.0170)\n",
      "Train Loss: 0.0175 | Val Loss: 0.0170\n",
      "Learning Rate: 0.000771\n",
      "\n",
      "Epoch 8/100\n"
     ]
    },
    {
     "name": "stderr",
     "output_type": "stream",
     "text": [
      "                                                              \r"
     ]
    },
    {
     "name": "stdout",
     "output_type": "stream",
     "text": [
      "No improvement for 1 epoch(s)\n",
      "Train Loss: 0.0160 | Val Loss: 0.0486\n",
      "Learning Rate: 0.000771\n",
      "\n",
      "Epoch 9/100\n"
     ]
    },
    {
     "name": "stderr",
     "output_type": "stream",
     "text": [
      "                                                              \r"
     ]
    },
    {
     "name": "stdout",
     "output_type": "stream",
     "text": [
      "No improvement for 2 epoch(s)\n",
      "Train Loss: 0.0151 | Val Loss: 0.0190\n",
      "Learning Rate: 0.000771\n",
      "\n",
      "Epoch 10/100\n"
     ]
    },
    {
     "name": "stderr",
     "output_type": "stream",
     "text": [
      "                                                              \r"
     ]
    },
    {
     "name": "stdout",
     "output_type": "stream",
     "text": [
      "No improvement for 3 epoch(s)\n",
      "Train Loss: 0.0144 | Val Loss: 0.0234\n",
      "Learning Rate: 0.000077\n",
      "\n",
      "Epoch 11/100\n"
     ]
    },
    {
     "name": "stderr",
     "output_type": "stream",
     "text": [
      "                                                              \r"
     ]
    },
    {
     "name": "stdout",
     "output_type": "stream",
     "text": [
      "No improvement for 4 epoch(s)\n",
      "Train Loss: 0.0132 | Val Loss: 0.0206\n",
      "Learning Rate: 0.000077\n",
      "\n",
      "Epoch 12/100\n"
     ]
    },
    {
     "name": "stderr",
     "output_type": "stream",
     "text": [
      "                                                              \r"
     ]
    },
    {
     "name": "stdout",
     "output_type": "stream",
     "text": [
      "No improvement for 5 epoch(s)\n",
      "Early stopping triggered.\n"
     ]
    },
    {
     "data": {
      "text/html": [
       "\n",
       "    <style>\n",
       "        .wandb-row {\n",
       "            display: flex;\n",
       "            flex-direction: row;\n",
       "            flex-wrap: wrap;\n",
       "            justify-content: flex-start;\n",
       "            width: 100%;\n",
       "        }\n",
       "        .wandb-col {\n",
       "            display: flex;\n",
       "            flex-direction: column;\n",
       "            flex-basis: 100%;\n",
       "            flex: 1;\n",
       "            padding: 10px;\n",
       "        }\n",
       "    </style>\n",
       "<div class=\"wandb-row\"><div class=\"wandb-col\"><h3>Run history:</h3><br/><table class=\"wandb\"><tr><td>train_loss</td><td>█▄▃▃▂▂▂▂▁▁▁</td></tr><tr><td>val_loss</td><td>▄▂▄▅▂▃▁█▁▂▂</td></tr></table><br/></div><div class=\"wandb-col\"><h3>Run summary:</h3><br/><table class=\"wandb\"><tr><td>train_loss</td><td>0.01324</td></tr><tr><td>val_loss</td><td>0.02061</td></tr></table><br/></div></div>"
      ],
      "text/plain": [
       "<IPython.core.display.HTML object>"
      ]
     },
     "metadata": {},
     "output_type": "display_data"
    },
    {
     "data": {
      "text/html": [
       " View run <strong style=\"color:#cdcd00\">fallen-sun-47</strong> at: <a href='https://wandb.ai/gfiuzaa-universidade-federal-do-rio-de-janeiro/audio-denoising/runs/bpo803vv' target=\"_blank\">https://wandb.ai/gfiuzaa-universidade-federal-do-rio-de-janeiro/audio-denoising/runs/bpo803vv</a><br/> View project at: <a href='https://wandb.ai/gfiuzaa-universidade-federal-do-rio-de-janeiro/audio-denoising' target=\"_blank\">https://wandb.ai/gfiuzaa-universidade-federal-do-rio-de-janeiro/audio-denoising</a><br/>Synced 5 W&B file(s), 0 media file(s), 0 artifact file(s) and 0 other file(s)"
      ],
      "text/plain": [
       "<IPython.core.display.HTML object>"
      ]
     },
     "metadata": {},
     "output_type": "display_data"
    },
    {
     "data": {
      "text/html": [
       "Find logs at: <code>./wandb/run-20250427_223815-bpo803vv/logs</code>"
      ],
      "text/plain": [
       "<IPython.core.display.HTML object>"
      ]
     },
     "metadata": {},
     "output_type": "display_data"
    },
    {
     "name": "stderr",
     "output_type": "stream",
     "text": [
      "[I 2025-04-27 23:02:20,821] Trial 12 finished with value: 0.016956364087139568 and parameters: {'base_filters': 32, 'depth': 4, 'dropout_rate': 0.10254353579382332, 'lr': 0.000771489718837287, 'batch_size': 8}. Best is trial 6 with value: 0.012372229328999916.\n"
     ]
    },
    {
     "data": {
      "text/html": [
       "Tracking run with wandb version 0.18.7"
      ],
      "text/plain": [
       "<IPython.core.display.HTML object>"
      ]
     },
     "metadata": {},
     "output_type": "display_data"
    },
    {
     "data": {
      "text/html": [
       "Run data is saved locally in <code>/home/gabriel/VSProjects/audio_analysis/DenoisingAutoencoder/notebooks/wandb/run-20250427_230220-6z18yohj</code>"
      ],
      "text/plain": [
       "<IPython.core.display.HTML object>"
      ]
     },
     "metadata": {},
     "output_type": "display_data"
    },
    {
     "data": {
      "text/html": [
       "Syncing run <strong><a href='https://wandb.ai/gfiuzaa-universidade-federal-do-rio-de-janeiro/audio-denoising/runs/6z18yohj' target=\"_blank\">tough-dream-48</a></strong> to <a href='https://wandb.ai/gfiuzaa-universidade-federal-do-rio-de-janeiro/audio-denoising' target=\"_blank\">Weights & Biases</a> (<a href='https://wandb.me/developer-guide' target=\"_blank\">docs</a>)<br/>"
      ],
      "text/plain": [
       "<IPython.core.display.HTML object>"
      ]
     },
     "metadata": {},
     "output_type": "display_data"
    },
    {
     "data": {
      "text/html": [
       " View project at <a href='https://wandb.ai/gfiuzaa-universidade-federal-do-rio-de-janeiro/audio-denoising' target=\"_blank\">https://wandb.ai/gfiuzaa-universidade-federal-do-rio-de-janeiro/audio-denoising</a>"
      ],
      "text/plain": [
       "<IPython.core.display.HTML object>"
      ]
     },
     "metadata": {},
     "output_type": "display_data"
    },
    {
     "data": {
      "text/html": [
       " View run at <a href='https://wandb.ai/gfiuzaa-universidade-federal-do-rio-de-janeiro/audio-denoising/runs/6z18yohj' target=\"_blank\">https://wandb.ai/gfiuzaa-universidade-federal-do-rio-de-janeiro/audio-denoising/runs/6z18yohj</a>"
      ],
      "text/plain": [
       "<IPython.core.display.HTML object>"
      ]
     },
     "metadata": {},
     "output_type": "display_data"
    },
    {
     "name": "stdout",
     "output_type": "stream",
     "text": [
      "\n",
      "Epoch 1/100\n"
     ]
    },
    {
     "name": "stderr",
     "output_type": "stream",
     "text": [
      "                                                              \r"
     ]
    },
    {
     "name": "stdout",
     "output_type": "stream",
     "text": [
      "Best model saved: /home/gabriel/VSProjects/audio_analysis/DenoisingAutoencoder/checkpoints/model_trial_13.pth (val loss: 0.0246)\n",
      "Train Loss: 0.0372 | Val Loss: 0.0246\n",
      "Learning Rate: 0.000401\n",
      "\n",
      "Epoch 2/100\n"
     ]
    },
    {
     "name": "stderr",
     "output_type": "stream",
     "text": [
      "                                                              \r"
     ]
    },
    {
     "name": "stdout",
     "output_type": "stream",
     "text": [
      "Best model saved: /home/gabriel/VSProjects/audio_analysis/DenoisingAutoencoder/checkpoints/model_trial_13.pth (val loss: 0.0236)\n",
      "Train Loss: 0.0172 | Val Loss: 0.0236\n",
      "Learning Rate: 0.000401\n",
      "\n",
      "Epoch 3/100\n"
     ]
    },
    {
     "name": "stderr",
     "output_type": "stream",
     "text": [
      "                                                              \r"
     ]
    },
    {
     "name": "stdout",
     "output_type": "stream",
     "text": [
      "No improvement for 1 epoch(s)\n",
      "Train Loss: 0.0146 | Val Loss: 0.0291\n",
      "Learning Rate: 0.000401\n",
      "\n",
      "Epoch 4/100\n"
     ]
    },
    {
     "name": "stderr",
     "output_type": "stream",
     "text": [
      "                                                              \r"
     ]
    },
    {
     "name": "stdout",
     "output_type": "stream",
     "text": [
      "Best model saved: /home/gabriel/VSProjects/audio_analysis/DenoisingAutoencoder/checkpoints/model_trial_13.pth (val loss: 0.0181)\n",
      "Train Loss: 0.0126 | Val Loss: 0.0181\n",
      "Learning Rate: 0.000401\n",
      "\n",
      "Epoch 5/100\n"
     ]
    },
    {
     "name": "stderr",
     "output_type": "stream",
     "text": [
      "                                                              \r"
     ]
    },
    {
     "name": "stdout",
     "output_type": "stream",
     "text": [
      "Best model saved: /home/gabriel/VSProjects/audio_analysis/DenoisingAutoencoder/checkpoints/model_trial_13.pth (val loss: 0.0161)\n",
      "Train Loss: 0.0110 | Val Loss: 0.0161\n",
      "Learning Rate: 0.000401\n",
      "\n",
      "Epoch 6/100\n"
     ]
    },
    {
     "name": "stderr",
     "output_type": "stream",
     "text": [
      "                                                              \r"
     ]
    },
    {
     "name": "stdout",
     "output_type": "stream",
     "text": [
      "No improvement for 1 epoch(s)\n",
      "Train Loss: 0.0103 | Val Loss: 0.0199\n",
      "Learning Rate: 0.000401\n",
      "\n",
      "Epoch 7/100\n"
     ]
    },
    {
     "name": "stderr",
     "output_type": "stream",
     "text": [
      "                                                              \r"
     ]
    },
    {
     "name": "stdout",
     "output_type": "stream",
     "text": [
      "Best model saved: /home/gabriel/VSProjects/audio_analysis/DenoisingAutoencoder/checkpoints/model_trial_13.pth (val loss: 0.0149)\n",
      "Train Loss: 0.0097 | Val Loss: 0.0149\n",
      "Learning Rate: 0.000401\n",
      "\n",
      "Epoch 8/100\n"
     ]
    },
    {
     "name": "stderr",
     "output_type": "stream",
     "text": [
      "                                                              \r"
     ]
    },
    {
     "name": "stdout",
     "output_type": "stream",
     "text": [
      "Best model saved: /home/gabriel/VSProjects/audio_analysis/DenoisingAutoencoder/checkpoints/model_trial_13.pth (val loss: 0.0133)\n",
      "Train Loss: 0.0087 | Val Loss: 0.0133\n",
      "Learning Rate: 0.000401\n",
      "\n",
      "Epoch 9/100\n"
     ]
    },
    {
     "name": "stderr",
     "output_type": "stream",
     "text": [
      "                                                              \r"
     ]
    },
    {
     "name": "stdout",
     "output_type": "stream",
     "text": [
      "No improvement for 1 epoch(s)\n",
      "Train Loss: 0.0083 | Val Loss: 0.0147\n",
      "Learning Rate: 0.000401\n",
      "\n",
      "Epoch 10/100\n"
     ]
    },
    {
     "name": "stderr",
     "output_type": "stream",
     "text": [
      "                                                              \r"
     ]
    },
    {
     "name": "stdout",
     "output_type": "stream",
     "text": [
      "Best model saved: /home/gabriel/VSProjects/audio_analysis/DenoisingAutoencoder/checkpoints/model_trial_13.pth (val loss: 0.0132)\n",
      "Train Loss: 0.0076 | Val Loss: 0.0132\n",
      "Learning Rate: 0.000401\n",
      "\n",
      "Epoch 11/100\n"
     ]
    },
    {
     "name": "stderr",
     "output_type": "stream",
     "text": [
      "                                                              \r"
     ]
    },
    {
     "name": "stdout",
     "output_type": "stream",
     "text": [
      "No improvement for 1 epoch(s)\n",
      "Train Loss: 0.0084 | Val Loss: 0.0138\n",
      "Learning Rate: 0.000401\n",
      "\n",
      "Epoch 12/100\n"
     ]
    },
    {
     "name": "stderr",
     "output_type": "stream",
     "text": [
      "                                                              \r"
     ]
    },
    {
     "name": "stdout",
     "output_type": "stream",
     "text": [
      "No improvement for 2 epoch(s)\n",
      "Train Loss: 0.0073 | Val Loss: 0.0151\n",
      "Learning Rate: 0.000401\n",
      "\n",
      "Epoch 13/100\n"
     ]
    },
    {
     "name": "stderr",
     "output_type": "stream",
     "text": [
      "                                                              \r"
     ]
    },
    {
     "name": "stdout",
     "output_type": "stream",
     "text": [
      "No improvement for 3 epoch(s)\n",
      "Train Loss: 0.0068 | Val Loss: 0.0133\n",
      "Learning Rate: 0.000040\n",
      "\n",
      "Epoch 14/100\n"
     ]
    },
    {
     "name": "stderr",
     "output_type": "stream",
     "text": [
      "                                                              \r"
     ]
    },
    {
     "name": "stdout",
     "output_type": "stream",
     "text": [
      "Best model saved: /home/gabriel/VSProjects/audio_analysis/DenoisingAutoencoder/checkpoints/model_trial_13.pth (val loss: 0.0115)\n",
      "Train Loss: 0.0059 | Val Loss: 0.0115\n",
      "Learning Rate: 0.000040\n",
      "\n",
      "Epoch 15/100\n"
     ]
    },
    {
     "name": "stderr",
     "output_type": "stream",
     "text": [
      "                                                              \r"
     ]
    },
    {
     "name": "stdout",
     "output_type": "stream",
     "text": [
      "No improvement for 1 epoch(s)\n",
      "Train Loss: 0.0058 | Val Loss: 0.0116\n",
      "Learning Rate: 0.000040\n",
      "\n",
      "Epoch 16/100\n"
     ]
    },
    {
     "name": "stderr",
     "output_type": "stream",
     "text": [
      "                                                              \r"
     ]
    },
    {
     "name": "stdout",
     "output_type": "stream",
     "text": [
      "No improvement for 2 epoch(s)\n",
      "Train Loss: 0.0057 | Val Loss: 0.0117\n",
      "Learning Rate: 0.000040\n",
      "\n",
      "Epoch 17/100\n"
     ]
    },
    {
     "name": "stderr",
     "output_type": "stream",
     "text": [
      "                                                              \r"
     ]
    },
    {
     "name": "stdout",
     "output_type": "stream",
     "text": [
      "No improvement for 3 epoch(s)\n",
      "Train Loss: 0.0056 | Val Loss: 0.0117\n",
      "Learning Rate: 0.000004\n",
      "\n",
      "Epoch 18/100\n"
     ]
    },
    {
     "name": "stderr",
     "output_type": "stream",
     "text": [
      "                                                              \r"
     ]
    },
    {
     "name": "stdout",
     "output_type": "stream",
     "text": [
      "No improvement for 4 epoch(s)\n",
      "Train Loss: 0.0055 | Val Loss: 0.0117\n",
      "Learning Rate: 0.000004\n",
      "\n",
      "Epoch 19/100\n"
     ]
    },
    {
     "name": "stderr",
     "output_type": "stream",
     "text": [
      "                                                              \r"
     ]
    },
    {
     "name": "stdout",
     "output_type": "stream",
     "text": [
      "No improvement for 5 epoch(s)\n",
      "Early stopping triggered.\n"
     ]
    },
    {
     "data": {
      "text/html": [
       "\n",
       "    <style>\n",
       "        .wandb-row {\n",
       "            display: flex;\n",
       "            flex-direction: row;\n",
       "            flex-wrap: wrap;\n",
       "            justify-content: flex-start;\n",
       "            width: 100%;\n",
       "        }\n",
       "        .wandb-col {\n",
       "            display: flex;\n",
       "            flex-direction: column;\n",
       "            flex-basis: 100%;\n",
       "            flex: 1;\n",
       "            padding: 10px;\n",
       "        }\n",
       "    </style>\n",
       "<div class=\"wandb-row\"><div class=\"wandb-col\"><h3>Run history:</h3><br/><table class=\"wandb\"><tr><td>train_loss</td><td>█▄▃▃▂▂▂▂▂▁▂▁▁▁▁▁▁▁</td></tr><tr><td>val_loss</td><td>▆▆█▄▃▄▂▂▂▂▂▂▂▁▁▁▁▁</td></tr></table><br/></div><div class=\"wandb-col\"><h3>Run summary:</h3><br/><table class=\"wandb\"><tr><td>train_loss</td><td>0.0055</td></tr><tr><td>val_loss</td><td>0.01166</td></tr></table><br/></div></div>"
      ],
      "text/plain": [
       "<IPython.core.display.HTML object>"
      ]
     },
     "metadata": {},
     "output_type": "display_data"
    },
    {
     "data": {
      "text/html": [
       " View run <strong style=\"color:#cdcd00\">tough-dream-48</strong> at: <a href='https://wandb.ai/gfiuzaa-universidade-federal-do-rio-de-janeiro/audio-denoising/runs/6z18yohj' target=\"_blank\">https://wandb.ai/gfiuzaa-universidade-federal-do-rio-de-janeiro/audio-denoising/runs/6z18yohj</a><br/> View project at: <a href='https://wandb.ai/gfiuzaa-universidade-federal-do-rio-de-janeiro/audio-denoising' target=\"_blank\">https://wandb.ai/gfiuzaa-universidade-federal-do-rio-de-janeiro/audio-denoising</a><br/>Synced 5 W&B file(s), 0 media file(s), 0 artifact file(s) and 0 other file(s)"
      ],
      "text/plain": [
       "<IPython.core.display.HTML object>"
      ]
     },
     "metadata": {},
     "output_type": "display_data"
    },
    {
     "data": {
      "text/html": [
       "Find logs at: <code>./wandb/run-20250427_230220-6z18yohj/logs</code>"
      ],
      "text/plain": [
       "<IPython.core.display.HTML object>"
      ]
     },
     "metadata": {},
     "output_type": "display_data"
    },
    {
     "name": "stderr",
     "output_type": "stream",
     "text": [
      "[I 2025-04-27 23:40:38,849] Trial 13 finished with value: 0.011547641990085443 and parameters: {'base_filters': 32, 'depth': 4, 'dropout_rate': 0.004557196848207275, 'lr': 0.0004014062438726281, 'batch_size': 8}. Best is trial 13 with value: 0.011547641990085443.\n"
     ]
    },
    {
     "data": {
      "text/html": [
       "Tracking run with wandb version 0.18.7"
      ],
      "text/plain": [
       "<IPython.core.display.HTML object>"
      ]
     },
     "metadata": {},
     "output_type": "display_data"
    },
    {
     "data": {
      "text/html": [
       "Run data is saved locally in <code>/home/gabriel/VSProjects/audio_analysis/DenoisingAutoencoder/notebooks/wandb/run-20250427_234038-g997dedw</code>"
      ],
      "text/plain": [
       "<IPython.core.display.HTML object>"
      ]
     },
     "metadata": {},
     "output_type": "display_data"
    },
    {
     "data": {
      "text/html": [
       "Syncing run <strong><a href='https://wandb.ai/gfiuzaa-universidade-federal-do-rio-de-janeiro/audio-denoising/runs/g997dedw' target=\"_blank\">ethereal-lion-49</a></strong> to <a href='https://wandb.ai/gfiuzaa-universidade-federal-do-rio-de-janeiro/audio-denoising' target=\"_blank\">Weights & Biases</a> (<a href='https://wandb.me/developer-guide' target=\"_blank\">docs</a>)<br/>"
      ],
      "text/plain": [
       "<IPython.core.display.HTML object>"
      ]
     },
     "metadata": {},
     "output_type": "display_data"
    },
    {
     "data": {
      "text/html": [
       " View project at <a href='https://wandb.ai/gfiuzaa-universidade-federal-do-rio-de-janeiro/audio-denoising' target=\"_blank\">https://wandb.ai/gfiuzaa-universidade-federal-do-rio-de-janeiro/audio-denoising</a>"
      ],
      "text/plain": [
       "<IPython.core.display.HTML object>"
      ]
     },
     "metadata": {},
     "output_type": "display_data"
    },
    {
     "data": {
      "text/html": [
       " View run at <a href='https://wandb.ai/gfiuzaa-universidade-federal-do-rio-de-janeiro/audio-denoising/runs/g997dedw' target=\"_blank\">https://wandb.ai/gfiuzaa-universidade-federal-do-rio-de-janeiro/audio-denoising/runs/g997dedw</a>"
      ],
      "text/plain": [
       "<IPython.core.display.HTML object>"
      ]
     },
     "metadata": {},
     "output_type": "display_data"
    },
    {
     "name": "stdout",
     "output_type": "stream",
     "text": [
      "\n",
      "Epoch 1/100\n"
     ]
    },
    {
     "name": "stderr",
     "output_type": "stream",
     "text": [
      "                                                              \r"
     ]
    },
    {
     "name": "stdout",
     "output_type": "stream",
     "text": [
      "Best model saved: /home/gabriel/VSProjects/audio_analysis/DenoisingAutoencoder/checkpoints/model_trial_14.pth (val loss: 0.0284)\n",
      "Train Loss: 0.0560 | Val Loss: 0.0284\n",
      "Learning Rate: 0.000064\n",
      "\n",
      "Epoch 2/100\n"
     ]
    },
    {
     "name": "stderr",
     "output_type": "stream",
     "text": [
      "                                                              \r"
     ]
    },
    {
     "name": "stdout",
     "output_type": "stream",
     "text": [
      "Best model saved: /home/gabriel/VSProjects/audio_analysis/DenoisingAutoencoder/checkpoints/model_trial_14.pth (val loss: 0.0250)\n",
      "Train Loss: 0.0201 | Val Loss: 0.0250\n",
      "Learning Rate: 0.000064\n",
      "\n",
      "Epoch 3/100\n"
     ]
    },
    {
     "name": "stderr",
     "output_type": "stream",
     "text": [
      "                                                              \r"
     ]
    },
    {
     "name": "stdout",
     "output_type": "stream",
     "text": [
      "Best model saved: /home/gabriel/VSProjects/audio_analysis/DenoisingAutoencoder/checkpoints/model_trial_14.pth (val loss: 0.0216)\n",
      "Train Loss: 0.0154 | Val Loss: 0.0216\n",
      "Learning Rate: 0.000064\n",
      "\n",
      "Epoch 4/100\n"
     ]
    },
    {
     "name": "stderr",
     "output_type": "stream",
     "text": [
      "                                                              \r"
     ]
    },
    {
     "name": "stdout",
     "output_type": "stream",
     "text": [
      "Best model saved: /home/gabriel/VSProjects/audio_analysis/DenoisingAutoencoder/checkpoints/model_trial_14.pth (val loss: 0.0208)\n",
      "Train Loss: 0.0132 | Val Loss: 0.0208\n",
      "Learning Rate: 0.000064\n",
      "\n",
      "Epoch 5/100\n"
     ]
    },
    {
     "name": "stderr",
     "output_type": "stream",
     "text": [
      "                                                              \r"
     ]
    },
    {
     "name": "stdout",
     "output_type": "stream",
     "text": [
      "Best model saved: /home/gabriel/VSProjects/audio_analysis/DenoisingAutoencoder/checkpoints/model_trial_14.pth (val loss: 0.0165)\n",
      "Train Loss: 0.0115 | Val Loss: 0.0165\n",
      "Learning Rate: 0.000064\n",
      "\n",
      "Epoch 6/100\n"
     ]
    },
    {
     "name": "stderr",
     "output_type": "stream",
     "text": [
      "                                                              \r"
     ]
    },
    {
     "name": "stdout",
     "output_type": "stream",
     "text": [
      "Best model saved: /home/gabriel/VSProjects/audio_analysis/DenoisingAutoencoder/checkpoints/model_trial_14.pth (val loss: 0.0151)\n",
      "Train Loss: 0.0107 | Val Loss: 0.0151\n",
      "Learning Rate: 0.000064\n",
      "\n",
      "Epoch 7/100\n"
     ]
    },
    {
     "name": "stderr",
     "output_type": "stream",
     "text": [
      "                                                              \r"
     ]
    },
    {
     "name": "stdout",
     "output_type": "stream",
     "text": [
      "Best model saved: /home/gabriel/VSProjects/audio_analysis/DenoisingAutoencoder/checkpoints/model_trial_14.pth (val loss: 0.0145)\n",
      "Train Loss: 0.0095 | Val Loss: 0.0145\n",
      "Learning Rate: 0.000064\n",
      "\n",
      "Epoch 8/100\n"
     ]
    },
    {
     "name": "stderr",
     "output_type": "stream",
     "text": [
      "                                                              \r"
     ]
    },
    {
     "name": "stdout",
     "output_type": "stream",
     "text": [
      "No improvement for 1 epoch(s)\n",
      "Train Loss: 0.0088 | Val Loss: 0.0161\n",
      "Learning Rate: 0.000064\n",
      "\n",
      "Epoch 9/100\n"
     ]
    },
    {
     "name": "stderr",
     "output_type": "stream",
     "text": [
      "                                                              \r"
     ]
    },
    {
     "name": "stdout",
     "output_type": "stream",
     "text": [
      "No improvement for 2 epoch(s)\n",
      "Train Loss: 0.0094 | Val Loss: 0.0177\n",
      "Learning Rate: 0.000064\n",
      "\n",
      "Epoch 10/100\n"
     ]
    },
    {
     "name": "stderr",
     "output_type": "stream",
     "text": [
      "                                                              \r"
     ]
    },
    {
     "name": "stdout",
     "output_type": "stream",
     "text": [
      "No improvement for 3 epoch(s)\n",
      "Train Loss: 0.0081 | Val Loss: 0.0170\n",
      "Learning Rate: 0.000006\n",
      "\n",
      "Epoch 11/100\n"
     ]
    },
    {
     "name": "stderr",
     "output_type": "stream",
     "text": [
      "                                                              \r"
     ]
    },
    {
     "name": "stdout",
     "output_type": "stream",
     "text": [
      "Best model saved: /home/gabriel/VSProjects/audio_analysis/DenoisingAutoencoder/checkpoints/model_trial_14.pth (val loss: 0.0142)\n",
      "Train Loss: 0.0072 | Val Loss: 0.0142\n",
      "Learning Rate: 0.000006\n",
      "\n",
      "Epoch 12/100\n"
     ]
    },
    {
     "name": "stderr",
     "output_type": "stream",
     "text": [
      "                                                              \r"
     ]
    },
    {
     "name": "stdout",
     "output_type": "stream",
     "text": [
      "No improvement for 1 epoch(s)\n",
      "Train Loss: 0.0071 | Val Loss: 0.0142\n",
      "Learning Rate: 0.000006\n",
      "\n",
      "Epoch 13/100\n"
     ]
    },
    {
     "name": "stderr",
     "output_type": "stream",
     "text": [
      "                                                              \r"
     ]
    },
    {
     "name": "stdout",
     "output_type": "stream",
     "text": [
      "No improvement for 2 epoch(s)\n",
      "Train Loss: 0.0070 | Val Loss: 0.0144\n",
      "Learning Rate: 0.000006\n",
      "\n",
      "Epoch 14/100\n"
     ]
    },
    {
     "name": "stderr",
     "output_type": "stream",
     "text": [
      "                                                              \r"
     ]
    },
    {
     "name": "stdout",
     "output_type": "stream",
     "text": [
      "Best model saved: /home/gabriel/VSProjects/audio_analysis/DenoisingAutoencoder/checkpoints/model_trial_14.pth (val loss: 0.0141)\n",
      "Train Loss: 0.0069 | Val Loss: 0.0141\n",
      "Learning Rate: 0.000006\n",
      "\n",
      "Epoch 15/100\n"
     ]
    },
    {
     "name": "stderr",
     "output_type": "stream",
     "text": [
      "                                                              \r"
     ]
    },
    {
     "name": "stdout",
     "output_type": "stream",
     "text": [
      "No improvement for 1 epoch(s)\n",
      "Train Loss: 0.0069 | Val Loss: 0.0142\n",
      "Learning Rate: 0.000006\n",
      "\n",
      "Epoch 16/100\n"
     ]
    },
    {
     "name": "stderr",
     "output_type": "stream",
     "text": [
      "                                                              \r"
     ]
    },
    {
     "name": "stdout",
     "output_type": "stream",
     "text": [
      "No improvement for 2 epoch(s)\n",
      "Train Loss: 0.0068 | Val Loss: 0.0141\n",
      "Learning Rate: 0.000006\n",
      "\n",
      "Epoch 17/100\n"
     ]
    },
    {
     "name": "stderr",
     "output_type": "stream",
     "text": [
      "                                                              \r"
     ]
    },
    {
     "name": "stdout",
     "output_type": "stream",
     "text": [
      "Best model saved: /home/gabriel/VSProjects/audio_analysis/DenoisingAutoencoder/checkpoints/model_trial_14.pth (val loss: 0.0140)\n",
      "Train Loss: 0.0067 | Val Loss: 0.0140\n",
      "Learning Rate: 0.000006\n",
      "\n",
      "Epoch 18/100\n"
     ]
    },
    {
     "name": "stderr",
     "output_type": "stream",
     "text": [
      "                                                              \r"
     ]
    },
    {
     "name": "stdout",
     "output_type": "stream",
     "text": [
      "No improvement for 1 epoch(s)\n",
      "Train Loss: 0.0066 | Val Loss: 0.0145\n",
      "Learning Rate: 0.000006\n",
      "\n",
      "Epoch 19/100\n"
     ]
    },
    {
     "name": "stderr",
     "output_type": "stream",
     "text": [
      "                                                              \r"
     ]
    },
    {
     "name": "stdout",
     "output_type": "stream",
     "text": [
      "No improvement for 2 epoch(s)\n",
      "Train Loss: 0.0065 | Val Loss: 0.0141\n",
      "Learning Rate: 0.000006\n",
      "\n",
      "Epoch 20/100\n"
     ]
    },
    {
     "name": "stderr",
     "output_type": "stream",
     "text": [
      "                                                              \r"
     ]
    },
    {
     "name": "stdout",
     "output_type": "stream",
     "text": [
      "No improvement for 3 epoch(s)\n",
      "Train Loss: 0.0065 | Val Loss: 0.0140\n",
      "Learning Rate: 0.000001\n",
      "\n",
      "Epoch 21/100\n"
     ]
    },
    {
     "name": "stderr",
     "output_type": "stream",
     "text": [
      "                                                              \r"
     ]
    },
    {
     "name": "stdout",
     "output_type": "stream",
     "text": [
      "No improvement for 4 epoch(s)\n",
      "Train Loss: 0.0064 | Val Loss: 0.0140\n",
      "Learning Rate: 0.000001\n",
      "\n",
      "Epoch 22/100\n"
     ]
    },
    {
     "name": "stderr",
     "output_type": "stream",
     "text": [
      "                                                              \r"
     ]
    },
    {
     "name": "stdout",
     "output_type": "stream",
     "text": [
      "No improvement for 5 epoch(s)\n",
      "Early stopping triggered.\n"
     ]
    },
    {
     "data": {
      "text/html": [
       "\n",
       "    <style>\n",
       "        .wandb-row {\n",
       "            display: flex;\n",
       "            flex-direction: row;\n",
       "            flex-wrap: wrap;\n",
       "            justify-content: flex-start;\n",
       "            width: 100%;\n",
       "        }\n",
       "        .wandb-col {\n",
       "            display: flex;\n",
       "            flex-direction: column;\n",
       "            flex-basis: 100%;\n",
       "            flex: 1;\n",
       "            padding: 10px;\n",
       "        }\n",
       "    </style>\n",
       "<div class=\"wandb-row\"><div class=\"wandb-col\"><h3>Run history:</h3><br/><table class=\"wandb\"><tr><td>train_loss</td><td>█▃▂▂▂▂▁▁▁▁▁▁▁▁▁▁▁▁▁▁▁</td></tr><tr><td>val_loss</td><td>█▆▅▄▂▂▁▂▃▂▁▁▁▁▁▁▁▁▁▁▁</td></tr></table><br/></div><div class=\"wandb-col\"><h3>Run summary:</h3><br/><table class=\"wandb\"><tr><td>train_loss</td><td>0.00636</td></tr><tr><td>val_loss</td><td>0.01399</td></tr></table><br/></div></div>"
      ],
      "text/plain": [
       "<IPython.core.display.HTML object>"
      ]
     },
     "metadata": {},
     "output_type": "display_data"
    },
    {
     "data": {
      "text/html": [
       " View run <strong style=\"color:#cdcd00\">ethereal-lion-49</strong> at: <a href='https://wandb.ai/gfiuzaa-universidade-federal-do-rio-de-janeiro/audio-denoising/runs/g997dedw' target=\"_blank\">https://wandb.ai/gfiuzaa-universidade-federal-do-rio-de-janeiro/audio-denoising/runs/g997dedw</a><br/> View project at: <a href='https://wandb.ai/gfiuzaa-universidade-federal-do-rio-de-janeiro/audio-denoising' target=\"_blank\">https://wandb.ai/gfiuzaa-universidade-federal-do-rio-de-janeiro/audio-denoising</a><br/>Synced 5 W&B file(s), 0 media file(s), 0 artifact file(s) and 0 other file(s)"
      ],
      "text/plain": [
       "<IPython.core.display.HTML object>"
      ]
     },
     "metadata": {},
     "output_type": "display_data"
    },
    {
     "data": {
      "text/html": [
       "Find logs at: <code>./wandb/run-20250427_234038-g997dedw/logs</code>"
      ],
      "text/plain": [
       "<IPython.core.display.HTML object>"
      ]
     },
     "metadata": {},
     "output_type": "display_data"
    },
    {
     "name": "stderr",
     "output_type": "stream",
     "text": [
      "[I 2025-04-28 00:24:05,966] Trial 14 finished with value: 0.01395663327537477 and parameters: {'base_filters': 32, 'depth': 4, 'dropout_rate': 0.008029342021140246, 'lr': 6.399577750017053e-05, 'batch_size': 8}. Best is trial 13 with value: 0.011547641990085443.\n"
     ]
    },
    {
     "data": {
      "text/html": [
       "Tracking run with wandb version 0.18.7"
      ],
      "text/plain": [
       "<IPython.core.display.HTML object>"
      ]
     },
     "metadata": {},
     "output_type": "display_data"
    },
    {
     "data": {
      "text/html": [
       "Run data is saved locally in <code>/home/gabriel/VSProjects/audio_analysis/DenoisingAutoencoder/notebooks/wandb/run-20250428_002406-cupjync7</code>"
      ],
      "text/plain": [
       "<IPython.core.display.HTML object>"
      ]
     },
     "metadata": {},
     "output_type": "display_data"
    },
    {
     "data": {
      "text/html": [
       "Syncing run <strong><a href='https://wandb.ai/gfiuzaa-universidade-federal-do-rio-de-janeiro/audio-denoising/runs/cupjync7' target=\"_blank\">tough-firebrand-50</a></strong> to <a href='https://wandb.ai/gfiuzaa-universidade-federal-do-rio-de-janeiro/audio-denoising' target=\"_blank\">Weights & Biases</a> (<a href='https://wandb.me/developer-guide' target=\"_blank\">docs</a>)<br/>"
      ],
      "text/plain": [
       "<IPython.core.display.HTML object>"
      ]
     },
     "metadata": {},
     "output_type": "display_data"
    },
    {
     "data": {
      "text/html": [
       " View project at <a href='https://wandb.ai/gfiuzaa-universidade-federal-do-rio-de-janeiro/audio-denoising' target=\"_blank\">https://wandb.ai/gfiuzaa-universidade-federal-do-rio-de-janeiro/audio-denoising</a>"
      ],
      "text/plain": [
       "<IPython.core.display.HTML object>"
      ]
     },
     "metadata": {},
     "output_type": "display_data"
    },
    {
     "data": {
      "text/html": [
       " View run at <a href='https://wandb.ai/gfiuzaa-universidade-federal-do-rio-de-janeiro/audio-denoising/runs/cupjync7' target=\"_blank\">https://wandb.ai/gfiuzaa-universidade-federal-do-rio-de-janeiro/audio-denoising/runs/cupjync7</a>"
      ],
      "text/plain": [
       "<IPython.core.display.HTML object>"
      ]
     },
     "metadata": {},
     "output_type": "display_data"
    },
    {
     "name": "stdout",
     "output_type": "stream",
     "text": [
      "\n",
      "Epoch 1/100\n"
     ]
    },
    {
     "name": "stderr",
     "output_type": "stream",
     "text": [
      "                                                              \r"
     ]
    },
    {
     "name": "stdout",
     "output_type": "stream",
     "text": [
      "Best model saved: /home/gabriel/VSProjects/audio_analysis/DenoisingAutoencoder/checkpoints/model_trial_15.pth (val loss: 0.0270)\n",
      "Train Loss: 0.0536 | Val Loss: 0.0270\n",
      "Learning Rate: 0.000342\n",
      "\n",
      "Epoch 2/100\n"
     ]
    },
    {
     "name": "stderr",
     "output_type": "stream",
     "text": [
      "                                                              \r"
     ]
    },
    {
     "name": "stdout",
     "output_type": "stream",
     "text": [
      "Best model saved: /home/gabriel/VSProjects/audio_analysis/DenoisingAutoencoder/checkpoints/model_trial_15.pth (val loss: 0.0204)\n",
      "Train Loss: 0.0251 | Val Loss: 0.0204\n",
      "Learning Rate: 0.000342\n",
      "\n",
      "Epoch 3/100\n"
     ]
    },
    {
     "name": "stderr",
     "output_type": "stream",
     "text": [
      "                                                              \r"
     ]
    },
    {
     "name": "stdout",
     "output_type": "stream",
     "text": [
      "Best model saved: /home/gabriel/VSProjects/audio_analysis/DenoisingAutoencoder/checkpoints/model_trial_15.pth (val loss: 0.0185)\n",
      "Train Loss: 0.0198 | Val Loss: 0.0185\n",
      "Learning Rate: 0.000342\n",
      "\n",
      "Epoch 4/100\n"
     ]
    },
    {
     "name": "stderr",
     "output_type": "stream",
     "text": [
      "                                                              \r"
     ]
    },
    {
     "name": "stdout",
     "output_type": "stream",
     "text": [
      "Best model saved: /home/gabriel/VSProjects/audio_analysis/DenoisingAutoencoder/checkpoints/model_trial_15.pth (val loss: 0.0173)\n",
      "Train Loss: 0.0171 | Val Loss: 0.0173\n",
      "Learning Rate: 0.000342\n",
      "\n",
      "Epoch 5/100\n"
     ]
    },
    {
     "name": "stderr",
     "output_type": "stream",
     "text": [
      "                                                              \r"
     ]
    },
    {
     "name": "stdout",
     "output_type": "stream",
     "text": [
      "No improvement for 1 epoch(s)\n",
      "Train Loss: 0.0161 | Val Loss: 0.0178\n",
      "Learning Rate: 0.000342\n",
      "\n",
      "Epoch 6/100\n"
     ]
    },
    {
     "name": "stderr",
     "output_type": "stream",
     "text": [
      "                                                              \r"
     ]
    },
    {
     "name": "stdout",
     "output_type": "stream",
     "text": [
      "Best model saved: /home/gabriel/VSProjects/audio_analysis/DenoisingAutoencoder/checkpoints/model_trial_15.pth (val loss: 0.0164)\n",
      "Train Loss: 0.0146 | Val Loss: 0.0164\n",
      "Learning Rate: 0.000342\n",
      "\n",
      "Epoch 7/100\n"
     ]
    },
    {
     "name": "stderr",
     "output_type": "stream",
     "text": [
      "                                                              \r"
     ]
    },
    {
     "name": "stdout",
     "output_type": "stream",
     "text": [
      "Best model saved: /home/gabriel/VSProjects/audio_analysis/DenoisingAutoencoder/checkpoints/model_trial_15.pth (val loss: 0.0152)\n",
      "Train Loss: 0.0131 | Val Loss: 0.0152\n",
      "Learning Rate: 0.000342\n",
      "\n",
      "Epoch 8/100\n"
     ]
    },
    {
     "name": "stderr",
     "output_type": "stream",
     "text": [
      "                                                              \r"
     ]
    },
    {
     "name": "stdout",
     "output_type": "stream",
     "text": [
      "Best model saved: /home/gabriel/VSProjects/audio_analysis/DenoisingAutoencoder/checkpoints/model_trial_15.pth (val loss: 0.0132)\n",
      "Train Loss: 0.0123 | Val Loss: 0.0132\n",
      "Learning Rate: 0.000342\n",
      "\n",
      "Epoch 9/100\n"
     ]
    },
    {
     "name": "stderr",
     "output_type": "stream",
     "text": [
      "                                                              \r"
     ]
    },
    {
     "name": "stdout",
     "output_type": "stream",
     "text": [
      "No improvement for 1 epoch(s)\n",
      "Train Loss: 0.0123 | Val Loss: 0.0161\n",
      "Learning Rate: 0.000342\n",
      "\n",
      "Epoch 10/100\n"
     ]
    },
    {
     "name": "stderr",
     "output_type": "stream",
     "text": [
      "                                                              \r"
     ]
    },
    {
     "name": "stdout",
     "output_type": "stream",
     "text": [
      "No improvement for 2 epoch(s)\n",
      "Train Loss: 0.0122 | Val Loss: 0.0151\n",
      "Learning Rate: 0.000342\n",
      "\n",
      "Epoch 11/100\n"
     ]
    },
    {
     "name": "stderr",
     "output_type": "stream",
     "text": [
      "                                                              \r"
     ]
    },
    {
     "name": "stdout",
     "output_type": "stream",
     "text": [
      "No improvement for 3 epoch(s)\n",
      "Train Loss: 0.0110 | Val Loss: 0.0150\n",
      "Learning Rate: 0.000034\n",
      "\n",
      "Epoch 12/100\n"
     ]
    },
    {
     "name": "stderr",
     "output_type": "stream",
     "text": [
      "                                                              \r"
     ]
    },
    {
     "name": "stdout",
     "output_type": "stream",
     "text": [
      "Best model saved: /home/gabriel/VSProjects/audio_analysis/DenoisingAutoencoder/checkpoints/model_trial_15.pth (val loss: 0.0125)\n",
      "Train Loss: 0.0100 | Val Loss: 0.0125\n",
      "Learning Rate: 0.000034\n",
      "\n",
      "Epoch 13/100\n"
     ]
    },
    {
     "name": "stderr",
     "output_type": "stream",
     "text": [
      "                                                              \r"
     ]
    },
    {
     "name": "stdout",
     "output_type": "stream",
     "text": [
      "No improvement for 1 epoch(s)\n",
      "Train Loss: 0.0098 | Val Loss: 0.0125\n",
      "Learning Rate: 0.000034\n",
      "\n",
      "Epoch 14/100\n"
     ]
    },
    {
     "name": "stderr",
     "output_type": "stream",
     "text": [
      "                                                              \r"
     ]
    },
    {
     "name": "stdout",
     "output_type": "stream",
     "text": [
      "Best model saved: /home/gabriel/VSProjects/audio_analysis/DenoisingAutoencoder/checkpoints/model_trial_15.pth (val loss: 0.0122)\n",
      "Train Loss: 0.0096 | Val Loss: 0.0122\n",
      "Learning Rate: 0.000034\n",
      "\n",
      "Epoch 15/100\n"
     ]
    },
    {
     "name": "stderr",
     "output_type": "stream",
     "text": [
      "                                                              \r"
     ]
    },
    {
     "name": "stdout",
     "output_type": "stream",
     "text": [
      "No improvement for 1 epoch(s)\n",
      "Train Loss: 0.0095 | Val Loss: 0.0122\n",
      "Learning Rate: 0.000034\n",
      "\n",
      "Epoch 16/100\n"
     ]
    },
    {
     "name": "stderr",
     "output_type": "stream",
     "text": [
      "                                                              \r"
     ]
    },
    {
     "name": "stdout",
     "output_type": "stream",
     "text": [
      "No improvement for 2 epoch(s)\n",
      "Train Loss: 0.0094 | Val Loss: 0.0123\n",
      "Learning Rate: 0.000034\n",
      "\n",
      "Epoch 17/100\n"
     ]
    },
    {
     "name": "stderr",
     "output_type": "stream",
     "text": [
      "                                                              \r"
     ]
    },
    {
     "name": "stdout",
     "output_type": "stream",
     "text": [
      "No improvement for 3 epoch(s)\n",
      "Train Loss: 0.0094 | Val Loss: 0.0126\n",
      "Learning Rate: 0.000003\n",
      "\n",
      "Epoch 18/100\n"
     ]
    },
    {
     "name": "stderr",
     "output_type": "stream",
     "text": [
      "                                                              \r"
     ]
    },
    {
     "name": "stdout",
     "output_type": "stream",
     "text": [
      "Best model saved: /home/gabriel/VSProjects/audio_analysis/DenoisingAutoencoder/checkpoints/model_trial_15.pth (val loss: 0.0120)\n",
      "Train Loss: 0.0092 | Val Loss: 0.0120\n",
      "Learning Rate: 0.000003\n",
      "\n",
      "Epoch 19/100\n"
     ]
    },
    {
     "name": "stderr",
     "output_type": "stream",
     "text": [
      "                                                              \r"
     ]
    },
    {
     "name": "stdout",
     "output_type": "stream",
     "text": [
      "No improvement for 1 epoch(s)\n",
      "Train Loss: 0.0092 | Val Loss: 0.0122\n",
      "Learning Rate: 0.000003\n",
      "\n",
      "Epoch 20/100\n"
     ]
    },
    {
     "name": "stderr",
     "output_type": "stream",
     "text": [
      "                                                              \r"
     ]
    },
    {
     "name": "stdout",
     "output_type": "stream",
     "text": [
      "No improvement for 2 epoch(s)\n",
      "Train Loss: 0.0092 | Val Loss: 0.0121\n",
      "Learning Rate: 0.000003\n",
      "\n",
      "Epoch 21/100\n"
     ]
    },
    {
     "name": "stderr",
     "output_type": "stream",
     "text": [
      "                                                              \r"
     ]
    },
    {
     "name": "stdout",
     "output_type": "stream",
     "text": [
      "No improvement for 3 epoch(s)\n",
      "Train Loss: 0.0092 | Val Loss: 0.0121\n",
      "Learning Rate: 0.000000\n",
      "\n",
      "Epoch 22/100\n"
     ]
    },
    {
     "name": "stderr",
     "output_type": "stream",
     "text": [
      "                                                              \r"
     ]
    },
    {
     "name": "stdout",
     "output_type": "stream",
     "text": [
      "No improvement for 4 epoch(s)\n",
      "Train Loss: 0.0092 | Val Loss: 0.0122\n",
      "Learning Rate: 0.000000\n",
      "\n",
      "Epoch 23/100\n"
     ]
    },
    {
     "name": "stderr",
     "output_type": "stream",
     "text": [
      "                                                              \r"
     ]
    },
    {
     "name": "stdout",
     "output_type": "stream",
     "text": [
      "No improvement for 5 epoch(s)\n",
      "Early stopping triggered.\n"
     ]
    },
    {
     "data": {
      "text/html": [
       "\n",
       "    <style>\n",
       "        .wandb-row {\n",
       "            display: flex;\n",
       "            flex-direction: row;\n",
       "            flex-wrap: wrap;\n",
       "            justify-content: flex-start;\n",
       "            width: 100%;\n",
       "        }\n",
       "        .wandb-col {\n",
       "            display: flex;\n",
       "            flex-direction: column;\n",
       "            flex-basis: 100%;\n",
       "            flex: 1;\n",
       "            padding: 10px;\n",
       "        }\n",
       "    </style>\n",
       "<div class=\"wandb-row\"><div class=\"wandb-col\"><h3>Run history:</h3><br/><table class=\"wandb\"><tr><td>train_loss</td><td>█▄▃▂▂▂▂▁▁▁▁▁▁▁▁▁▁▁▁▁▁▁</td></tr><tr><td>val_loss</td><td>█▅▄▃▄▃▂▂▃▂▂▁▁▁▁▁▁▁▁▁▁▁</td></tr></table><br/></div><div class=\"wandb-col\"><h3>Run summary:</h3><br/><table class=\"wandb\"><tr><td>train_loss</td><td>0.00915</td></tr><tr><td>val_loss</td><td>0.01219</td></tr></table><br/></div></div>"
      ],
      "text/plain": [
       "<IPython.core.display.HTML object>"
      ]
     },
     "metadata": {},
     "output_type": "display_data"
    },
    {
     "data": {
      "text/html": [
       " View run <strong style=\"color:#cdcd00\">tough-firebrand-50</strong> at: <a href='https://wandb.ai/gfiuzaa-universidade-federal-do-rio-de-janeiro/audio-denoising/runs/cupjync7' target=\"_blank\">https://wandb.ai/gfiuzaa-universidade-federal-do-rio-de-janeiro/audio-denoising/runs/cupjync7</a><br/> View project at: <a href='https://wandb.ai/gfiuzaa-universidade-federal-do-rio-de-janeiro/audio-denoising' target=\"_blank\">https://wandb.ai/gfiuzaa-universidade-federal-do-rio-de-janeiro/audio-denoising</a><br/>Synced 5 W&B file(s), 0 media file(s), 0 artifact file(s) and 0 other file(s)"
      ],
      "text/plain": [
       "<IPython.core.display.HTML object>"
      ]
     },
     "metadata": {},
     "output_type": "display_data"
    },
    {
     "data": {
      "text/html": [
       "Find logs at: <code>./wandb/run-20250428_002406-cupjync7/logs</code>"
      ],
      "text/plain": [
       "<IPython.core.display.HTML object>"
      ]
     },
     "metadata": {},
     "output_type": "display_data"
    },
    {
     "name": "stderr",
     "output_type": "stream",
     "text": [
      "[I 2025-04-28 01:09:28,096] Trial 15 finished with value: 0.012022218067819874 and parameters: {'base_filters': 32, 'depth': 4, 'dropout_rate': 0.04945158129009651, 'lr': 0.00034155344115987537, 'batch_size': 8}. Best is trial 13 with value: 0.011547641990085443.\n"
     ]
    },
    {
     "data": {
      "text/html": [
       "Tracking run with wandb version 0.18.7"
      ],
      "text/plain": [
       "<IPython.core.display.HTML object>"
      ]
     },
     "metadata": {},
     "output_type": "display_data"
    },
    {
     "data": {
      "text/html": [
       "Run data is saved locally in <code>/home/gabriel/VSProjects/audio_analysis/DenoisingAutoencoder/notebooks/wandb/run-20250428_010928-qs09mdk4</code>"
      ],
      "text/plain": [
       "<IPython.core.display.HTML object>"
      ]
     },
     "metadata": {},
     "output_type": "display_data"
    },
    {
     "data": {
      "text/html": [
       "Syncing run <strong><a href='https://wandb.ai/gfiuzaa-universidade-federal-do-rio-de-janeiro/audio-denoising/runs/qs09mdk4' target=\"_blank\">classic-lake-51</a></strong> to <a href='https://wandb.ai/gfiuzaa-universidade-federal-do-rio-de-janeiro/audio-denoising' target=\"_blank\">Weights & Biases</a> (<a href='https://wandb.me/developer-guide' target=\"_blank\">docs</a>)<br/>"
      ],
      "text/plain": [
       "<IPython.core.display.HTML object>"
      ]
     },
     "metadata": {},
     "output_type": "display_data"
    },
    {
     "data": {
      "text/html": [
       " View project at <a href='https://wandb.ai/gfiuzaa-universidade-federal-do-rio-de-janeiro/audio-denoising' target=\"_blank\">https://wandb.ai/gfiuzaa-universidade-federal-do-rio-de-janeiro/audio-denoising</a>"
      ],
      "text/plain": [
       "<IPython.core.display.HTML object>"
      ]
     },
     "metadata": {},
     "output_type": "display_data"
    },
    {
     "data": {
      "text/html": [
       " View run at <a href='https://wandb.ai/gfiuzaa-universidade-federal-do-rio-de-janeiro/audio-denoising/runs/qs09mdk4' target=\"_blank\">https://wandb.ai/gfiuzaa-universidade-federal-do-rio-de-janeiro/audio-denoising/runs/qs09mdk4</a>"
      ],
      "text/plain": [
       "<IPython.core.display.HTML object>"
      ]
     },
     "metadata": {},
     "output_type": "display_data"
    },
    {
     "name": "stdout",
     "output_type": "stream",
     "text": [
      "\n",
      "Epoch 1/100\n"
     ]
    },
    {
     "name": "stderr",
     "output_type": "stream",
     "text": [
      "                                                              \r"
     ]
    },
    {
     "name": "stdout",
     "output_type": "stream",
     "text": [
      "Best model saved: /home/gabriel/VSProjects/audio_analysis/DenoisingAutoencoder/checkpoints/model_trial_16.pth (val loss: 0.0251)\n",
      "Train Loss: 0.0696 | Val Loss: 0.0251\n",
      "Learning Rate: 0.000295\n",
      "\n",
      "Epoch 2/100\n"
     ]
    },
    {
     "name": "stderr",
     "output_type": "stream",
     "text": [
      "                                                              \r"
     ]
    },
    {
     "name": "stdout",
     "output_type": "stream",
     "text": [
      "Best model saved: /home/gabriel/VSProjects/audio_analysis/DenoisingAutoencoder/checkpoints/model_trial_16.pth (val loss: 0.0233)\n",
      "Train Loss: 0.0267 | Val Loss: 0.0233\n",
      "Learning Rate: 0.000295\n",
      "\n",
      "Epoch 3/100\n"
     ]
    },
    {
     "name": "stderr",
     "output_type": "stream",
     "text": [
      "                                                              \r"
     ]
    },
    {
     "name": "stdout",
     "output_type": "stream",
     "text": [
      "Best model saved: /home/gabriel/VSProjects/audio_analysis/DenoisingAutoencoder/checkpoints/model_trial_16.pth (val loss: 0.0186)\n",
      "Train Loss: 0.0225 | Val Loss: 0.0186\n",
      "Learning Rate: 0.000295\n",
      "\n",
      "Epoch 4/100\n"
     ]
    },
    {
     "name": "stderr",
     "output_type": "stream",
     "text": [
      "                                                              \r"
     ]
    },
    {
     "name": "stdout",
     "output_type": "stream",
     "text": [
      "Best model saved: /home/gabriel/VSProjects/audio_analysis/DenoisingAutoencoder/checkpoints/model_trial_16.pth (val loss: 0.0173)\n",
      "Train Loss: 0.0195 | Val Loss: 0.0173\n",
      "Learning Rate: 0.000295\n",
      "\n",
      "Epoch 5/100\n"
     ]
    },
    {
     "name": "stderr",
     "output_type": "stream",
     "text": [
      "                                                              \r"
     ]
    },
    {
     "name": "stdout",
     "output_type": "stream",
     "text": [
      "No improvement for 1 epoch(s)\n",
      "Train Loss: 0.0174 | Val Loss: 0.0192\n",
      "Learning Rate: 0.000295\n",
      "\n",
      "Epoch 6/100\n"
     ]
    },
    {
     "name": "stderr",
     "output_type": "stream",
     "text": [
      "                                                              \r"
     ]
    },
    {
     "name": "stdout",
     "output_type": "stream",
     "text": [
      "Best model saved: /home/gabriel/VSProjects/audio_analysis/DenoisingAutoencoder/checkpoints/model_trial_16.pth (val loss: 0.0166)\n",
      "Train Loss: 0.0165 | Val Loss: 0.0166\n",
      "Learning Rate: 0.000295\n",
      "\n",
      "Epoch 7/100\n"
     ]
    },
    {
     "name": "stderr",
     "output_type": "stream",
     "text": [
      "                                                              \r"
     ]
    },
    {
     "name": "stdout",
     "output_type": "stream",
     "text": [
      "No improvement for 1 epoch(s)\n",
      "Train Loss: 0.0153 | Val Loss: 0.0206\n",
      "Learning Rate: 0.000295\n",
      "\n",
      "Epoch 8/100\n"
     ]
    },
    {
     "name": "stderr",
     "output_type": "stream",
     "text": [
      "                                                              \r"
     ]
    },
    {
     "name": "stdout",
     "output_type": "stream",
     "text": [
      "Best model saved: /home/gabriel/VSProjects/audio_analysis/DenoisingAutoencoder/checkpoints/model_trial_16.pth (val loss: 0.0149)\n",
      "Train Loss: 0.0142 | Val Loss: 0.0149\n",
      "Learning Rate: 0.000295\n",
      "\n",
      "Epoch 9/100\n"
     ]
    },
    {
     "name": "stderr",
     "output_type": "stream",
     "text": [
      "                                                              \r"
     ]
    },
    {
     "name": "stdout",
     "output_type": "stream",
     "text": [
      "Best model saved: /home/gabriel/VSProjects/audio_analysis/DenoisingAutoencoder/checkpoints/model_trial_16.pth (val loss: 0.0149)\n",
      "Train Loss: 0.0134 | Val Loss: 0.0149\n",
      "Learning Rate: 0.000295\n",
      "\n",
      "Epoch 10/100\n"
     ]
    },
    {
     "name": "stderr",
     "output_type": "stream",
     "text": [
      "                                                              \r"
     ]
    },
    {
     "name": "stdout",
     "output_type": "stream",
     "text": [
      "No improvement for 1 epoch(s)\n",
      "Train Loss: 0.0129 | Val Loss: 0.0156\n",
      "Learning Rate: 0.000295\n",
      "\n",
      "Epoch 11/100\n"
     ]
    },
    {
     "name": "stderr",
     "output_type": "stream",
     "text": [
      "                                                              \r"
     ]
    },
    {
     "name": "stdout",
     "output_type": "stream",
     "text": [
      "No improvement for 2 epoch(s)\n",
      "Train Loss: 0.0123 | Val Loss: 0.0160\n",
      "Learning Rate: 0.000295\n",
      "\n",
      "Epoch 12/100\n"
     ]
    },
    {
     "name": "stderr",
     "output_type": "stream",
     "text": [
      "                                                              \r"
     ]
    },
    {
     "name": "stdout",
     "output_type": "stream",
     "text": [
      "Best model saved: /home/gabriel/VSProjects/audio_analysis/DenoisingAutoencoder/checkpoints/model_trial_16.pth (val loss: 0.0134)\n",
      "Train Loss: 0.0117 | Val Loss: 0.0134\n",
      "Learning Rate: 0.000295\n",
      "\n",
      "Epoch 13/100\n"
     ]
    },
    {
     "name": "stderr",
     "output_type": "stream",
     "text": [
      "                                                              \r"
     ]
    },
    {
     "name": "stdout",
     "output_type": "stream",
     "text": [
      "Best model saved: /home/gabriel/VSProjects/audio_analysis/DenoisingAutoencoder/checkpoints/model_trial_16.pth (val loss: 0.0131)\n",
      "Train Loss: 0.0115 | Val Loss: 0.0131\n",
      "Learning Rate: 0.000295\n",
      "\n",
      "Epoch 14/100\n"
     ]
    },
    {
     "name": "stderr",
     "output_type": "stream",
     "text": [
      "                                                              \r"
     ]
    },
    {
     "name": "stdout",
     "output_type": "stream",
     "text": [
      "No improvement for 1 epoch(s)\n",
      "Train Loss: 0.0110 | Val Loss: 0.0520\n",
      "Learning Rate: 0.000295\n",
      "\n",
      "Epoch 15/100\n"
     ]
    },
    {
     "name": "stderr",
     "output_type": "stream",
     "text": [
      "                                                              \r"
     ]
    },
    {
     "name": "stdout",
     "output_type": "stream",
     "text": [
      "No improvement for 2 epoch(s)\n",
      "Train Loss: 0.0108 | Val Loss: 0.0141\n",
      "Learning Rate: 0.000295\n",
      "\n",
      "Epoch 16/100\n"
     ]
    },
    {
     "name": "stderr",
     "output_type": "stream",
     "text": [
      "                                                              \r"
     ]
    },
    {
     "name": "stdout",
     "output_type": "stream",
     "text": [
      "No improvement for 3 epoch(s)\n",
      "Train Loss: 0.0108 | Val Loss: 0.0134\n",
      "Learning Rate: 0.000030\n",
      "\n",
      "Epoch 17/100\n"
     ]
    },
    {
     "name": "stderr",
     "output_type": "stream",
     "text": [
      "                                                              \r"
     ]
    },
    {
     "name": "stdout",
     "output_type": "stream",
     "text": [
      "Best model saved: /home/gabriel/VSProjects/audio_analysis/DenoisingAutoencoder/checkpoints/model_trial_16.pth (val loss: 0.0130)\n",
      "Train Loss: 0.0097 | Val Loss: 0.0130\n",
      "Learning Rate: 0.000030\n",
      "\n",
      "Epoch 18/100\n"
     ]
    },
    {
     "name": "stderr",
     "output_type": "stream",
     "text": [
      "                                                              \r"
     ]
    },
    {
     "name": "stdout",
     "output_type": "stream",
     "text": [
      "Best model saved: /home/gabriel/VSProjects/audio_analysis/DenoisingAutoencoder/checkpoints/model_trial_16.pth (val loss: 0.0129)\n",
      "Train Loss: 0.0096 | Val Loss: 0.0129\n",
      "Learning Rate: 0.000030\n",
      "\n",
      "Epoch 19/100\n"
     ]
    },
    {
     "name": "stderr",
     "output_type": "stream",
     "text": [
      "                                                              \r"
     ]
    },
    {
     "name": "stdout",
     "output_type": "stream",
     "text": [
      "Best model saved: /home/gabriel/VSProjects/audio_analysis/DenoisingAutoencoder/checkpoints/model_trial_16.pth (val loss: 0.0127)\n",
      "Train Loss: 0.0095 | Val Loss: 0.0127\n",
      "Learning Rate: 0.000030\n",
      "\n",
      "Epoch 20/100\n"
     ]
    },
    {
     "name": "stderr",
     "output_type": "stream",
     "text": [
      "                                                              \r"
     ]
    },
    {
     "name": "stdout",
     "output_type": "stream",
     "text": [
      "No improvement for 1 epoch(s)\n",
      "Train Loss: 0.0095 | Val Loss: 0.0128\n",
      "Learning Rate: 0.000030\n",
      "\n",
      "Epoch 21/100\n"
     ]
    },
    {
     "name": "stderr",
     "output_type": "stream",
     "text": [
      "                                                              \r"
     ]
    },
    {
     "name": "stdout",
     "output_type": "stream",
     "text": [
      "Best model saved: /home/gabriel/VSProjects/audio_analysis/DenoisingAutoencoder/checkpoints/model_trial_16.pth (val loss: 0.0126)\n",
      "Train Loss: 0.0094 | Val Loss: 0.0126\n",
      "Learning Rate: 0.000030\n",
      "\n",
      "Epoch 22/100\n"
     ]
    },
    {
     "name": "stderr",
     "output_type": "stream",
     "text": [
      "                                                              \r"
     ]
    },
    {
     "name": "stdout",
     "output_type": "stream",
     "text": [
      "No improvement for 1 epoch(s)\n",
      "Train Loss: 0.0094 | Val Loss: 0.0129\n",
      "Learning Rate: 0.000030\n",
      "\n",
      "Epoch 23/100\n"
     ]
    },
    {
     "name": "stderr",
     "output_type": "stream",
     "text": [
      "                                                              \r"
     ]
    },
    {
     "name": "stdout",
     "output_type": "stream",
     "text": [
      "No improvement for 2 epoch(s)\n",
      "Train Loss: 0.0093 | Val Loss: 0.0131\n",
      "Learning Rate: 0.000030\n",
      "\n",
      "Epoch 24/100\n"
     ]
    },
    {
     "name": "stderr",
     "output_type": "stream",
     "text": [
      "                                                              \r"
     ]
    },
    {
     "name": "stdout",
     "output_type": "stream",
     "text": [
      "No improvement for 3 epoch(s)\n",
      "Train Loss: 0.0093 | Val Loss: 0.0127\n",
      "Learning Rate: 0.000003\n",
      "\n",
      "Epoch 25/100\n"
     ]
    },
    {
     "name": "stderr",
     "output_type": "stream",
     "text": [
      "                                                              \r"
     ]
    },
    {
     "name": "stdout",
     "output_type": "stream",
     "text": [
      "No improvement for 4 epoch(s)\n",
      "Train Loss: 0.0092 | Val Loss: 0.0128\n",
      "Learning Rate: 0.000003\n",
      "\n",
      "Epoch 26/100\n"
     ]
    },
    {
     "name": "stderr",
     "output_type": "stream",
     "text": [
      "                                                              \r"
     ]
    },
    {
     "name": "stdout",
     "output_type": "stream",
     "text": [
      "No improvement for 5 epoch(s)\n",
      "Early stopping triggered.\n"
     ]
    },
    {
     "data": {
      "text/html": [
       "\n",
       "    <style>\n",
       "        .wandb-row {\n",
       "            display: flex;\n",
       "            flex-direction: row;\n",
       "            flex-wrap: wrap;\n",
       "            justify-content: flex-start;\n",
       "            width: 100%;\n",
       "        }\n",
       "        .wandb-col {\n",
       "            display: flex;\n",
       "            flex-direction: column;\n",
       "            flex-basis: 100%;\n",
       "            flex: 1;\n",
       "            padding: 10px;\n",
       "        }\n",
       "    </style>\n",
       "<div class=\"wandb-row\"><div class=\"wandb-col\"><h3>Run history:</h3><br/><table class=\"wandb\"><tr><td>train_loss</td><td>█▃▃▂▂▂▂▂▁▁▁▁▁▁▁▁▁▁▁▁▁▁▁▁▁</td></tr><tr><td>val_loss</td><td>▃▃▂▂▂▂▂▁▁▂▂▁▁█▁▁▁▁▁▁▁▁▁▁▁</td></tr></table><br/></div><div class=\"wandb-col\"><h3>Run summary:</h3><br/><table class=\"wandb\"><tr><td>train_loss</td><td>0.00917</td></tr><tr><td>val_loss</td><td>0.0128</td></tr></table><br/></div></div>"
      ],
      "text/plain": [
       "<IPython.core.display.HTML object>"
      ]
     },
     "metadata": {},
     "output_type": "display_data"
    },
    {
     "data": {
      "text/html": [
       " View run <strong style=\"color:#cdcd00\">classic-lake-51</strong> at: <a href='https://wandb.ai/gfiuzaa-universidade-federal-do-rio-de-janeiro/audio-denoising/runs/qs09mdk4' target=\"_blank\">https://wandb.ai/gfiuzaa-universidade-federal-do-rio-de-janeiro/audio-denoising/runs/qs09mdk4</a><br/> View project at: <a href='https://wandb.ai/gfiuzaa-universidade-federal-do-rio-de-janeiro/audio-denoising' target=\"_blank\">https://wandb.ai/gfiuzaa-universidade-federal-do-rio-de-janeiro/audio-denoising</a><br/>Synced 5 W&B file(s), 0 media file(s), 0 artifact file(s) and 0 other file(s)"
      ],
      "text/plain": [
       "<IPython.core.display.HTML object>"
      ]
     },
     "metadata": {},
     "output_type": "display_data"
    },
    {
     "data": {
      "text/html": [
       "Find logs at: <code>./wandb/run-20250428_010928-qs09mdk4/logs</code>"
      ],
      "text/plain": [
       "<IPython.core.display.HTML object>"
      ]
     },
     "metadata": {},
     "output_type": "display_data"
    },
    {
     "name": "stderr",
     "output_type": "stream",
     "text": [
      "[I 2025-04-28 01:55:04,954] Trial 16 finished with value: 0.012617661465580264 and parameters: {'base_filters': 32, 'depth': 3, 'dropout_rate': 0.05638063453006781, 'lr': 0.0002951929866638849, 'batch_size': 8}. Best is trial 13 with value: 0.011547641990085443.\n"
     ]
    }
   ],
   "source": [
    "from joblib import parallel_backend\n",
    "\n",
    "study = optuna.create_study(\n",
    "    study_name=\"audio-denoising\",\n",
    "    direction=\"minimize\",\n",
    "    storage=\"sqlite:///optuna_trials.db\",\n",
    "    load_if_exists=True,\n",
    ")\n",
    "\n",
    "with parallel_backend('loky'):\n",
    "    study.optimize(objective, n_trials=50, n_jobs=1, timeout=8*60*60)  # 8 hours"
   ]
  },
  {
   "cell_type": "code",
   "execution_count": 10,
   "metadata": {},
   "outputs": [],
   "source": [
    "import optuna\n",
    "import pandas as pd\n",
    "\n",
    "def export_study_to_csv(study_path, study_name, out_csv=\"optuna_trials.csv\"):\n",
    "    study = optuna.load_study(study_name=study_name, storage=study_path)\n",
    "\n",
    "    rows = []\n",
    "    for trial in study.trials:\n",
    "        row = {\n",
    "            \"trial\": trial.number,\n",
    "            \"val_loss\": trial.value,\n",
    "            \"model_path\": trial.user_attrs.get(\"best_model_path\", \"N/A\")\n",
    "        }\n",
    "        # Add hyperparameters\n",
    "        row.update(trial.params)\n",
    "        rows.append(row)\n",
    "\n",
    "    df = pd.DataFrame(rows)\n",
    "    df = df.sort_values(\"val_loss\")\n",
    "    df.to_csv(out_csv, index=False)\n",
    "\n",
    "    print(f\"✅ Exported {len(df)} trials to {out_csv}\")\n",
    "\n",
    "    return df"
   ]
  },
  {
   "cell_type": "code",
   "execution_count": 11,
   "metadata": {},
   "outputs": [
    {
     "name": "stdout",
     "output_type": "stream",
     "text": [
      "✅ Exported 17 trials to /home/gabriel/VSProjects/audio_analysis/DenoisingAutoencoder/notebooks/optuna_trials.csv\n"
     ]
    }
   ],
   "source": [
    "df = export_study_to_csv(\n",
    "    study_path=\"sqlite:///optuna_trials.db\",\n",
    "    study_name=\"audio-denoising\",\n",
    "    out_csv=os.getcwd() + \"/optuna_trials.csv\"\n",
    ")"
   ]
  },
  {
   "cell_type": "code",
   "execution_count": 12,
   "metadata": {},
   "outputs": [
    {
     "data": {
      "text/html": [
       "<div>\n",
       "<style scoped>\n",
       "    .dataframe tbody tr th:only-of-type {\n",
       "        vertical-align: middle;\n",
       "    }\n",
       "\n",
       "    .dataframe tbody tr th {\n",
       "        vertical-align: top;\n",
       "    }\n",
       "\n",
       "    .dataframe thead th {\n",
       "        text-align: right;\n",
       "    }\n",
       "</style>\n",
       "<table border=\"1\" class=\"dataframe\">\n",
       "  <thead>\n",
       "    <tr style=\"text-align: right;\">\n",
       "      <th></th>\n",
       "      <th>trial</th>\n",
       "      <th>val_loss</th>\n",
       "      <th>model_path</th>\n",
       "      <th>base_filters</th>\n",
       "      <th>depth</th>\n",
       "      <th>dropout_rate</th>\n",
       "      <th>lr</th>\n",
       "      <th>batch_size</th>\n",
       "    </tr>\n",
       "  </thead>\n",
       "  <tbody>\n",
       "    <tr>\n",
       "      <th>13</th>\n",
       "      <td>13</td>\n",
       "      <td>0.011548</td>\n",
       "      <td>/home/gabriel/VSProjects/audio_analysis/Denois...</td>\n",
       "      <td>32</td>\n",
       "      <td>4</td>\n",
       "      <td>0.004557</td>\n",
       "      <td>0.000401</td>\n",
       "      <td>8</td>\n",
       "    </tr>\n",
       "    <tr>\n",
       "      <th>15</th>\n",
       "      <td>15</td>\n",
       "      <td>0.012022</td>\n",
       "      <td>/home/gabriel/VSProjects/audio_analysis/Denois...</td>\n",
       "      <td>32</td>\n",
       "      <td>4</td>\n",
       "      <td>0.049452</td>\n",
       "      <td>0.000342</td>\n",
       "      <td>8</td>\n",
       "    </tr>\n",
       "    <tr>\n",
       "      <th>6</th>\n",
       "      <td>6</td>\n",
       "      <td>0.012372</td>\n",
       "      <td>/home/gabriel/VSProjects/audio_analysis/Denois...</td>\n",
       "      <td>32</td>\n",
       "      <td>4</td>\n",
       "      <td>0.043183</td>\n",
       "      <td>0.000451</td>\n",
       "      <td>8</td>\n",
       "    </tr>\n",
       "    <tr>\n",
       "      <th>16</th>\n",
       "      <td>16</td>\n",
       "      <td>0.012618</td>\n",
       "      <td>/home/gabriel/VSProjects/audio_analysis/Denois...</td>\n",
       "      <td>32</td>\n",
       "      <td>3</td>\n",
       "      <td>0.056381</td>\n",
       "      <td>0.000295</td>\n",
       "      <td>8</td>\n",
       "    </tr>\n",
       "    <tr>\n",
       "      <th>10</th>\n",
       "      <td>10</td>\n",
       "      <td>0.013474</td>\n",
       "      <td>/home/gabriel/VSProjects/audio_analysis/Denois...</td>\n",
       "      <td>32</td>\n",
       "      <td>4</td>\n",
       "      <td>0.102038</td>\n",
       "      <td>0.000924</td>\n",
       "      <td>8</td>\n",
       "    </tr>\n",
       "    <tr>\n",
       "      <th>14</th>\n",
       "      <td>14</td>\n",
       "      <td>0.013957</td>\n",
       "      <td>/home/gabriel/VSProjects/audio_analysis/Denois...</td>\n",
       "      <td>32</td>\n",
       "      <td>4</td>\n",
       "      <td>0.008029</td>\n",
       "      <td>0.000064</td>\n",
       "      <td>8</td>\n",
       "    </tr>\n",
       "    <tr>\n",
       "      <th>5</th>\n",
       "      <td>5</td>\n",
       "      <td>0.015866</td>\n",
       "      <td>/home/gabriel/VSProjects/audio_analysis/Denois...</td>\n",
       "      <td>32</td>\n",
       "      <td>3</td>\n",
       "      <td>0.009160</td>\n",
       "      <td>0.000022</td>\n",
       "      <td>8</td>\n",
       "    </tr>\n",
       "    <tr>\n",
       "      <th>12</th>\n",
       "      <td>12</td>\n",
       "      <td>0.016956</td>\n",
       "      <td>/home/gabriel/VSProjects/audio_analysis/Denois...</td>\n",
       "      <td>32</td>\n",
       "      <td>4</td>\n",
       "      <td>0.102544</td>\n",
       "      <td>0.000771</td>\n",
       "      <td>8</td>\n",
       "    </tr>\n",
       "    <tr>\n",
       "      <th>11</th>\n",
       "      <td>11</td>\n",
       "      <td>0.022328</td>\n",
       "      <td>/home/gabriel/VSProjects/audio_analysis/Denois...</td>\n",
       "      <td>32</td>\n",
       "      <td>4</td>\n",
       "      <td>0.099940</td>\n",
       "      <td>0.000852</td>\n",
       "      <td>8</td>\n",
       "    </tr>\n",
       "    <tr>\n",
       "      <th>2</th>\n",
       "      <td>2</td>\n",
       "      <td>0.023014</td>\n",
       "      <td>/home/gabriel/VSProjects/audio_analysis/Denois...</td>\n",
       "      <td>16</td>\n",
       "      <td>4</td>\n",
       "      <td>0.060515</td>\n",
       "      <td>0.000023</td>\n",
       "      <td>16</td>\n",
       "    </tr>\n",
       "    <tr>\n",
       "      <th>4</th>\n",
       "      <td>4</td>\n",
       "      <td>0.055521</td>\n",
       "      <td>/home/gabriel/VSProjects/audio_analysis/Denois...</td>\n",
       "      <td>16</td>\n",
       "      <td>5</td>\n",
       "      <td>0.237041</td>\n",
       "      <td>0.000232</td>\n",
       "      <td>16</td>\n",
       "    </tr>\n",
       "    <tr>\n",
       "      <th>8</th>\n",
       "      <td>8</td>\n",
       "      <td>0.056810</td>\n",
       "      <td>/home/gabriel/VSProjects/audio_analysis/Denois...</td>\n",
       "      <td>16</td>\n",
       "      <td>5</td>\n",
       "      <td>0.178945</td>\n",
       "      <td>0.000043</td>\n",
       "      <td>16</td>\n",
       "    </tr>\n",
       "    <tr>\n",
       "      <th>7</th>\n",
       "      <td>7</td>\n",
       "      <td>0.059863</td>\n",
       "      <td>/home/gabriel/VSProjects/audio_analysis/Denois...</td>\n",
       "      <td>16</td>\n",
       "      <td>5</td>\n",
       "      <td>0.291120</td>\n",
       "      <td>0.000395</td>\n",
       "      <td>16</td>\n",
       "    </tr>\n",
       "    <tr>\n",
       "      <th>1</th>\n",
       "      <td>1</td>\n",
       "      <td>0.061256</td>\n",
       "      <td>/home/gabriel/VSProjects/audio_analysis/Denois...</td>\n",
       "      <td>16</td>\n",
       "      <td>3</td>\n",
       "      <td>0.246746</td>\n",
       "      <td>0.000031</td>\n",
       "      <td>16</td>\n",
       "    </tr>\n",
       "    <tr>\n",
       "      <th>3</th>\n",
       "      <td>3</td>\n",
       "      <td>0.072808</td>\n",
       "      <td>/home/gabriel/VSProjects/audio_analysis/Denois...</td>\n",
       "      <td>16</td>\n",
       "      <td>5</td>\n",
       "      <td>0.233720</td>\n",
       "      <td>0.000139</td>\n",
       "      <td>16</td>\n",
       "    </tr>\n",
       "    <tr>\n",
       "      <th>0</th>\n",
       "      <td>0</td>\n",
       "      <td>0.077063</td>\n",
       "      <td>/home/gabriel/VSProjects/audio_analysis/Denois...</td>\n",
       "      <td>16</td>\n",
       "      <td>3</td>\n",
       "      <td>0.249833</td>\n",
       "      <td>0.000018</td>\n",
       "      <td>16</td>\n",
       "    </tr>\n",
       "    <tr>\n",
       "      <th>9</th>\n",
       "      <td>9</td>\n",
       "      <td>inf</td>\n",
       "      <td>N/A</td>\n",
       "      <td>32</td>\n",
       "      <td>5</td>\n",
       "      <td>0.191674</td>\n",
       "      <td>0.000171</td>\n",
       "      <td>16</td>\n",
       "    </tr>\n",
       "  </tbody>\n",
       "</table>\n",
       "</div>"
      ],
      "text/plain": [
       "    trial  val_loss                                         model_path  \\\n",
       "13     13  0.011548  /home/gabriel/VSProjects/audio_analysis/Denois...   \n",
       "15     15  0.012022  /home/gabriel/VSProjects/audio_analysis/Denois...   \n",
       "6       6  0.012372  /home/gabriel/VSProjects/audio_analysis/Denois...   \n",
       "16     16  0.012618  /home/gabriel/VSProjects/audio_analysis/Denois...   \n",
       "10     10  0.013474  /home/gabriel/VSProjects/audio_analysis/Denois...   \n",
       "14     14  0.013957  /home/gabriel/VSProjects/audio_analysis/Denois...   \n",
       "5       5  0.015866  /home/gabriel/VSProjects/audio_analysis/Denois...   \n",
       "12     12  0.016956  /home/gabriel/VSProjects/audio_analysis/Denois...   \n",
       "11     11  0.022328  /home/gabriel/VSProjects/audio_analysis/Denois...   \n",
       "2       2  0.023014  /home/gabriel/VSProjects/audio_analysis/Denois...   \n",
       "4       4  0.055521  /home/gabriel/VSProjects/audio_analysis/Denois...   \n",
       "8       8  0.056810  /home/gabriel/VSProjects/audio_analysis/Denois...   \n",
       "7       7  0.059863  /home/gabriel/VSProjects/audio_analysis/Denois...   \n",
       "1       1  0.061256  /home/gabriel/VSProjects/audio_analysis/Denois...   \n",
       "3       3  0.072808  /home/gabriel/VSProjects/audio_analysis/Denois...   \n",
       "0       0  0.077063  /home/gabriel/VSProjects/audio_analysis/Denois...   \n",
       "9       9       inf                                                N/A   \n",
       "\n",
       "    base_filters  depth  dropout_rate        lr  batch_size  \n",
       "13            32      4      0.004557  0.000401           8  \n",
       "15            32      4      0.049452  0.000342           8  \n",
       "6             32      4      0.043183  0.000451           8  \n",
       "16            32      3      0.056381  0.000295           8  \n",
       "10            32      4      0.102038  0.000924           8  \n",
       "14            32      4      0.008029  0.000064           8  \n",
       "5             32      3      0.009160  0.000022           8  \n",
       "12            32      4      0.102544  0.000771           8  \n",
       "11            32      4      0.099940  0.000852           8  \n",
       "2             16      4      0.060515  0.000023          16  \n",
       "4             16      5      0.237041  0.000232          16  \n",
       "8             16      5      0.178945  0.000043          16  \n",
       "7             16      5      0.291120  0.000395          16  \n",
       "1             16      3      0.246746  0.000031          16  \n",
       "3             16      5      0.233720  0.000139          16  \n",
       "0             16      3      0.249833  0.000018          16  \n",
       "9             32      5      0.191674  0.000171          16  "
      ]
     },
     "execution_count": 12,
     "metadata": {},
     "output_type": "execute_result"
    }
   ],
   "source": [
    "df"
   ]
  }
 ],
 "metadata": {
  "kernelspec": {
   "display_name": "venv_audio",
   "language": "python",
   "name": "python3"
  },
  "language_info": {
   "codemirror_mode": {
    "name": "ipython",
    "version": 3
   },
   "file_extension": ".py",
   "mimetype": "text/x-python",
   "name": "python",
   "nbconvert_exporter": "python",
   "pygments_lexer": "ipython3",
   "version": "3.7.16"
  },
  "orig_nbformat": 4
 },
 "nbformat": 4,
 "nbformat_minor": 2
}
